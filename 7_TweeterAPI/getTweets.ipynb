{
 "cells": [
  {
   "cell_type": "code",
   "execution_count": 1,
   "id": "18f9bdf2-6111-4e21-8c10-1853636a31b6",
   "metadata": {},
   "outputs": [
    {
     "name": "stdout",
     "output_type": "stream",
     "text": [
      "query keywords: \"COVID-19\" OR \"#COVID-19\" -filter:retweets\n"
     ]
    }
   ],
   "source": [
    "import tweepy\n",
    "from tweepy import OAuthHandler\n",
    "import re\n",
    "import emoji\n",
    "\n",
    "#### Follow this article to get the following keys and secrets ####\n",
    "#### https://medium.com/geekculture/how-to-get-twitter-data-with-tweepy-4663fbc8b90b ####\n",
    "consumer_key = \"\"\n",
    "consumer_secret = \"\"\n",
    "access_token = \"\"\n",
    "access_token_secret = \"\"\n",
    "\n",
    "query = '\"COVID-19\" OR \"#COVID-19\" -filter:retweets'  # change query keyword(s) based on practicum requirement\n",
    "num_tweets_to_scrape = 1000          # change target number of tweets based on practicum requirement\n",
    "\n",
    "class tweet_grab:\n",
    "\n",
    "    def on_data(self, query):\n",
    "        print(\"query keywords:\", query)\n",
    "\n",
    "        # Copy from twitter to file\n",
    "        with open('receivedTweets.txt','w', encoding=\"utf-8\") as tf:\n",
    "            tweets = tweepy.Cursor(api.search_tweets, q=query, lang=\"en\", result_type=\"recent\", tweet_mode=\"extended\").items(num_tweets_to_scrape)\n",
    "            for t in tweets:\n",
    "                # you may want to start tweet cleaning here\n",
    "                # Extract full text from the JSON response \n",
    "                text = t.full_text\n",
    "                # Remove emojis and links from the tweet\n",
    "                text = emoji.replace_emoji(text, replace='')\n",
    "                text = re.sub(r\"http\\S+\", \"\", text)\n",
    "                # Change to lowercase \n",
    "                text = text.lower()\n",
    "                # Remove all punctuations\n",
    "                text = re.sub(r\"[^A-Za-z0-9\\s]\", \"\", text)\n",
    "                # Remove all other special characters \n",
    "                text = \" \".join([word for word in text.split() if word.isalnum()])\n",
    "                # end tweet cleaning\n",
    "                tf.write(text)\n",
    "                tf.write('\\n\\n\\n')\n",
    "\n",
    "if __name__ == '__main__':\n",
    "    #This handles Twitter authetification and the connection to Twitter Streaming API\n",
    "    auth = OAuthHandler(consumer_key, consumer_secret)\n",
    "    auth.set_access_token(access_token, access_token_secret)\n",
    "    api = tweepy.API(auth, wait_on_rate_limit=True)\n",
    "    tweet_grab().on_data(query)"
   ]
  }
 ],
 "metadata": {
  "kernelspec": {
   "display_name": "base_env",
   "language": "python",
   "name": "python3"
  },
  "language_info": {
   "codemirror_mode": {
    "name": "ipython",
    "version": 3
   },
   "file_extension": ".py",
   "mimetype": "text/x-python",
   "name": "python",
   "nbconvert_exporter": "python",
   "pygments_lexer": "ipython3",
   "version": "3.8.13"
  },
  "vscode": {
   "interpreter": {
    "hash": "39512f3c2a1741d7f752d45a133d4514127029333ea14bc2f3c6c5e6759b9029"
   }
  }
 },
 "nbformat": 4,
 "nbformat_minor": 5
}
