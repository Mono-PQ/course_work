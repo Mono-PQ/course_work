{
 "cells": [
  {
   "cell_type": "markdown",
   "metadata": {},
   "source": [
    "# King County, Washington Housing Sales Data Analysis\n",
    "\n",
    "Datasource: [House Sales in King County, USA](https://www.kaggle.com/datasets/harlfoxem/housesalesprediction)"
   ]
  },
  {
   "cell_type": "code",
   "execution_count": 1,
   "metadata": {},
   "outputs": [],
   "source": [
    "import pandas as pd \n",
    "import numpy as np \n",
    "import plotly.express as px \n",
    "import matplotlib.pyplot as plt"
   ]
  },
  {
   "cell_type": "code",
   "execution_count": 2,
   "metadata": {},
   "outputs": [
    {
     "name": "stdout",
     "output_type": "stream",
     "text": [
      "Shape of dataframe: (21060, 16)\n"
     ]
    }
   ],
   "source": [
    "df = pd.read_excel(\"HouseData.xlsx\", engine=\"openpyxl\")\n",
    "print(f\"Shape of dataframe: {df.shape}\")"
   ]
  },
  {
   "cell_type": "code",
   "execution_count": 3,
   "metadata": {},
   "outputs": [
    {
     "name": "stdout",
     "output_type": "stream",
     "text": [
      "<class 'pandas.core.frame.DataFrame'>\n",
      "RangeIndex: 21060 entries, 0 to 21059\n",
      "Data columns (total 16 columns):\n",
      " #   Column       Non-Null Count  Dtype  \n",
      "---  ------       --------------  -----  \n",
      " 0   id           21060 non-null  int64  \n",
      " 1   date         21060 non-null  object \n",
      " 2   price        21060 non-null  int64  \n",
      " 3   bedrooms     21060 non-null  int64  \n",
      " 4   bathrooms    21060 non-null  float64\n",
      " 5   sqft_living  21060 non-null  int64  \n",
      " 6   sqft_lot     21060 non-null  int64  \n",
      " 7   floors       21060 non-null  float64\n",
      " 8   waterfront   21060 non-null  object \n",
      " 9   view         21060 non-null  object \n",
      " 10  condition    21060 non-null  object \n",
      " 11  grade        21060 non-null  int64  \n",
      " 12  yr_built     21060 non-null  int64  \n",
      " 13  zipcode      21060 non-null  int64  \n",
      " 14  lat          21060 non-null  float64\n",
      " 15  long         21060 non-null  float64\n",
      "dtypes: float64(4), int64(8), object(4)\n",
      "memory usage: 2.6+ MB\n"
     ]
    }
   ],
   "source": [
    "# Check for missing values\n",
    "df.info()"
   ]
  },
  {
   "cell_type": "code",
   "execution_count": 9,
   "metadata": {},
   "outputs": [],
   "source": [
    "df['date'] = pd.to_datetime(df['date'])"
   ]
  },
  {
   "cell_type": "code",
   "execution_count": 5,
   "metadata": {},
   "outputs": [
    {
     "data": {
      "text/plain": [
       "0"
      ]
     },
     "execution_count": 5,
     "metadata": {},
     "output_type": "execute_result"
    }
   ],
   "source": [
    "# Check for duplicated entries\n",
    "df.duplicated().sum()"
   ]
  },
  {
   "cell_type": "code",
   "execution_count": 7,
   "metadata": {},
   "outputs": [
    {
     "data": {
      "text/html": [
       "<div>\n",
       "<style scoped>\n",
       "    .dataframe tbody tr th:only-of-type {\n",
       "        vertical-align: middle;\n",
       "    }\n",
       "\n",
       "    .dataframe tbody tr th {\n",
       "        vertical-align: top;\n",
       "    }\n",
       "\n",
       "    .dataframe thead th {\n",
       "        text-align: right;\n",
       "    }\n",
       "</style>\n",
       "<table border=\"1\" class=\"dataframe\">\n",
       "  <thead>\n",
       "    <tr style=\"text-align: right;\">\n",
       "      <th></th>\n",
       "      <th>price</th>\n",
       "      <th>bedrooms</th>\n",
       "      <th>bathrooms</th>\n",
       "      <th>sqft_living</th>\n",
       "      <th>sqft_lot</th>\n",
       "      <th>floors</th>\n",
       "      <th>grade</th>\n",
       "    </tr>\n",
       "  </thead>\n",
       "  <tbody>\n",
       "    <tr>\n",
       "      <th>count</th>\n",
       "      <td>2.106000e+04</td>\n",
       "      <td>21060.000000</td>\n",
       "      <td>21060.000000</td>\n",
       "      <td>21060.000000</td>\n",
       "      <td>2.106000e+04</td>\n",
       "      <td>21060.000000</td>\n",
       "      <td>21060.000000</td>\n",
       "    </tr>\n",
       "    <tr>\n",
       "      <th>mean</th>\n",
       "      <td>5.002696e+05</td>\n",
       "      <td>3.343162</td>\n",
       "      <td>2.077991</td>\n",
       "      <td>2019.486942</td>\n",
       "      <td>1.474301e+04</td>\n",
       "      <td>1.484924</td>\n",
       "      <td>7.590123</td>\n",
       "    </tr>\n",
       "    <tr>\n",
       "      <th>std</th>\n",
       "      <td>2.465775e+05</td>\n",
       "      <td>0.882395</td>\n",
       "      <td>0.729351</td>\n",
       "      <td>822.018441</td>\n",
       "      <td>3.995697e+04</td>\n",
       "      <td>0.538113</td>\n",
       "      <td>1.095947</td>\n",
       "    </tr>\n",
       "    <tr>\n",
       "      <th>min</th>\n",
       "      <td>7.500000e+04</td>\n",
       "      <td>0.000000</td>\n",
       "      <td>0.000000</td>\n",
       "      <td>290.000000</td>\n",
       "      <td>5.200000e+02</td>\n",
       "      <td>1.000000</td>\n",
       "      <td>1.000000</td>\n",
       "    </tr>\n",
       "    <tr>\n",
       "      <th>25%</th>\n",
       "      <td>3.199500e+05</td>\n",
       "      <td>3.000000</td>\n",
       "      <td>1.500000</td>\n",
       "      <td>1410.000000</td>\n",
       "      <td>5.001000e+03</td>\n",
       "      <td>1.000000</td>\n",
       "      <td>7.000000</td>\n",
       "    </tr>\n",
       "    <tr>\n",
       "      <th>50%</th>\n",
       "      <td>4.450000e+05</td>\n",
       "      <td>3.000000</td>\n",
       "      <td>2.250000</td>\n",
       "      <td>1890.000000</td>\n",
       "      <td>7.553500e+03</td>\n",
       "      <td>1.000000</td>\n",
       "      <td>7.000000</td>\n",
       "    </tr>\n",
       "    <tr>\n",
       "      <th>75%</th>\n",
       "      <td>6.250000e+05</td>\n",
       "      <td>4.000000</td>\n",
       "      <td>2.500000</td>\n",
       "      <td>2490.000000</td>\n",
       "      <td>1.045400e+04</td>\n",
       "      <td>2.000000</td>\n",
       "      <td>8.000000</td>\n",
       "    </tr>\n",
       "    <tr>\n",
       "      <th>max</th>\n",
       "      <td>1.495000e+06</td>\n",
       "      <td>7.000000</td>\n",
       "      <td>6.750000</td>\n",
       "      <td>7480.000000</td>\n",
       "      <td>1.651359e+06</td>\n",
       "      <td>3.500000</td>\n",
       "      <td>12.000000</td>\n",
       "    </tr>\n",
       "  </tbody>\n",
       "</table>\n",
       "</div>"
      ],
      "text/plain": [
       "              price      bedrooms     bathrooms   sqft_living      sqft_lot  \\\n",
       "count  2.106000e+04  21060.000000  21060.000000  21060.000000  2.106000e+04   \n",
       "mean   5.002696e+05      3.343162      2.077991   2019.486942  1.474301e+04   \n",
       "std    2.465775e+05      0.882395      0.729351    822.018441  3.995697e+04   \n",
       "min    7.500000e+04      0.000000      0.000000    290.000000  5.200000e+02   \n",
       "25%    3.199500e+05      3.000000      1.500000   1410.000000  5.001000e+03   \n",
       "50%    4.450000e+05      3.000000      2.250000   1890.000000  7.553500e+03   \n",
       "75%    6.250000e+05      4.000000      2.500000   2490.000000  1.045400e+04   \n",
       "max    1.495000e+06      7.000000      6.750000   7480.000000  1.651359e+06   \n",
       "\n",
       "             floors         grade  \n",
       "count  21060.000000  21060.000000  \n",
       "mean       1.484924      7.590123  \n",
       "std        0.538113      1.095947  \n",
       "min        1.000000      1.000000  \n",
       "25%        1.000000      7.000000  \n",
       "50%        1.000000      7.000000  \n",
       "75%        2.000000      8.000000  \n",
       "max        3.500000     12.000000  "
      ]
     },
     "execution_count": 7,
     "metadata": {},
     "output_type": "execute_result"
    }
   ],
   "source": [
    "quant_cols = ['price', 'bedrooms', 'bathrooms', 'sqft_living', 'sqft_lot', 'floors', 'grade']\n",
    "df[quant_cols].describe()"
   ]
  },
  {
   "cell_type": "code",
   "execution_count": 10,
   "metadata": {},
   "outputs": [
    {
     "data": {
      "text/html": [
       "<div>\n",
       "<style scoped>\n",
       "    .dataframe tbody tr th:only-of-type {\n",
       "        vertical-align: middle;\n",
       "    }\n",
       "\n",
       "    .dataframe tbody tr th {\n",
       "        vertical-align: top;\n",
       "    }\n",
       "\n",
       "    .dataframe thead th {\n",
       "        text-align: right;\n",
       "    }\n",
       "</style>\n",
       "<table border=\"1\" class=\"dataframe\">\n",
       "  <thead>\n",
       "    <tr style=\"text-align: right;\">\n",
       "      <th></th>\n",
       "      <th>waterfront</th>\n",
       "      <th>view</th>\n",
       "      <th>condition</th>\n",
       "    </tr>\n",
       "  </thead>\n",
       "  <tbody>\n",
       "    <tr>\n",
       "      <th>count</th>\n",
       "      <td>21060</td>\n",
       "      <td>21060</td>\n",
       "      <td>21060</td>\n",
       "    </tr>\n",
       "    <tr>\n",
       "      <th>unique</th>\n",
       "      <td>2</td>\n",
       "      <td>5</td>\n",
       "      <td>5</td>\n",
       "    </tr>\n",
       "    <tr>\n",
       "      <th>top</th>\n",
       "      <td>No</td>\n",
       "      <td>No View</td>\n",
       "      <td>Average</td>\n",
       "    </tr>\n",
       "    <tr>\n",
       "      <th>freq</th>\n",
       "      <td>20976</td>\n",
       "      <td>19226</td>\n",
       "      <td>13684</td>\n",
       "    </tr>\n",
       "  </tbody>\n",
       "</table>\n",
       "</div>"
      ],
      "text/plain": [
       "       waterfront     view condition\n",
       "count       21060    21060     21060\n",
       "unique          2        5         5\n",
       "top            No  No View   Average\n",
       "freq        20976    19226     13684"
      ]
     },
     "execution_count": 10,
     "metadata": {},
     "output_type": "execute_result"
    }
   ],
   "source": [
    "df.describe(include=\"O\")"
   ]
  },
  {
   "cell_type": "code",
   "execution_count": 13,
   "metadata": {},
   "outputs": [
    {
     "name": "stdout",
     "output_type": "stream",
     "text": [
      "Value counts of waterfront:\n",
      "waterfront\n",
      "No     20976\n",
      "Yes       84\n",
      "Name: count, dtype: int64\n",
      "--------------------------------------\n",
      "\n",
      "Value counts of view:\n",
      "view\n",
      "No View      19226\n",
      "Average        894\n",
      "Good           436\n",
      "Fair           302\n",
      "Excellent      202\n",
      "Name: count, dtype: int64\n",
      "--------------------------------------\n",
      "\n",
      "Value counts of condition:\n",
      "condition\n",
      "Average             13684\n",
      "Good                 5546\n",
      "Very Good            1630\n",
      "Fair- Badly worn      171\n",
      "Poor- Worn out         29\n",
      "Name: count, dtype: int64\n",
      "--------------------------------------\n",
      "\n"
     ]
    }
   ],
   "source": [
    "cat_cols = ['waterfront', 'view', 'condition']\n",
    "\n",
    "for category in cat_cols:\n",
    "    print(f\"Value counts of {category}:\")\n",
    "    print(df[category].value_counts())\n",
    "    print(\"--------------------------------------\")\n",
    "    print()"
   ]
  },
  {
   "cell_type": "markdown",
   "metadata": {},
   "source": [
    "No further data cleaning will be performed as dataset is clean. "
   ]
  },
  {
   "cell_type": "markdown",
   "metadata": {},
   "source": [
    "### Notes: \n",
    "- To add in regression analysis \n",
    "- To add in EDA analysis"
   ]
  }
 ],
 "metadata": {
  "kernelspec": {
   "display_name": "base_env",
   "language": "python",
   "name": "python3"
  },
  "language_info": {
   "codemirror_mode": {
    "name": "ipython",
    "version": 3
   },
   "file_extension": ".py",
   "mimetype": "text/x-python",
   "name": "python",
   "nbconvert_exporter": "python",
   "pygments_lexer": "ipython3",
   "version": "3.8.13"
  },
  "orig_nbformat": 4
 },
 "nbformat": 4,
 "nbformat_minor": 2
}
