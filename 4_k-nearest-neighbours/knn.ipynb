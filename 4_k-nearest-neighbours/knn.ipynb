{
 "cells": [
  {
   "attachments": {},
   "cell_type": "markdown",
   "id": "04a41810",
   "metadata": {},
   "source": [
    "# K-Nearest Neighbours"
   ]
  },
  {
   "cell_type": "markdown",
   "id": "93cd0f49",
   "metadata": {},
   "source": [
    "# 1 - Abstract"
   ]
  },
  {
   "attachments": {},
   "cell_type": "markdown",
   "id": "6a70b5ed",
   "metadata": {},
   "source": [
    "The objective is to write the functions required to implement the K-Nearest Neighbour (KNN) algorithm to classify the age of the abalone. The dataset originates from [UCI Machine Learning repository](https://archive.ics.uci.edu/ml/datasets/Abalone). "
   ]
  },
  {
   "cell_type": "markdown",
   "id": "a4a7976d",
   "metadata": {},
   "source": [
    "#### Summary of results and findings"
   ]
  },
  {
   "cell_type": "markdown",
   "id": "781601b1",
   "metadata": {},
   "source": [
    "__I. Accuracy__"
   ]
  },
  {
   "cell_type": "markdown",
   "id": "31ec957d",
   "metadata": {},
   "source": [
    "Based on the implementation of KNN to predict the age of the abalone, it was noted that the experiment setup using train-and-test split with a ratio of 70:30 and k-neighbours as 20 has the best accuracy of 27.614% where accuracy is calculated as a percentage of the correct numbers of prediction over the total number of predictions. However, it's considerably low and reflects that it's difficult for the algorithm to predict the abalone's age accurately.\n",
    "\n",
    "One potential reason could be due to the imbalanced data set. Referring to the data set readme file, there are a total of 29 classes. However, 17 out of 29 classes have less than a hundred data points. As such, depending on how the data is split, there could be insufficient data (i.e., neighbours) in the train set to accurately predict such classes. As such, it might be helpful to gather more samples of these classes of abalone to improve the model prediction."
   ]
  },
  {
   "cell_type": "markdown",
   "id": "6861fd1d",
   "metadata": {},
   "source": [
    "__II. Computational Time__"
   ]
  },
  {
   "cell_type": "markdown",
   "id": "4b5b1ce3",
   "metadata": {},
   "source": [
    "As for computational time, it was noted that k-fold cross validation requires more computation time and resources as compared to train-and-test split. This is due to the additional iterations required to calculate the euclidean distances in the train partitions and predict the output in the test partition for each fold. For more details, reference to [section 5f](#plot) on the computation of the time taken."
   ]
  },
  {
   "cell_type": "markdown",
   "id": "0211e635",
   "metadata": {},
   "source": [
    "# 2 - Introduction"
   ]
  },
  {
   "cell_type": "markdown",
   "id": "d333376e",
   "metadata": {},
   "source": [
    "**Classification** problem refers to grouping similar data or classifying data of by specific categories using a predetermined set of features. The output of a classification problem has discrete value (which is generally represented by an integer number). \n",
    "\n",
    "Specifically for this practicum, we'll attempt to classify the age of the abalone into 15 classes (i.e., Rings) with the following features:\n",
    "\n",
    "|Features|Data Type|Measures|Description|\n",
    "|--------|---------|--------|-----------|\n",
    "|Sex|Nominal|M, F, I (Infant)|Nil|\n",
    "|Length|Continuous|mm|Longest shell measurement|\n",
    "|Diameter|Continuous|mm|Perpendicular to length|\n",
    "|Height|Continuous|mm|With meat in shell|\n",
    "|Whole weight|Continuous|grams|Whole abalone|\n",
    "|Shucked weight|Continuous|grams|Weight of meat|\n",
    "|Viscera weight|Continuous|grams|Gut weight (after bleeding)|\n",
    "|Shell weight|Continuous|grams|After being dried|"
   ]
  },
  {
   "cell_type": "markdown",
   "id": "e7dd8b73",
   "metadata": {},
   "source": [
    "**K-Nearest Neighbours (KNN)** algorithm assumes that similar data points exist in close proximity. Distance between the points of the dataset and the data point that we would like to predict would be calculated. The neighbouring data points will be used to predict the outcome of the new data point by choosing the most common categories for classification or the mean of the neighbours for regression. \"K\" represents the number of neighbours used to predict the outcome. \n",
    "\n",
    "There are many ways to calculate the distance between the data points. In this practicum, we'll use the Euclidean distance (formula as shown below) for the calculation.\n",
    "\n",
    "$Euclidean Distance = d(p,q) = \\sqrt{(p_{1}-q_{1})^2 + (p_{2}-q_{2})^2 + ... + (p_{n}-q_{n})^2 }$\n",
    "\n",
    "When using KNN for prediction, it is crucial for us to normalise the data points to ensure that the distance is not being influenced by features with higher scale of measurements that could result in misclassifications. This is due to distance dependent algorithm (such as KNN) putting more weight on higher scaled features (or independent variables).\n",
    "\n",
    "For this practicum, we will explore the following range of K-neighbours: 1, 5, 10, 15, 20 in the respective experiment setups and make a comparison on the accuracy and computation run time among the setups."
   ]
  },
  {
   "cell_type": "markdown",
   "id": "95a6a648",
   "metadata": {},
   "source": [
    "# 3 - Accuracy"
   ]
  },
  {
   "cell_type": "markdown",
   "id": "8647155e",
   "metadata": {},
   "source": [
    "The accuracy is calculated using the percentage of accurate predictions. Values are rounded up to 3 decimal places. \n",
    "* The highest and lowest accuracy for train-and-test split are 27.614% for 70:30 split where k-neighbour=20 and 18.861% for 50:50 split where k-neighbour=1. \n",
    "* The highest and lowest accuracy for k-fold cross validation split are 25.659% for k-fold = 15 where k-neighbour=20 and 18.861% for k-fold=1 where k-neighbour=1.\n",
    "\n",
    "For detailed execution of the experiment setups, please refer to [section 5d](#code) below. \n",
    "\n",
    "|Accuracy|Train-and-Test|    |    |Cross-Validation|    |    |\n",
    "|--------|--------------|----|----|----------------|----|----|\n",
    "| |0.7-0.3|0.6-0.4|0.5-0.5|5-fold|10-fold|15-fold|\n",
    "|K=1|19.393%|19.270%|<mark>18.861%</mark>|<mark>19.641%</mark>|19.895%|19.976%|\n",
    "|K=5|25.858%|24.536%|22.882%|23.401%|22.410%|23.285%|\n",
    "|K=10|24.741%|25.613%|25.227%|24.048%|23.916%|24.580%|\n",
    "|K=15|26.257%|26.272%|26.663%|25.102%|24.731%|24.724%|\n",
    "|K=20|<mark>27.614%</mark>|27.169%|26.472%|25.269%|25.162%|<mark>25.659%</mark>|"
   ]
  },
  {
   "cell_type": "markdown",
   "id": "27bc09ba",
   "metadata": {},
   "source": [
    "# 4 - Running Time"
   ]
  },
  {
   "cell_type": "markdown",
   "id": "6e9a0d69",
   "metadata": {},
   "source": [
    "The computational time is tabulated using the `default_timer` in the `timeit` library. Values are rounded up to 3 decimal places. For detailed execution of the experiment setups, please refer to [section 5f](#code) below. \n",
    "\n",
    "|Computational Time|Train-and-Test|    |    |Cross-Validation|    |    |\n",
    "|------------------|--------------|----|----|----------------|----|----|\n",
    "| |0.7-0.3|0.6-0.4|0.5-0.5|5-fold|10-fold|15-fol|\n",
    "|K=1|11.969 seconds|13.483 seconds|14.147 seconds|45.429 seconds|50.753 seconds|52.492 seconds|\n",
    "|K=5|12.136 seconds|13.474 seconds|14.070 seconds|45.299 seconds|50.434 seconds|52.282 seconds|\n",
    "|K=10|11.931 seconds|13.479 seconds|13.972 seconds|45.307 seconds|50.532 seconds|52.689 seconds|\n",
    "|K=15|11.906 seconds|13.605 seconds|13.977 seconds|45.840 seconds|50.737 seconds|52.855 seconds|\n",
    "|K=20|11.936 seconds|13.662 seconds|13.992 seconds|45.423 seconds|50.601 seconds|52.021 seconds|"
   ]
  },
  {
   "cell_type": "markdown",
   "id": "2a5c7c44",
   "metadata": {},
   "source": [
    "# 5 - Tasks"
   ]
  },
  {
   "cell_type": "markdown",
   "id": "d8a87891",
   "metadata": {},
   "source": [
    "### a. Load data from file "
   ]
  },
  {
   "cell_type": "code",
   "execution_count": 1,
   "id": "4c2f46c3",
   "metadata": {
    "ExecuteTime": {
     "end_time": "2022-04-14T09:28:20.931438Z",
     "start_time": "2022-04-14T09:28:20.920140Z"
    }
   },
   "outputs": [],
   "source": [
    "import warnings\n",
    "warnings.filterwarnings('ignore')"
   ]
  },
  {
   "cell_type": "code",
   "execution_count": 2,
   "id": "f6179dc4",
   "metadata": {
    "ExecuteTime": {
     "end_time": "2022-04-14T09:28:21.049549Z",
     "start_time": "2022-04-14T09:28:20.933563Z"
    }
   },
   "outputs": [],
   "source": [
    "# Import all functions required for the KNN implementation\n",
    "from knn import *\n",
    "np.random.seed(42)\n",
    "\n",
    "# Load dataset\n",
    "X = loadData('abalone.data')"
   ]
  },
  {
   "cell_type": "code",
   "execution_count": 3,
   "id": "5d106cd6",
   "metadata": {
    "ExecuteTime": {
     "end_time": "2022-04-14T09:28:21.054537Z",
     "start_time": "2022-04-14T09:28:21.050267Z"
    }
   },
   "outputs": [
    {
     "data": {
      "text/plain": [
       "(4177, 9)"
      ]
     },
     "execution_count": 3,
     "metadata": {},
     "output_type": "execute_result"
    }
   ],
   "source": [
    "# Verify the size of dataset (4177,9)\n",
    "X.shape"
   ]
  },
  {
   "cell_type": "markdown",
   "id": "6b713a54",
   "metadata": {},
   "source": [
    "### b. Normalize the data set"
   ]
  },
  {
   "cell_type": "markdown",
   "id": "d8a364cd",
   "metadata": {},
   "source": [
    "Normalization equation:\n",
    "$X' = \\frac{X-min}{max-min}$"
   ]
  },
  {
   "cell_type": "code",
   "execution_count": 4,
   "id": "69a48484",
   "metadata": {
    "ExecuteTime": {
     "end_time": "2022-04-14T09:28:21.058717Z",
     "start_time": "2022-04-14T09:28:21.056195Z"
    }
   },
   "outputs": [],
   "source": [
    "# Normalisation of the 8 input attributes\n",
    "X_norm = dataNorm(X)"
   ]
  },
  {
   "cell_type": "code",
   "execution_count": 5,
   "id": "bf5ff851",
   "metadata": {
    "ExecuteTime": {
     "end_time": "2022-04-14T09:28:21.061885Z",
     "start_time": "2022-04-14T09:28:21.059715Z"
    }
   },
   "outputs": [
    {
     "name": "stdout",
     "output_type": "stream",
     "text": [
      "[0.47750066 0.60674608 0.59307774 0.12346584 0.29280756 0.24100033\n",
      " 0.23712127 0.2365031  9.93368446]\n",
      "[ 1994.52023988  2534.37837838  2477.28571429   515.71681416\n",
      "  1223.05719851  1006.65837256   990.45556287   987.87344295\n",
      " 41493.        ]\n"
     ]
    }
   ],
   "source": [
    "# Verification of the result: mean and sum of each attribute: OK\n",
    "testNorm([X_norm])"
   ]
  },
  {
   "cell_type": "markdown",
   "id": "0615e7d6",
   "metadata": {},
   "source": [
    "### c. Split the dataset into training and testing set "
   ]
  },
  {
   "cell_type": "code",
   "execution_count": 6,
   "id": "78811fb8",
   "metadata": {
    "ExecuteTime": {
     "end_time": "2022-04-14T09:28:21.071799Z",
     "start_time": "2022-04-14T09:28:21.062531Z"
    }
   },
   "outputs": [],
   "source": [
    "# (i) Split dataset using train-and-test split method (60-40)\n",
    "X_split_TT70 = splitTT(X_norm, 0.7)\n",
    "X_split_TT60 = splitTT(X_norm, 0.6)\n",
    "X_split_TT50 = splitTT(X_norm, 0.5)"
   ]
  },
  {
   "cell_type": "code",
   "execution_count": 7,
   "id": "8bd0fb49",
   "metadata": {
    "ExecuteTime": {
     "end_time": "2022-04-14T09:28:21.075797Z",
     "start_time": "2022-04-14T09:28:21.072791Z"
    }
   },
   "outputs": [
    {
     "name": "stdout",
     "output_type": "stream",
     "text": [
      "[0.47750066 0.60674608 0.59307774 0.12346584 0.29280756 0.24100033\n",
      " 0.23712127 0.2365031  9.93368446]\n",
      "[ 1994.52023988  2534.37837838  2477.28571429   515.71681416\n",
      "  1223.05719851  1006.65837256   990.45556287   987.87344295\n",
      " 41493.        ]\n"
     ]
    }
   ],
   "source": [
    "# Verification of train-and-test split: OK\n",
    "testNorm(X_split_TT70)"
   ]
  },
  {
   "cell_type": "code",
   "execution_count": 8,
   "id": "a513713d",
   "metadata": {
    "ExecuteTime": {
     "end_time": "2022-04-14T09:28:21.079094Z",
     "start_time": "2022-04-14T09:28:21.076589Z"
    },
    "scrolled": true
   },
   "outputs": [
    {
     "name": "stdout",
     "output_type": "stream",
     "text": [
      "[0.47750066 0.60674608 0.59307774 0.12346584 0.29280756 0.24100033\n",
      " 0.23712127 0.2365031  9.93368446]\n",
      "[ 1994.52023988  2534.37837838  2477.28571429   515.71681416\n",
      "  1223.05719851  1006.65837256   990.45556287   987.87344295\n",
      " 41493.        ]\n"
     ]
    }
   ],
   "source": [
    "testNorm(X_split_TT60)"
   ]
  },
  {
   "cell_type": "code",
   "execution_count": 9,
   "id": "c450fe95",
   "metadata": {
    "ExecuteTime": {
     "end_time": "2022-04-14T09:28:21.082634Z",
     "start_time": "2022-04-14T09:28:21.079842Z"
    }
   },
   "outputs": [
    {
     "name": "stdout",
     "output_type": "stream",
     "text": [
      "[0.47750066 0.60674608 0.59307774 0.12346584 0.29280756 0.24100033\n",
      " 0.23712127 0.2365031  9.93368446]\n",
      "[ 1994.52023988  2534.37837838  2477.28571429   515.71681416\n",
      "  1223.05719851  1006.65837256   990.45556287   987.87344295\n",
      " 41493.        ]\n"
     ]
    }
   ],
   "source": [
    "testNorm(X_split_TT50)"
   ]
  },
  {
   "cell_type": "code",
   "execution_count": 10,
   "id": "cea57b6b",
   "metadata": {
    "ExecuteTime": {
     "end_time": "2022-04-14T09:28:21.096197Z",
     "start_time": "2022-04-14T09:28:21.086185Z"
    }
   },
   "outputs": [],
   "source": [
    "# (ii) Split dataset using k-fold cross-validation method \n",
    "X_split_CV5 = splitCV(X_norm, 5)\n",
    "X_split_CV10 = splitCV(X_norm, 10)\n",
    "X_split_CV15 = splitCV(X_norm, 15)"
   ]
  },
  {
   "cell_type": "code",
   "execution_count": 11,
   "id": "b8b924e9",
   "metadata": {
    "ExecuteTime": {
     "end_time": "2022-04-14T09:28:21.099707Z",
     "start_time": "2022-04-14T09:28:21.096940Z"
    },
    "scrolled": true
   },
   "outputs": [
    {
     "name": "stdout",
     "output_type": "stream",
     "text": [
      "[0.47748988 0.60683282 0.5931646  0.12348259 0.29289753 0.24106963\n",
      " 0.23719466 0.23657808 9.93508982]\n",
      "[ 1993.52023988  2533.52702703  2476.46218487   515.53982301\n",
      "  1222.84717549  1006.46570276   990.28768927   987.71350274\n",
      " 41479.        ]\n"
     ]
    }
   ],
   "source": [
    "# Verification of train-and-test split: OK\n",
    "testNorm(X_split_CV5)"
   ]
  },
  {
   "cell_type": "code",
   "execution_count": 12,
   "id": "b9df60f6",
   "metadata": {
    "ExecuteTime": {
     "end_time": "2022-04-14T09:28:21.102934Z",
     "start_time": "2022-04-14T09:28:21.100339Z"
    }
   },
   "outputs": [
    {
     "name": "stdout",
     "output_type": "stream",
     "text": [
      "[0.47750066 0.60674608 0.59307774 0.12346584 0.29280756 0.24100033\n",
      " 0.23712127 0.2365031  9.93368446]\n",
      "[ 1994.52023988  2534.37837838  2477.28571429   515.71681416\n",
      "  1223.05719851  1006.65837256   990.45556287   987.87344295\n",
      " 41493.        ]\n"
     ]
    }
   ],
   "source": [
    "testNorm(X_split_CV10)"
   ]
  },
  {
   "cell_type": "code",
   "execution_count": 13,
   "id": "548394b7",
   "metadata": {
    "ExecuteTime": {
     "end_time": "2022-04-14T09:28:21.106707Z",
     "start_time": "2022-04-14T09:28:21.103570Z"
    }
   },
   "outputs": [
    {
     "name": "stdout",
     "output_type": "stream",
     "text": [
      "[0.47770323 0.60682481 0.59314632 0.12347892 0.29292453 0.2410988\n",
      " 0.23723073 0.23659745 9.9352518 ]\n",
      "[ 1992.02248876  2530.45945946  2473.42016807   514.90707965\n",
      "  1221.49530724  1005.38197714   989.25213957   986.61136024\n",
      " 41430.        ]\n"
     ]
    }
   ],
   "source": [
    "testNorm(X_split_CV15)"
   ]
  },
  {
   "cell_type": "markdown",
   "id": "ae9c2ca5",
   "metadata": {},
   "source": [
    "### <a id='code'>d. & f. Implement KNN algorithm for K = 1, 5, 10, 15, 20 and compute both accuracy and computational time</a>"
   ]
  },
  {
   "cell_type": "code",
   "execution_count": 14,
   "id": "55099261",
   "metadata": {
    "ExecuteTime": {
     "end_time": "2022-04-14T09:29:20.989201Z",
     "start_time": "2022-04-14T09:28:21.108452Z"
    }
   },
   "outputs": [
    {
     "name": "stdout",
     "output_type": "stream",
     "text": [
      "Train-and-test split: 70-30\n",
      "K-neighbours: 1\n",
      "Mean Accuracy for 1 neighbours: 19.393%\n",
      "Computational time for 1 neighbours: 11.969 seconds\n",
      "******************************************************************\n",
      "Train-and-test split: 70-30\n",
      "K-neighbours: 5\n",
      "Mean Accuracy for 5 neighbours: 25.858%\n",
      "Computational time for 5 neighbours: 12.136 seconds\n",
      "******************************************************************\n",
      "Train-and-test split: 70-30\n",
      "K-neighbours: 10\n",
      "Mean Accuracy for 10 neighbours: 24.741%\n",
      "Computational time for 10 neighbours: 11.931 seconds\n",
      "******************************************************************\n",
      "Train-and-test split: 70-30\n",
      "K-neighbours: 15\n",
      "Mean Accuracy for 15 neighbours: 26.257%\n",
      "Computational time for 15 neighbours: 11.906 seconds\n",
      "******************************************************************\n",
      "Train-and-test split: 70-30\n",
      "K-neighbours: 20\n",
      "Mean Accuracy for 20 neighbours: 27.614%\n",
      "Computational time for 20 neighbours: 11.936 seconds\n",
      "******************************************************************\n"
     ]
    }
   ],
   "source": [
    "# KNN algorithm for train-and-test split (70-30) \n",
    "from timeit import default_timer as timer\n",
    "k = [1, 5, 10, 15, 20]\n",
    "acc_TT70 = []\n",
    "time_TT70 = []\n",
    "for num in k: \n",
    "    time_start = timer()\n",
    "    acc = knn(X_split_TT70[0], X_split_TT70[1], num)\n",
    "    time_elapsed = timer() - time_start\n",
    "    print(\"Train-and-test split: 70-30\")\n",
    "    print(f\"K-neighbours: {num}\")\n",
    "    print(f\"Mean Accuracy for {num} neighbours: {acc:.3f}%\")\n",
    "    print(f\"Computational time for {num} neighbours: {time_elapsed:.3f} seconds\")\n",
    "    print(\"******************************************************************\")\n",
    "    acc_TT70.append(acc)\n",
    "    time_TT70.append(time_elapsed)"
   ]
  },
  {
   "cell_type": "code",
   "execution_count": 15,
   "id": "1930c7b4",
   "metadata": {
    "ExecuteTime": {
     "end_time": "2022-04-14T09:30:28.694213Z",
     "start_time": "2022-04-14T09:29:20.989857Z"
    }
   },
   "outputs": [
    {
     "name": "stdout",
     "output_type": "stream",
     "text": [
      "Train-and-test split: 60-40\n",
      "K-neighbours: 1\n",
      "Mean Accuracy for 1 neighbours: 19.270%\n",
      "Computational time for 1 neighbours: 13.483 seconds\n",
      "******************************************************************\n",
      "Train-and-test split: 60-40\n",
      "K-neighbours: 5\n",
      "Mean Accuracy for 5 neighbours: 24.536%\n",
      "Computational time for 5 neighbours: 13.474 seconds\n",
      "******************************************************************\n",
      "Train-and-test split: 60-40\n",
      "K-neighbours: 10\n",
      "Mean Accuracy for 10 neighbours: 25.613%\n",
      "Computational time for 10 neighbours: 13.479 seconds\n",
      "******************************************************************\n",
      "Train-and-test split: 60-40\n",
      "K-neighbours: 15\n",
      "Mean Accuracy for 15 neighbours: 26.272%\n",
      "Computational time for 15 neighbours: 13.605 seconds\n",
      "******************************************************************\n",
      "Train-and-test split: 60-40\n",
      "K-neighbours: 20\n",
      "Mean Accuracy for 20 neighbours: 27.169%\n",
      "Computational time for 20 neighbours: 13.662 seconds\n",
      "******************************************************************\n"
     ]
    }
   ],
   "source": [
    "# KNN algorithm for train-and-test split (60-40) \n",
    "acc_TT60 = []\n",
    "time_TT60 = []\n",
    "\n",
    "for num in k: \n",
    "    time_start = timer()\n",
    "    acc = knn(X_split_TT60[0], X_split_TT60[1], num)\n",
    "    time_elapsed = timer() - time_start\n",
    "    print(\"Train-and-test split: 60-40\")\n",
    "    print(f\"K-neighbours: {num}\")\n",
    "    print(f\"Mean Accuracy for {num} neighbours: {acc:.3f}%\")\n",
    "    print(f\"Computational time for {num} neighbours: {time_elapsed:.3f} seconds\")\n",
    "    print(\"******************************************************************\")\n",
    "    acc_TT60.append(acc)\n",
    "    time_TT60.append(time_elapsed)"
   ]
  },
  {
   "cell_type": "code",
   "execution_count": 16,
   "id": "0dd86ac8",
   "metadata": {
    "ExecuteTime": {
     "end_time": "2022-04-14T09:31:38.853896Z",
     "start_time": "2022-04-14T09:30:28.694934Z"
    }
   },
   "outputs": [
    {
     "name": "stdout",
     "output_type": "stream",
     "text": [
      "Train-and-test split: 50-50\n",
      "K-neighbours: 1\n",
      "Accuracy for 1 neighbours: 18.861%\n",
      "Computational time for 1 neighbours: 14.147 seconds\n",
      "******************************************************************\n",
      "Train-and-test split: 50-50\n",
      "K-neighbours: 5\n",
      "Accuracy for 5 neighbours: 22.882%\n",
      "Computational time for 5 neighbours: 14.070 seconds\n",
      "******************************************************************\n",
      "Train-and-test split: 50-50\n",
      "K-neighbours: 10\n",
      "Accuracy for 10 neighbours: 25.227%\n",
      "Computational time for 10 neighbours: 13.972 seconds\n",
      "******************************************************************\n",
      "Train-and-test split: 50-50\n",
      "K-neighbours: 15\n",
      "Accuracy for 15 neighbours: 26.663%\n",
      "Computational time for 15 neighbours: 13.977 seconds\n",
      "******************************************************************\n",
      "Train-and-test split: 50-50\n",
      "K-neighbours: 20\n",
      "Accuracy for 20 neighbours: 26.472%\n",
      "Computational time for 20 neighbours: 13.992 seconds\n",
      "******************************************************************\n"
     ]
    }
   ],
   "source": [
    "# KNN algorithm for train-and-test split (50-50) \n",
    "acc_TT50 = []\n",
    "time_TT50 = []\n",
    "\n",
    "for num in k: \n",
    "    time_start = timer()\n",
    "    acc = knn(X_split_TT50[0], X_split_TT50[1], num)\n",
    "    time_elapsed = timer() - time_start\n",
    "    print(\"Train-and-test split: 50-50\")\n",
    "    print(f\"K-neighbours: {num}\")\n",
    "    print(f\"Accuracy for {num} neighbours: {acc:.3f}%\")\n",
    "    print(f\"Computational time for {num} neighbours: {time_elapsed:.3f} seconds\")\n",
    "    print(\"******************************************************************\")\n",
    "    acc_TT50.append(acc)\n",
    "    time_TT50.append(time_elapsed)"
   ]
  },
  {
   "cell_type": "code",
   "execution_count": 17,
   "id": "dd4ae7d0",
   "metadata": {
    "ExecuteTime": {
     "end_time": "2022-04-14T09:35:26.180451Z",
     "start_time": "2022-04-14T09:31:38.854699Z"
    }
   },
   "outputs": [
    {
     "name": "stdout",
     "output_type": "stream",
     "text": [
      "K-fold cross validation: k=5\n",
      "K-neighbours: 1\n",
      "Accuracy Scores for 1 neighbours for each of 5-folds:\n",
      "[19.64071856287425, 18.20359281437126, 21.077844311377245, 19.760479041916167, 19.520958083832333]\n",
      "Mean Accuracy for 1 neighbours: 19.641%\n",
      "Computational time for 1 neighbours: 45.429 seconds\n",
      "******************************************************************\n",
      "K-fold cross validation: k=5\n",
      "K-neighbours: 5\n",
      "Accuracy Scores for 5 neighbours for each of 5-folds:\n",
      "[23.592814371257482, 21.676646706586826, 22.035928143712574, 23.7125748502994, 25.98802395209581]\n",
      "Mean Accuracy for 5 neighbours: 23.401%\n",
      "Computational time for 5 neighbours: 45.299 seconds\n",
      "******************************************************************\n",
      "K-fold cross validation: k=5\n",
      "K-neighbours: 10\n",
      "Accuracy Scores for 10 neighbours for each of 5-folds:\n",
      "[22.994011976047904, 21.676646706586826, 24.550898203592812, 24.790419161676645, 26.22754491017964]\n",
      "Mean Accuracy for 10 neighbours: 24.048%\n",
      "Computational time for 10 neighbours: 45.307 seconds\n",
      "******************************************************************\n",
      "K-fold cross validation: k=5\n",
      "K-neighbours: 15\n",
      "Accuracy Scores for 15 neighbours for each of 5-folds:\n",
      "[25.149700598802394, 22.994011976047904, 23.7125748502994, 25.508982035928145, 28.143712574850298]\n",
      "Mean Accuracy for 15 neighbours: 25.102%\n",
      "Computational time for 15 neighbours: 45.840 seconds\n",
      "******************************************************************\n",
      "K-fold cross validation: k=5\n",
      "K-neighbours: 20\n",
      "Accuracy Scores for 20 neighbours for each of 5-folds:\n",
      "[25.98802395209581, 23.233532934131738, 23.47305389221557, 25.868263473053894, 27.784431137724553]\n",
      "Mean Accuracy for 20 neighbours: 25.269%\n",
      "Computational time for 20 neighbours: 45.423 seconds\n",
      "******************************************************************\n"
     ]
    }
   ],
   "source": [
    "## KNN algorithm for CV 5 \n",
    "acc_CV5 = []\n",
    "time_CV5 = []\n",
    "folds_5 = len(X_split_CV5)\n",
    "\n",
    "for num in k:\n",
    "    acc_k = []\n",
    "    time_start = timer()\n",
    "    for i in range(0, folds_5):\n",
    "        test = X_split_CV5[i]\n",
    "        train = X_split_CV5.copy()\n",
    "        train.pop(i)\n",
    "        train = np.vstack(tuple(train))\n",
    "        acc = knn(train, test, num)\n",
    "        acc_k.append(acc)\n",
    "    time_elapsed = timer() - time_start\n",
    "    print(\"K-fold cross validation: k=5\")\n",
    "    print(f\"K-neighbours: {num}\")\n",
    "    print(f\"Accuracy Scores for {num} neighbours for each of 5-folds:\")\n",
    "    print(acc_k)\n",
    "    print(f\"Mean Accuracy for {num} neighbours: {np.mean(acc_k):.3f}%\")\n",
    "    print(f\"Computational time for {num} neighbours: {time_elapsed:.3f} seconds\")\n",
    "    print(\"******************************************************************\")\n",
    "    acc_CV5.append(np.mean(acc_k))\n",
    "    time_CV5.append(time_elapsed)"
   ]
  },
  {
   "cell_type": "code",
   "execution_count": 18,
   "id": "9cbb221d",
   "metadata": {
    "ExecuteTime": {
     "end_time": "2022-04-14T09:39:48.521444Z",
     "start_time": "2022-04-14T09:35:26.181077Z"
    }
   },
   "outputs": [
    {
     "name": "stdout",
     "output_type": "stream",
     "text": [
      "K-fold cross validation: k=10\n",
      "K-neighbours: 1\n",
      "Accuracy Scores for 1 neighbours for all 10-folds:\n",
      "[18.660287081339714, 21.770334928229666, 19.617224880382775, 17.942583732057415, 22.00956937799043, 19.37799043062201, 17.464114832535884, 20.334928229665074, 21.291866028708135, 20.481927710843372]\n",
      "Mean Accuracy for 1 neighbours: 19.895%\n",
      "Computational time for 1 neighbours: 52.492 seconds\n",
      "******************************************************************\n",
      "K-fold cross validation: k=10\n",
      "K-neighbours: 5\n",
      "Accuracy Scores for 5 neighbours for all 10-folds:\n",
      "[22.727272727272727, 25.358851674641148, 19.617224880382775, 20.813397129186605, 20.095693779904305, 21.5311004784689, 17.703349282296653, 24.880382775119617, 27.033492822966508, 24.337349397590362]\n",
      "Mean Accuracy for 5 neighbours: 22.410%\n",
      "Computational time for 5 neighbours: 52.282 seconds\n",
      "******************************************************************\n",
      "K-fold cross validation: k=10\n",
      "K-neighbours: 10\n",
      "Accuracy Scores for 10 neighbours for all 10-folds:\n",
      "[22.248803827751196, 24.16267942583732, 24.641148325358852, 20.574162679425836, 23.684210526315788, 24.641148325358852, 22.727272727272727, 23.444976076555022, 29.904306220095695, 23.132530120481928]\n",
      "Mean Accuracy for 10 neighbours: 23.916%\n",
      "Computational time for 10 neighbours: 52.689 seconds\n",
      "******************************************************************\n",
      "K-fold cross validation: k=10\n",
      "K-neighbours: 15\n",
      "Accuracy Scores for 15 neighbours for all 10-folds:\n",
      "[23.444976076555022, 23.444976076555022, 25.11961722488038, 22.48803827751196, 23.205741626794257, 25.837320574162682, 24.880382775119617, 25.11961722488038, 28.4688995215311, 25.301204819277107]\n",
      "Mean Accuracy for 15 neighbours: 24.731%\n",
      "Computational time for 15 neighbours: 52.855 seconds\n",
      "******************************************************************\n",
      "K-fold cross validation: k=10\n",
      "K-neighbours: 20\n",
      "Accuracy Scores for 20 neighbours for all 10-folds:\n",
      "[26.794258373205743, 25.837320574162682, 25.598086124401913, 22.727272727272727, 22.48803827751196, 24.16267942583732, 24.16267942583732, 24.641148325358852, 29.42583732057416, 25.783132530120483]\n",
      "Mean Accuracy for 20 neighbours: 25.162%\n",
      "Computational time for 20 neighbours: 52.021 seconds\n",
      "******************************************************************\n"
     ]
    }
   ],
   "source": [
    "## KNN algorithm for CV 10\n",
    "\n",
    "acc_CV10 = []\n",
    "time_CV10 = []\n",
    "folds_10 = len(X_split_CV10)\n",
    "\n",
    "for num in k:\n",
    "    acc_k = []\n",
    "    time_start = timer()\n",
    "    for i in range(0, folds_10, 1):\n",
    "        test = X_split_CV10[i]\n",
    "        train = X_split_CV10.copy()\n",
    "        train.pop(i)\n",
    "        train = np.vstack(tuple(train))\n",
    "        acc = knn(train, test, num)\n",
    "        acc_k.append(acc)\n",
    "    time_elapsed = timer() - time_start\n",
    "    print(\"K-fold cross validation: k=10\")\n",
    "    print(f\"K-neighbours: {num}\")\n",
    "    print(f\"Accuracy Scores for {num} neighbours for all 10-folds:\")\n",
    "    print(acc_k)\n",
    "    print(f\"Mean Accuracy for {num} neighbours: {np.mean(acc_k):.3f}%\")\n",
    "    print(f\"Computational time for {num} neighbours: {time_elapsed:.3f} seconds\")\n",
    "    print(\"******************************************************************\")\n",
    "    acc_CV10.append(np.mean(acc_k))\n",
    "    time_CV10.append(time_elapsed)"
   ]
  },
  {
   "cell_type": "code",
   "execution_count": 19,
   "id": "770281fb",
   "metadata": {
    "ExecuteTime": {
     "end_time": "2022-04-14T09:44:17.192398Z",
     "start_time": "2022-04-14T09:39:48.522135Z"
    }
   },
   "outputs": [
    {
     "name": "stdout",
     "output_type": "stream",
     "text": [
      "K-fold cross validation: k=15\n",
      "K-neighbours: 1\n",
      "Accuracy Scores for 1 neighbours for each of 15-folds:\n",
      "[19.784172661870503, 20.14388489208633, 21.58273381294964, 20.863309352517987, 17.985611510791365, 18.705035971223023, 20.863309352517987, 20.503597122302157, 18.345323741007196, 15.827338129496402, 20.503597122302157, 20.14388489208633, 22.66187050359712, 18.345323741007196, 23.381294964028775]\n",
      "Mean Accuracy for 1 neighbours: 19.976%\n",
      "Computational time for 1 neighbours: 53.963 seconds\n",
      "******************************************************************\n",
      "K-fold cross validation: k=15\n",
      "K-neighbours: 5\n",
      "Accuracy Scores for 5 neighbours for each of 15-folds:\n",
      "[25.179856115107913, 23.741007194244602, 26.618705035971225, 16.906474820143885, 23.381294964028775, 22.66187050359712, 19.784172661870503, 21.223021582733814, 21.58273381294964, 20.14388489208633, 21.942446043165468, 26.618705035971225, 29.856115107913666, 23.381294964028775, 26.258992805755394]\n",
      "Mean Accuracy for 5 neighbours: 23.285%\n",
      "Computational time for 5 neighbours: 53.481 seconds\n",
      "******************************************************************\n",
      "K-fold cross validation: k=15\n",
      "K-neighbours: 10\n",
      "Accuracy Scores for 10 neighbours for each of 15-folds:\n",
      "[24.46043165467626, 23.741007194244602, 24.820143884892087, 25.179856115107913, 21.942446043165468, 21.58273381294964, 26.258992805755394, 22.302158273381295, 25.899280575539567, 23.741007194244602, 22.302158273381295, 23.741007194244602, 32.014388489208635, 24.100719424460433, 26.618705035971225]\n",
      "Mean Accuracy for 10 neighbours: 24.580%\n",
      "Computational time for 10 neighbours: 53.845 seconds\n",
      "******************************************************************\n",
      "K-fold cross validation: k=15\n",
      "K-neighbours: 15\n",
      "Accuracy Scores for 15 neighbours for each of 15-folds:\n",
      "[24.100719424460433, 21.942446043165468, 24.46043165467626, 23.741007194244602, 23.021582733812952, 23.741007194244602, 23.381294964028775, 21.223021582733814, 26.618705035971225, 26.618705035971225, 22.66187050359712, 24.820143884892087, 30.215827338129497, 26.978417266187048, 27.33812949640288]\n",
      "Mean Accuracy for 15 neighbours: 24.724%\n",
      "Computational time for 15 neighbours: 53.552 seconds\n",
      "******************************************************************\n",
      "K-fold cross validation: k=15\n",
      "K-neighbours: 20\n",
      "Accuracy Scores for 20 neighbours for each of 15-folds:\n",
      "[27.33812949640288, 26.618705035971225, 25.539568345323744, 26.978417266187048, 21.942446043165468, 22.66187050359712, 24.46043165467626, 20.14388489208633, 26.978417266187048, 25.539568345323744, 23.021582733812952, 26.258992805755394, 31.654676258992804, 28.41726618705036, 27.33812949640288]\n",
      "Mean Accuracy for 20 neighbours: 25.659%\n",
      "Computational time for 20 neighbours: 53.827 seconds\n",
      "******************************************************************\n"
     ]
    }
   ],
   "source": [
    "## KNN algorithm for CV 15\n",
    "\n",
    "acc_CV15 = []\n",
    "time_CV15 = []\n",
    "folds_15 = len(X_split_CV15)\n",
    "\n",
    "for num in k:\n",
    "    acc_k = []\n",
    "    time_start = timer()\n",
    "    for i in range(0, folds_15, 1):\n",
    "        test = X_split_CV15[i]\n",
    "        train = X_split_CV15.copy()\n",
    "        train.pop(i)\n",
    "        train = np.vstack(tuple(train))\n",
    "        acc = knn(train, test, num)\n",
    "        acc_k.append(acc)\n",
    "    time_elapsed = timer() - time_start\n",
    "    print(\"K-fold cross validation: k=15\")\n",
    "    print(f\"K-neighbours: {num}\")\n",
    "    print(f\"Accuracy Scores for {num} neighbours for each of 15-folds:\")\n",
    "    print(acc_k)\n",
    "    print(f\"Mean Accuracy for {num} neighbours: {np.mean(acc_k):.3f}%\")\n",
    "    print(f\"Computational time for {num} neighbours: {time_elapsed:.3f} seconds\")\n",
    "    print(\"******************************************************************\")\n",
    "    acc_CV15.append(np.mean(acc_k))\n",
    "    time_CV15.append(time_elapsed)\n"
   ]
  },
  {
   "cell_type": "markdown",
   "id": "7566f5f0",
   "metadata": {},
   "source": [
    "### <a id=\"plot\">Computational Time Plots</a>"
   ]
  },
  {
   "cell_type": "markdown",
   "id": "72263c33",
   "metadata": {},
   "source": [
    "Based on the plots below, we observe the following: \n",
    "1. Comparing the computation time required for train-and-test split, we noted that the time required for training and predicting the train and test data increases according to the following ratio 70:30, 60:40, 50:50. It may imply that more time is taken to calculate the euclidean distances for the test set in 50:50 split as such more time is required. \n",
    "2. With reference to the computation time of k-fold cross validations, we observed that the higher number of folds requires more computational time. This is due to the increase in the number of iterations required to train and test each fold as k increases.\n",
    "3.  The computational time for k-fold cross validation is significantly higher than train-and-test split. Thus, we can conclude that k-fold cross validation typically requires more computational resources due to the additional iterations required to train and test for the different folds as compared to train-and-test split."
   ]
  },
  {
   "cell_type": "code",
   "execution_count": 30,
   "id": "0281e4b6",
   "metadata": {
    "ExecuteTime": {
     "end_time": "2022-04-14T10:20:48.723496Z",
     "start_time": "2022-04-14T10:20:48.649338Z"
    }
   },
   "outputs": [
    {
     "data": {
      "application/vnd.plotly.v1+json": {
       "config": {
        "plotlyServerURL": "https://plot.ly"
       },
       "data": [
        {
         "name": "TT_70_30",
         "type": "scatter",
         "x": [
          1,
          5,
          10,
          15,
          20
         ],
         "xaxis": "x",
         "y": [
          11.969498791,
          12.136061707999998,
          11.931053167000002,
          11.905937875,
          11.935680333
         ],
         "yaxis": "y"
        },
        {
         "name": "TT_60_40",
         "type": "scatter",
         "x": [
          1,
          5,
          10,
          15,
          20
         ],
         "xaxis": "x2",
         "y": [
          13.482961250000002,
          13.473927540999995,
          13.479214249999998,
          13.604603000000012,
          13.662120541000007
         ],
         "yaxis": "y2"
        },
        {
         "name": "TT_50_50",
         "type": "scatter",
         "x": [
          1,
          5,
          10,
          15,
          20
         ],
         "xaxis": "x3",
         "y": [
          14.147152291999987,
          14.070141124999992,
          13.971965082999986,
          13.976532082999995,
          13.991839040999992
         ],
         "yaxis": "y3"
        },
        {
         "name": "CV_5",
         "type": "scatter",
         "x": [
          1,
          5,
          10,
          15,
          20
         ],
         "xaxis": "x4",
         "y": [
          45.42937216600001,
          45.29927066699997,
          45.30660666699998,
          45.84002916600002,
          45.422869040999956
         ],
         "yaxis": "y4"
        },
        {
         "name": "CV_10",
         "type": "scatter",
         "x": [
          1,
          5,
          10,
          15,
          20
         ],
         "xaxis": "x5",
         "y": [
          52.49162291699997,
          52.282073665999974,
          52.68858158299997,
          52.855304875,
          52.02052108299995
         ],
         "yaxis": "y5"
        },
        {
         "name": "CV_15",
         "type": "scatter",
         "x": [
          1,
          5,
          10,
          15,
          20
         ],
         "xaxis": "x6",
         "y": [
          53.96269858300002,
          53.481051459000014,
          53.84508791600001,
          53.55230158400002,
          53.82659945800003
         ],
         "yaxis": "y6"
        }
       ],
       "layout": {
        "annotations": [
         {
          "font": {
           "size": 12
          },
          "showarrow": false,
          "text": "Train-and-Test split 70-30",
          "x": 0.14444444444444446,
          "xanchor": "center",
          "xref": "paper",
          "y": 1,
          "yanchor": "bottom",
          "yref": "paper"
         },
         {
          "font": {
           "size": 12
          },
          "showarrow": false,
          "text": "Train-and-Test split 60-40",
          "x": 0.5,
          "xanchor": "center",
          "xref": "paper",
          "y": 1,
          "yanchor": "bottom",
          "yref": "paper"
         },
         {
          "font": {
           "size": 12
          },
          "showarrow": false,
          "text": "Train-and-Test split 50-50",
          "x": 0.8555555555555556,
          "xanchor": "center",
          "xref": "paper",
          "y": 1,
          "yanchor": "bottom",
          "yref": "paper"
         },
         {
          "font": {
           "size": 12
          },
          "showarrow": false,
          "text": "K-Fold cross-validation 5 folds",
          "x": 0.14444444444444446,
          "xanchor": "center",
          "xref": "paper",
          "y": 0.375,
          "yanchor": "bottom",
          "yref": "paper"
         },
         {
          "font": {
           "size": 12
          },
          "showarrow": false,
          "text": "K-Fold cross-validation 10 folds",
          "x": 0.5,
          "xanchor": "center",
          "xref": "paper",
          "y": 0.375,
          "yanchor": "bottom",
          "yref": "paper"
         },
         {
          "font": {
           "size": 12
          },
          "showarrow": false,
          "text": "K-Fold cross-validation 15 folds",
          "x": 0.8555555555555556,
          "xanchor": "center",
          "xref": "paper",
          "y": 0.375,
          "yanchor": "bottom",
          "yref": "paper"
         }
        ],
        "height": 500,
        "template": {
         "data": {
          "bar": [
           {
            "error_x": {
             "color": "#2a3f5f"
            },
            "error_y": {
             "color": "#2a3f5f"
            },
            "marker": {
             "line": {
              "color": "#E5ECF6",
              "width": 0.5
             },
             "pattern": {
              "fillmode": "overlay",
              "size": 10,
              "solidity": 0.2
             }
            },
            "type": "bar"
           }
          ],
          "barpolar": [
           {
            "marker": {
             "line": {
              "color": "#E5ECF6",
              "width": 0.5
             },
             "pattern": {
              "fillmode": "overlay",
              "size": 10,
              "solidity": 0.2
             }
            },
            "type": "barpolar"
           }
          ],
          "carpet": [
           {
            "aaxis": {
             "endlinecolor": "#2a3f5f",
             "gridcolor": "white",
             "linecolor": "white",
             "minorgridcolor": "white",
             "startlinecolor": "#2a3f5f"
            },
            "baxis": {
             "endlinecolor": "#2a3f5f",
             "gridcolor": "white",
             "linecolor": "white",
             "minorgridcolor": "white",
             "startlinecolor": "#2a3f5f"
            },
            "type": "carpet"
           }
          ],
          "choropleth": [
           {
            "colorbar": {
             "outlinewidth": 0,
             "ticks": ""
            },
            "type": "choropleth"
           }
          ],
          "contour": [
           {
            "colorbar": {
             "outlinewidth": 0,
             "ticks": ""
            },
            "colorscale": [
             [
              0,
              "#0d0887"
             ],
             [
              0.1111111111111111,
              "#46039f"
             ],
             [
              0.2222222222222222,
              "#7201a8"
             ],
             [
              0.3333333333333333,
              "#9c179e"
             ],
             [
              0.4444444444444444,
              "#bd3786"
             ],
             [
              0.5555555555555556,
              "#d8576b"
             ],
             [
              0.6666666666666666,
              "#ed7953"
             ],
             [
              0.7777777777777778,
              "#fb9f3a"
             ],
             [
              0.8888888888888888,
              "#fdca26"
             ],
             [
              1,
              "#f0f921"
             ]
            ],
            "type": "contour"
           }
          ],
          "contourcarpet": [
           {
            "colorbar": {
             "outlinewidth": 0,
             "ticks": ""
            },
            "type": "contourcarpet"
           }
          ],
          "heatmap": [
           {
            "colorbar": {
             "outlinewidth": 0,
             "ticks": ""
            },
            "colorscale": [
             [
              0,
              "#0d0887"
             ],
             [
              0.1111111111111111,
              "#46039f"
             ],
             [
              0.2222222222222222,
              "#7201a8"
             ],
             [
              0.3333333333333333,
              "#9c179e"
             ],
             [
              0.4444444444444444,
              "#bd3786"
             ],
             [
              0.5555555555555556,
              "#d8576b"
             ],
             [
              0.6666666666666666,
              "#ed7953"
             ],
             [
              0.7777777777777778,
              "#fb9f3a"
             ],
             [
              0.8888888888888888,
              "#fdca26"
             ],
             [
              1,
              "#f0f921"
             ]
            ],
            "type": "heatmap"
           }
          ],
          "heatmapgl": [
           {
            "colorbar": {
             "outlinewidth": 0,
             "ticks": ""
            },
            "colorscale": [
             [
              0,
              "#0d0887"
             ],
             [
              0.1111111111111111,
              "#46039f"
             ],
             [
              0.2222222222222222,
              "#7201a8"
             ],
             [
              0.3333333333333333,
              "#9c179e"
             ],
             [
              0.4444444444444444,
              "#bd3786"
             ],
             [
              0.5555555555555556,
              "#d8576b"
             ],
             [
              0.6666666666666666,
              "#ed7953"
             ],
             [
              0.7777777777777778,
              "#fb9f3a"
             ],
             [
              0.8888888888888888,
              "#fdca26"
             ],
             [
              1,
              "#f0f921"
             ]
            ],
            "type": "heatmapgl"
           }
          ],
          "histogram": [
           {
            "marker": {
             "pattern": {
              "fillmode": "overlay",
              "size": 10,
              "solidity": 0.2
             }
            },
            "type": "histogram"
           }
          ],
          "histogram2d": [
           {
            "colorbar": {
             "outlinewidth": 0,
             "ticks": ""
            },
            "colorscale": [
             [
              0,
              "#0d0887"
             ],
             [
              0.1111111111111111,
              "#46039f"
             ],
             [
              0.2222222222222222,
              "#7201a8"
             ],
             [
              0.3333333333333333,
              "#9c179e"
             ],
             [
              0.4444444444444444,
              "#bd3786"
             ],
             [
              0.5555555555555556,
              "#d8576b"
             ],
             [
              0.6666666666666666,
              "#ed7953"
             ],
             [
              0.7777777777777778,
              "#fb9f3a"
             ],
             [
              0.8888888888888888,
              "#fdca26"
             ],
             [
              1,
              "#f0f921"
             ]
            ],
            "type": "histogram2d"
           }
          ],
          "histogram2dcontour": [
           {
            "colorbar": {
             "outlinewidth": 0,
             "ticks": ""
            },
            "colorscale": [
             [
              0,
              "#0d0887"
             ],
             [
              0.1111111111111111,
              "#46039f"
             ],
             [
              0.2222222222222222,
              "#7201a8"
             ],
             [
              0.3333333333333333,
              "#9c179e"
             ],
             [
              0.4444444444444444,
              "#bd3786"
             ],
             [
              0.5555555555555556,
              "#d8576b"
             ],
             [
              0.6666666666666666,
              "#ed7953"
             ],
             [
              0.7777777777777778,
              "#fb9f3a"
             ],
             [
              0.8888888888888888,
              "#fdca26"
             ],
             [
              1,
              "#f0f921"
             ]
            ],
            "type": "histogram2dcontour"
           }
          ],
          "mesh3d": [
           {
            "colorbar": {
             "outlinewidth": 0,
             "ticks": ""
            },
            "type": "mesh3d"
           }
          ],
          "parcoords": [
           {
            "line": {
             "colorbar": {
              "outlinewidth": 0,
              "ticks": ""
             }
            },
            "type": "parcoords"
           }
          ],
          "pie": [
           {
            "automargin": true,
            "type": "pie"
           }
          ],
          "scatter": [
           {
            "marker": {
             "colorbar": {
              "outlinewidth": 0,
              "ticks": ""
             }
            },
            "type": "scatter"
           }
          ],
          "scatter3d": [
           {
            "line": {
             "colorbar": {
              "outlinewidth": 0,
              "ticks": ""
             }
            },
            "marker": {
             "colorbar": {
              "outlinewidth": 0,
              "ticks": ""
             }
            },
            "type": "scatter3d"
           }
          ],
          "scattercarpet": [
           {
            "marker": {
             "colorbar": {
              "outlinewidth": 0,
              "ticks": ""
             }
            },
            "type": "scattercarpet"
           }
          ],
          "scattergeo": [
           {
            "marker": {
             "colorbar": {
              "outlinewidth": 0,
              "ticks": ""
             }
            },
            "type": "scattergeo"
           }
          ],
          "scattergl": [
           {
            "marker": {
             "colorbar": {
              "outlinewidth": 0,
              "ticks": ""
             }
            },
            "type": "scattergl"
           }
          ],
          "scattermapbox": [
           {
            "marker": {
             "colorbar": {
              "outlinewidth": 0,
              "ticks": ""
             }
            },
            "type": "scattermapbox"
           }
          ],
          "scatterpolar": [
           {
            "marker": {
             "colorbar": {
              "outlinewidth": 0,
              "ticks": ""
             }
            },
            "type": "scatterpolar"
           }
          ],
          "scatterpolargl": [
           {
            "marker": {
             "colorbar": {
              "outlinewidth": 0,
              "ticks": ""
             }
            },
            "type": "scatterpolargl"
           }
          ],
          "scatterternary": [
           {
            "marker": {
             "colorbar": {
              "outlinewidth": 0,
              "ticks": ""
             }
            },
            "type": "scatterternary"
           }
          ],
          "surface": [
           {
            "colorbar": {
             "outlinewidth": 0,
             "ticks": ""
            },
            "colorscale": [
             [
              0,
              "#0d0887"
             ],
             [
              0.1111111111111111,
              "#46039f"
             ],
             [
              0.2222222222222222,
              "#7201a8"
             ],
             [
              0.3333333333333333,
              "#9c179e"
             ],
             [
              0.4444444444444444,
              "#bd3786"
             ],
             [
              0.5555555555555556,
              "#d8576b"
             ],
             [
              0.6666666666666666,
              "#ed7953"
             ],
             [
              0.7777777777777778,
              "#fb9f3a"
             ],
             [
              0.8888888888888888,
              "#fdca26"
             ],
             [
              1,
              "#f0f921"
             ]
            ],
            "type": "surface"
           }
          ],
          "table": [
           {
            "cells": {
             "fill": {
              "color": "#EBF0F8"
             },
             "line": {
              "color": "white"
             }
            },
            "header": {
             "fill": {
              "color": "#C8D4E3"
             },
             "line": {
              "color": "white"
             }
            },
            "type": "table"
           }
          ]
         },
         "layout": {
          "annotationdefaults": {
           "arrowcolor": "#2a3f5f",
           "arrowhead": 0,
           "arrowwidth": 1
          },
          "autotypenumbers": "strict",
          "coloraxis": {
           "colorbar": {
            "outlinewidth": 0,
            "ticks": ""
           }
          },
          "colorscale": {
           "diverging": [
            [
             0,
             "#8e0152"
            ],
            [
             0.1,
             "#c51b7d"
            ],
            [
             0.2,
             "#de77ae"
            ],
            [
             0.3,
             "#f1b6da"
            ],
            [
             0.4,
             "#fde0ef"
            ],
            [
             0.5,
             "#f7f7f7"
            ],
            [
             0.6,
             "#e6f5d0"
            ],
            [
             0.7,
             "#b8e186"
            ],
            [
             0.8,
             "#7fbc41"
            ],
            [
             0.9,
             "#4d9221"
            ],
            [
             1,
             "#276419"
            ]
           ],
           "sequential": [
            [
             0,
             "#0d0887"
            ],
            [
             0.1111111111111111,
             "#46039f"
            ],
            [
             0.2222222222222222,
             "#7201a8"
            ],
            [
             0.3333333333333333,
             "#9c179e"
            ],
            [
             0.4444444444444444,
             "#bd3786"
            ],
            [
             0.5555555555555556,
             "#d8576b"
            ],
            [
             0.6666666666666666,
             "#ed7953"
            ],
            [
             0.7777777777777778,
             "#fb9f3a"
            ],
            [
             0.8888888888888888,
             "#fdca26"
            ],
            [
             1,
             "#f0f921"
            ]
           ],
           "sequentialminus": [
            [
             0,
             "#0d0887"
            ],
            [
             0.1111111111111111,
             "#46039f"
            ],
            [
             0.2222222222222222,
             "#7201a8"
            ],
            [
             0.3333333333333333,
             "#9c179e"
            ],
            [
             0.4444444444444444,
             "#bd3786"
            ],
            [
             0.5555555555555556,
             "#d8576b"
            ],
            [
             0.6666666666666666,
             "#ed7953"
            ],
            [
             0.7777777777777778,
             "#fb9f3a"
            ],
            [
             0.8888888888888888,
             "#fdca26"
            ],
            [
             1,
             "#f0f921"
            ]
           ]
          },
          "colorway": [
           "#636efa",
           "#EF553B",
           "#00cc96",
           "#ab63fa",
           "#FFA15A",
           "#19d3f3",
           "#FF6692",
           "#B6E880",
           "#FF97FF",
           "#FECB52"
          ],
          "font": {
           "color": "#2a3f5f"
          },
          "geo": {
           "bgcolor": "white",
           "lakecolor": "white",
           "landcolor": "#E5ECF6",
           "showlakes": true,
           "showland": true,
           "subunitcolor": "white"
          },
          "hoverlabel": {
           "align": "left"
          },
          "hovermode": "closest",
          "mapbox": {
           "style": "light"
          },
          "paper_bgcolor": "white",
          "plot_bgcolor": "#E5ECF6",
          "polar": {
           "angularaxis": {
            "gridcolor": "white",
            "linecolor": "white",
            "ticks": ""
           },
           "bgcolor": "#E5ECF6",
           "radialaxis": {
            "gridcolor": "white",
            "linecolor": "white",
            "ticks": ""
           }
          },
          "scene": {
           "xaxis": {
            "backgroundcolor": "#E5ECF6",
            "gridcolor": "white",
            "gridwidth": 2,
            "linecolor": "white",
            "showbackground": true,
            "ticks": "",
            "zerolinecolor": "white"
           },
           "yaxis": {
            "backgroundcolor": "#E5ECF6",
            "gridcolor": "white",
            "gridwidth": 2,
            "linecolor": "white",
            "showbackground": true,
            "ticks": "",
            "zerolinecolor": "white"
           },
           "zaxis": {
            "backgroundcolor": "#E5ECF6",
            "gridcolor": "white",
            "gridwidth": 2,
            "linecolor": "white",
            "showbackground": true,
            "ticks": "",
            "zerolinecolor": "white"
           }
          },
          "shapedefaults": {
           "line": {
            "color": "#2a3f5f"
           }
          },
          "ternary": {
           "aaxis": {
            "gridcolor": "white",
            "linecolor": "white",
            "ticks": ""
           },
           "baxis": {
            "gridcolor": "white",
            "linecolor": "white",
            "ticks": ""
           },
           "bgcolor": "#E5ECF6",
           "caxis": {
            "gridcolor": "white",
            "linecolor": "white",
            "ticks": ""
           }
          },
          "title": {
           "x": 0.05
          },
          "xaxis": {
           "automargin": true,
           "gridcolor": "white",
           "linecolor": "white",
           "ticks": "",
           "title": {
            "standoff": 15
           },
           "zerolinecolor": "white",
           "zerolinewidth": 2
          },
          "yaxis": {
           "automargin": true,
           "gridcolor": "white",
           "linecolor": "white",
           "ticks": "",
           "title": {
            "standoff": 15
           },
           "zerolinecolor": "white",
           "zerolinewidth": 2
          }
         }
        },
        "title": {
         "text": "Computational Time Taken for Each Experiment Setup"
        },
        "width": 800,
        "xaxis": {
         "anchor": "y",
         "domain": [
          0,
          0.2888888888888889
         ]
        },
        "xaxis2": {
         "anchor": "y2",
         "domain": [
          0.35555555555555557,
          0.6444444444444445
         ]
        },
        "xaxis3": {
         "anchor": "y3",
         "domain": [
          0.7111111111111111,
          1
         ]
        },
        "xaxis4": {
         "anchor": "y4",
         "domain": [
          0,
          0.2888888888888889
         ]
        },
        "xaxis5": {
         "anchor": "y5",
         "domain": [
          0.35555555555555557,
          0.6444444444444445
         ],
         "title": {
          "text": "K-Neighbours"
         }
        },
        "xaxis6": {
         "anchor": "y6",
         "domain": [
          0.7111111111111111,
          1
         ]
        },
        "yaxis": {
         "anchor": "x",
         "domain": [
          0.625,
          1
         ],
         "title": {
          "text": "Time (in seconds)"
         }
        },
        "yaxis2": {
         "anchor": "x2",
         "domain": [
          0.625,
          1
         ],
         "matches": "y",
         "showticklabels": false
        },
        "yaxis3": {
         "anchor": "x3",
         "domain": [
          0.625,
          1
         ],
         "matches": "y",
         "showticklabels": false
        },
        "yaxis4": {
         "anchor": "x4",
         "domain": [
          0,
          0.375
         ],
         "title": {
          "text": "Time (in seconds)"
         }
        },
        "yaxis5": {
         "anchor": "x5",
         "domain": [
          0,
          0.375
         ],
         "matches": "y4",
         "showticklabels": false
        },
        "yaxis6": {
         "anchor": "x6",
         "domain": [
          0,
          0.375
         ],
         "matches": "y4",
         "showticklabels": false
        }
       }
      },
      "text/html": [
       "<div>                            <div id=\"f6895421-155f-4d61-a093-d784ada73884\" class=\"plotly-graph-div\" style=\"height:500px; width:800px;\"></div>            <script type=\"text/javascript\">                require([\"plotly\"], function(Plotly) {                    window.PLOTLYENV=window.PLOTLYENV || {};                                    if (document.getElementById(\"f6895421-155f-4d61-a093-d784ada73884\")) {                    Plotly.newPlot(                        \"f6895421-155f-4d61-a093-d784ada73884\",                        [{\"name\":\"TT_70_30\",\"x\":[1,5,10,15,20],\"y\":[11.969498791,12.136061707999998,11.931053167000002,11.905937875,11.935680333],\"type\":\"scatter\",\"xaxis\":\"x\",\"yaxis\":\"y\"},{\"name\":\"TT_60_40\",\"x\":[1,5,10,15,20],\"y\":[13.482961250000002,13.473927540999995,13.479214249999998,13.604603000000012,13.662120541000007],\"type\":\"scatter\",\"xaxis\":\"x2\",\"yaxis\":\"y2\"},{\"name\":\"TT_50_50\",\"x\":[1,5,10,15,20],\"y\":[14.147152291999987,14.070141124999992,13.971965082999986,13.976532082999995,13.991839040999992],\"type\":\"scatter\",\"xaxis\":\"x3\",\"yaxis\":\"y3\"},{\"name\":\"CV_5\",\"x\":[1,5,10,15,20],\"y\":[45.42937216600001,45.29927066699997,45.30660666699998,45.84002916600002,45.422869040999956],\"type\":\"scatter\",\"xaxis\":\"x4\",\"yaxis\":\"y4\"},{\"name\":\"CV_10\",\"x\":[1,5,10,15,20],\"y\":[52.49162291699997,52.282073665999974,52.68858158299997,52.855304875,52.02052108299995],\"type\":\"scatter\",\"xaxis\":\"x5\",\"yaxis\":\"y5\"},{\"name\":\"CV_15\",\"x\":[1,5,10,15,20],\"y\":[53.96269858300002,53.481051459000014,53.84508791600001,53.55230158400002,53.82659945800003],\"type\":\"scatter\",\"xaxis\":\"x6\",\"yaxis\":\"y6\"}],                        {\"template\":{\"data\":{\"bar\":[{\"error_x\":{\"color\":\"#2a3f5f\"},\"error_y\":{\"color\":\"#2a3f5f\"},\"marker\":{\"line\":{\"color\":\"#E5ECF6\",\"width\":0.5},\"pattern\":{\"fillmode\":\"overlay\",\"size\":10,\"solidity\":0.2}},\"type\":\"bar\"}],\"barpolar\":[{\"marker\":{\"line\":{\"color\":\"#E5ECF6\",\"width\":0.5},\"pattern\":{\"fillmode\":\"overlay\",\"size\":10,\"solidity\":0.2}},\"type\":\"barpolar\"}],\"carpet\":[{\"aaxis\":{\"endlinecolor\":\"#2a3f5f\",\"gridcolor\":\"white\",\"linecolor\":\"white\",\"minorgridcolor\":\"white\",\"startlinecolor\":\"#2a3f5f\"},\"baxis\":{\"endlinecolor\":\"#2a3f5f\",\"gridcolor\":\"white\",\"linecolor\":\"white\",\"minorgridcolor\":\"white\",\"startlinecolor\":\"#2a3f5f\"},\"type\":\"carpet\"}],\"choropleth\":[{\"colorbar\":{\"outlinewidth\":0,\"ticks\":\"\"},\"type\":\"choropleth\"}],\"contour\":[{\"colorbar\":{\"outlinewidth\":0,\"ticks\":\"\"},\"colorscale\":[[0.0,\"#0d0887\"],[0.1111111111111111,\"#46039f\"],[0.2222222222222222,\"#7201a8\"],[0.3333333333333333,\"#9c179e\"],[0.4444444444444444,\"#bd3786\"],[0.5555555555555556,\"#d8576b\"],[0.6666666666666666,\"#ed7953\"],[0.7777777777777778,\"#fb9f3a\"],[0.8888888888888888,\"#fdca26\"],[1.0,\"#f0f921\"]],\"type\":\"contour\"}],\"contourcarpet\":[{\"colorbar\":{\"outlinewidth\":0,\"ticks\":\"\"},\"type\":\"contourcarpet\"}],\"heatmap\":[{\"colorbar\":{\"outlinewidth\":0,\"ticks\":\"\"},\"colorscale\":[[0.0,\"#0d0887\"],[0.1111111111111111,\"#46039f\"],[0.2222222222222222,\"#7201a8\"],[0.3333333333333333,\"#9c179e\"],[0.4444444444444444,\"#bd3786\"],[0.5555555555555556,\"#d8576b\"],[0.6666666666666666,\"#ed7953\"],[0.7777777777777778,\"#fb9f3a\"],[0.8888888888888888,\"#fdca26\"],[1.0,\"#f0f921\"]],\"type\":\"heatmap\"}],\"heatmapgl\":[{\"colorbar\":{\"outlinewidth\":0,\"ticks\":\"\"},\"colorscale\":[[0.0,\"#0d0887\"],[0.1111111111111111,\"#46039f\"],[0.2222222222222222,\"#7201a8\"],[0.3333333333333333,\"#9c179e\"],[0.4444444444444444,\"#bd3786\"],[0.5555555555555556,\"#d8576b\"],[0.6666666666666666,\"#ed7953\"],[0.7777777777777778,\"#fb9f3a\"],[0.8888888888888888,\"#fdca26\"],[1.0,\"#f0f921\"]],\"type\":\"heatmapgl\"}],\"histogram\":[{\"marker\":{\"pattern\":{\"fillmode\":\"overlay\",\"size\":10,\"solidity\":0.2}},\"type\":\"histogram\"}],\"histogram2d\":[{\"colorbar\":{\"outlinewidth\":0,\"ticks\":\"\"},\"colorscale\":[[0.0,\"#0d0887\"],[0.1111111111111111,\"#46039f\"],[0.2222222222222222,\"#7201a8\"],[0.3333333333333333,\"#9c179e\"],[0.4444444444444444,\"#bd3786\"],[0.5555555555555556,\"#d8576b\"],[0.6666666666666666,\"#ed7953\"],[0.7777777777777778,\"#fb9f3a\"],[0.8888888888888888,\"#fdca26\"],[1.0,\"#f0f921\"]],\"type\":\"histogram2d\"}],\"histogram2dcontour\":[{\"colorbar\":{\"outlinewidth\":0,\"ticks\":\"\"},\"colorscale\":[[0.0,\"#0d0887\"],[0.1111111111111111,\"#46039f\"],[0.2222222222222222,\"#7201a8\"],[0.3333333333333333,\"#9c179e\"],[0.4444444444444444,\"#bd3786\"],[0.5555555555555556,\"#d8576b\"],[0.6666666666666666,\"#ed7953\"],[0.7777777777777778,\"#fb9f3a\"],[0.8888888888888888,\"#fdca26\"],[1.0,\"#f0f921\"]],\"type\":\"histogram2dcontour\"}],\"mesh3d\":[{\"colorbar\":{\"outlinewidth\":0,\"ticks\":\"\"},\"type\":\"mesh3d\"}],\"parcoords\":[{\"line\":{\"colorbar\":{\"outlinewidth\":0,\"ticks\":\"\"}},\"type\":\"parcoords\"}],\"pie\":[{\"automargin\":true,\"type\":\"pie\"}],\"scatter\":[{\"marker\":{\"colorbar\":{\"outlinewidth\":0,\"ticks\":\"\"}},\"type\":\"scatter\"}],\"scatter3d\":[{\"line\":{\"colorbar\":{\"outlinewidth\":0,\"ticks\":\"\"}},\"marker\":{\"colorbar\":{\"outlinewidth\":0,\"ticks\":\"\"}},\"type\":\"scatter3d\"}],\"scattercarpet\":[{\"marker\":{\"colorbar\":{\"outlinewidth\":0,\"ticks\":\"\"}},\"type\":\"scattercarpet\"}],\"scattergeo\":[{\"marker\":{\"colorbar\":{\"outlinewidth\":0,\"ticks\":\"\"}},\"type\":\"scattergeo\"}],\"scattergl\":[{\"marker\":{\"colorbar\":{\"outlinewidth\":0,\"ticks\":\"\"}},\"type\":\"scattergl\"}],\"scattermapbox\":[{\"marker\":{\"colorbar\":{\"outlinewidth\":0,\"ticks\":\"\"}},\"type\":\"scattermapbox\"}],\"scatterpolar\":[{\"marker\":{\"colorbar\":{\"outlinewidth\":0,\"ticks\":\"\"}},\"type\":\"scatterpolar\"}],\"scatterpolargl\":[{\"marker\":{\"colorbar\":{\"outlinewidth\":0,\"ticks\":\"\"}},\"type\":\"scatterpolargl\"}],\"scatterternary\":[{\"marker\":{\"colorbar\":{\"outlinewidth\":0,\"ticks\":\"\"}},\"type\":\"scatterternary\"}],\"surface\":[{\"colorbar\":{\"outlinewidth\":0,\"ticks\":\"\"},\"colorscale\":[[0.0,\"#0d0887\"],[0.1111111111111111,\"#46039f\"],[0.2222222222222222,\"#7201a8\"],[0.3333333333333333,\"#9c179e\"],[0.4444444444444444,\"#bd3786\"],[0.5555555555555556,\"#d8576b\"],[0.6666666666666666,\"#ed7953\"],[0.7777777777777778,\"#fb9f3a\"],[0.8888888888888888,\"#fdca26\"],[1.0,\"#f0f921\"]],\"type\":\"surface\"}],\"table\":[{\"cells\":{\"fill\":{\"color\":\"#EBF0F8\"},\"line\":{\"color\":\"white\"}},\"header\":{\"fill\":{\"color\":\"#C8D4E3\"},\"line\":{\"color\":\"white\"}},\"type\":\"table\"}]},\"layout\":{\"annotationdefaults\":{\"arrowcolor\":\"#2a3f5f\",\"arrowhead\":0,\"arrowwidth\":1},\"autotypenumbers\":\"strict\",\"coloraxis\":{\"colorbar\":{\"outlinewidth\":0,\"ticks\":\"\"}},\"colorscale\":{\"diverging\":[[0,\"#8e0152\"],[0.1,\"#c51b7d\"],[0.2,\"#de77ae\"],[0.3,\"#f1b6da\"],[0.4,\"#fde0ef\"],[0.5,\"#f7f7f7\"],[0.6,\"#e6f5d0\"],[0.7,\"#b8e186\"],[0.8,\"#7fbc41\"],[0.9,\"#4d9221\"],[1,\"#276419\"]],\"sequential\":[[0.0,\"#0d0887\"],[0.1111111111111111,\"#46039f\"],[0.2222222222222222,\"#7201a8\"],[0.3333333333333333,\"#9c179e\"],[0.4444444444444444,\"#bd3786\"],[0.5555555555555556,\"#d8576b\"],[0.6666666666666666,\"#ed7953\"],[0.7777777777777778,\"#fb9f3a\"],[0.8888888888888888,\"#fdca26\"],[1.0,\"#f0f921\"]],\"sequentialminus\":[[0.0,\"#0d0887\"],[0.1111111111111111,\"#46039f\"],[0.2222222222222222,\"#7201a8\"],[0.3333333333333333,\"#9c179e\"],[0.4444444444444444,\"#bd3786\"],[0.5555555555555556,\"#d8576b\"],[0.6666666666666666,\"#ed7953\"],[0.7777777777777778,\"#fb9f3a\"],[0.8888888888888888,\"#fdca26\"],[1.0,\"#f0f921\"]]},\"colorway\":[\"#636efa\",\"#EF553B\",\"#00cc96\",\"#ab63fa\",\"#FFA15A\",\"#19d3f3\",\"#FF6692\",\"#B6E880\",\"#FF97FF\",\"#FECB52\"],\"font\":{\"color\":\"#2a3f5f\"},\"geo\":{\"bgcolor\":\"white\",\"lakecolor\":\"white\",\"landcolor\":\"#E5ECF6\",\"showlakes\":true,\"showland\":true,\"subunitcolor\":\"white\"},\"hoverlabel\":{\"align\":\"left\"},\"hovermode\":\"closest\",\"mapbox\":{\"style\":\"light\"},\"paper_bgcolor\":\"white\",\"plot_bgcolor\":\"#E5ECF6\",\"polar\":{\"angularaxis\":{\"gridcolor\":\"white\",\"linecolor\":\"white\",\"ticks\":\"\"},\"bgcolor\":\"#E5ECF6\",\"radialaxis\":{\"gridcolor\":\"white\",\"linecolor\":\"white\",\"ticks\":\"\"}},\"scene\":{\"xaxis\":{\"backgroundcolor\":\"#E5ECF6\",\"gridcolor\":\"white\",\"gridwidth\":2,\"linecolor\":\"white\",\"showbackground\":true,\"ticks\":\"\",\"zerolinecolor\":\"white\"},\"yaxis\":{\"backgroundcolor\":\"#E5ECF6\",\"gridcolor\":\"white\",\"gridwidth\":2,\"linecolor\":\"white\",\"showbackground\":true,\"ticks\":\"\",\"zerolinecolor\":\"white\"},\"zaxis\":{\"backgroundcolor\":\"#E5ECF6\",\"gridcolor\":\"white\",\"gridwidth\":2,\"linecolor\":\"white\",\"showbackground\":true,\"ticks\":\"\",\"zerolinecolor\":\"white\"}},\"shapedefaults\":{\"line\":{\"color\":\"#2a3f5f\"}},\"ternary\":{\"aaxis\":{\"gridcolor\":\"white\",\"linecolor\":\"white\",\"ticks\":\"\"},\"baxis\":{\"gridcolor\":\"white\",\"linecolor\":\"white\",\"ticks\":\"\"},\"bgcolor\":\"#E5ECF6\",\"caxis\":{\"gridcolor\":\"white\",\"linecolor\":\"white\",\"ticks\":\"\"}},\"title\":{\"x\":0.05},\"xaxis\":{\"automargin\":true,\"gridcolor\":\"white\",\"linecolor\":\"white\",\"ticks\":\"\",\"title\":{\"standoff\":15},\"zerolinecolor\":\"white\",\"zerolinewidth\":2},\"yaxis\":{\"automargin\":true,\"gridcolor\":\"white\",\"linecolor\":\"white\",\"ticks\":\"\",\"title\":{\"standoff\":15},\"zerolinecolor\":\"white\",\"zerolinewidth\":2}}},\"xaxis\":{\"anchor\":\"y\",\"domain\":[0.0,0.2888888888888889]},\"yaxis\":{\"anchor\":\"x\",\"domain\":[0.625,1.0],\"title\":{\"text\":\"Time (in seconds)\"}},\"xaxis2\":{\"anchor\":\"y2\",\"domain\":[0.35555555555555557,0.6444444444444445]},\"yaxis2\":{\"anchor\":\"x2\",\"domain\":[0.625,1.0],\"matches\":\"y\",\"showticklabels\":false},\"xaxis3\":{\"anchor\":\"y3\",\"domain\":[0.7111111111111111,1.0]},\"yaxis3\":{\"anchor\":\"x3\",\"domain\":[0.625,1.0],\"matches\":\"y\",\"showticklabels\":false},\"xaxis4\":{\"anchor\":\"y4\",\"domain\":[0.0,0.2888888888888889]},\"yaxis4\":{\"anchor\":\"x4\",\"domain\":[0.0,0.375],\"title\":{\"text\":\"Time (in seconds)\"}},\"xaxis5\":{\"anchor\":\"y5\",\"domain\":[0.35555555555555557,0.6444444444444445],\"title\":{\"text\":\"K-Neighbours\"}},\"yaxis5\":{\"anchor\":\"x5\",\"domain\":[0.0,0.375],\"matches\":\"y4\",\"showticklabels\":false},\"xaxis6\":{\"anchor\":\"y6\",\"domain\":[0.7111111111111111,1.0]},\"yaxis6\":{\"anchor\":\"x6\",\"domain\":[0.0,0.375],\"matches\":\"y4\",\"showticklabels\":false},\"annotations\":[{\"font\":{\"size\":12},\"showarrow\":false,\"text\":\"Train-and-Test split 70-30\",\"x\":0.14444444444444446,\"xanchor\":\"center\",\"xref\":\"paper\",\"y\":1.0,\"yanchor\":\"bottom\",\"yref\":\"paper\"},{\"font\":{\"size\":12},\"showarrow\":false,\"text\":\"Train-and-Test split 60-40\",\"x\":0.5,\"xanchor\":\"center\",\"xref\":\"paper\",\"y\":1.0,\"yanchor\":\"bottom\",\"yref\":\"paper\"},{\"font\":{\"size\":12},\"showarrow\":false,\"text\":\"Train-and-Test split 50-50\",\"x\":0.8555555555555556,\"xanchor\":\"center\",\"xref\":\"paper\",\"y\":1.0,\"yanchor\":\"bottom\",\"yref\":\"paper\"},{\"font\":{\"size\":12},\"showarrow\":false,\"text\":\"K-Fold cross-validation 5 folds\",\"x\":0.14444444444444446,\"xanchor\":\"center\",\"xref\":\"paper\",\"y\":0.375,\"yanchor\":\"bottom\",\"yref\":\"paper\"},{\"font\":{\"size\":12},\"showarrow\":false,\"text\":\"K-Fold cross-validation 10 folds\",\"x\":0.5,\"xanchor\":\"center\",\"xref\":\"paper\",\"y\":0.375,\"yanchor\":\"bottom\",\"yref\":\"paper\"},{\"font\":{\"size\":12},\"showarrow\":false,\"text\":\"K-Fold cross-validation 15 folds\",\"x\":0.8555555555555556,\"xanchor\":\"center\",\"xref\":\"paper\",\"y\":0.375,\"yanchor\":\"bottom\",\"yref\":\"paper\"}],\"title\":{\"text\":\"Computational Time Taken for Each Experiment Setup\"},\"height\":500,\"width\":800},                        {\"responsive\": true}                    ).then(function(){\n",
       "                            \n",
       "var gd = document.getElementById('f6895421-155f-4d61-a093-d784ada73884');\n",
       "var x = new MutationObserver(function (mutations, observer) {{\n",
       "        var display = window.getComputedStyle(gd).display;\n",
       "        if (!display || display === 'none') {{\n",
       "            console.log([gd, 'removed!']);\n",
       "            Plotly.purge(gd);\n",
       "            observer.disconnect();\n",
       "        }}\n",
       "}});\n",
       "\n",
       "// Listen for the removal of the full notebook cells\n",
       "var notebookContainer = gd.closest('#notebook-container');\n",
       "if (notebookContainer) {{\n",
       "    x.observe(notebookContainer, {childList: true});\n",
       "}}\n",
       "\n",
       "// Listen for the clearing of the current output cell\n",
       "var outputEl = gd.closest('.output');\n",
       "if (outputEl) {{\n",
       "    x.observe(outputEl, {childList: true});\n",
       "}}\n",
       "\n",
       "                        })                };                });            </script>        </div>"
      ]
     },
     "metadata": {},
     "output_type": "display_data"
    }
   ],
   "source": [
    "from plotly.subplots import make_subplots\n",
    "import plotly.graph_objects as go\n",
    "\n",
    "K = [1, 5, 10, 15, 20]\n",
    "\n",
    "y1 = time_TT70\n",
    "y2 = time_TT60\n",
    "y3 = time_TT50\n",
    "y4 = time_CV5\n",
    "y5 = time_CV10\n",
    "y6 = time_CV15\n",
    "\n",
    "\n",
    "fig = make_subplots(rows=2, cols = 3, shared_yaxes = True, subplot_titles=(\n",
    "                    'Train-and-Test split 70-30', 'Train-and-Test split 60-40', 'Train-and-Test split 50-50',\n",
    "                    'K-Fold cross-validation 5 folds', 'K-Fold cross-validation 10 folds', \n",
    "                    'K-Fold cross-validation 15 folds'))\n",
    "\n",
    "fig.add_trace(\n",
    "    go.Scatter(x=K, y=y1, name=\"TT_70_30\"), row=1, col=1)\n",
    "fig.add_trace(\n",
    "    go.Scatter(x=K, y=y2, name=\"TT_60_40\"), row=1, col=2)\n",
    "fig.add_trace(\n",
    "    go.Scatter(x=K, y=y3, name=\"TT_50_50\"), row=1, col=3)\n",
    "fig.add_trace(\n",
    "    go.Scatter(x=K, y=y4, name=\"CV_5\"), row=2, col=1)\n",
    "fig.add_trace(\n",
    "    go.Scatter(x=K, y=y5, name=\"CV_10\"), row=2, col=2)\n",
    "fig.add_trace(\n",
    "    go.Scatter(x=K, y=y6, name=\"CV_15\"), row=2, col=3)\n",
    "\n",
    "fig.update_yaxes(title_text=\"Time (in seconds)\", row=1, col=1)\n",
    "fig.update_yaxes(title_text=\"Time (in seconds)\", row=2, col=1)\n",
    "fig.update_xaxes(title_text=\"K-Neighbours\", row=2, col=2)\n",
    "\n",
    "fig.update_annotations(font_size=12)\n",
    "fig.update_layout(height = 500, width = 800, title_text=\"Computational Time Taken for Each Experiment Setup\")\n",
    "fig.show()"
   ]
  },
  {
   "cell_type": "code",
   "execution_count": 27,
   "id": "012602f6",
   "metadata": {
    "ExecuteTime": {
     "end_time": "2022-04-14T10:20:14.693099Z",
     "start_time": "2022-04-14T10:20:14.661783Z"
    }
   },
   "outputs": [
    {
     "data": {
      "application/vnd.plotly.v1+json": {
       "config": {
        "plotlyServerURL": "https://plot.ly"
       },
       "data": [
        {
         "name": "TT_7030",
         "type": "scatter",
         "x": [
          1,
          5,
          10,
          15,
          20
         ],
         "y": [
          11.969498791,
          12.136061707999998,
          11.931053167000002,
          11.905937875,
          11.935680333
         ]
        },
        {
         "name": "TT_6040",
         "type": "scatter",
         "x": [
          1,
          5,
          10,
          15,
          20
         ],
         "y": [
          13.482961250000002,
          13.473927540999995,
          13.479214249999998,
          13.604603000000012,
          13.662120541000007
         ]
        },
        {
         "name": "TT_5050",
         "type": "scatter",
         "x": [
          1,
          5,
          10,
          15,
          20
         ],
         "y": [
          14.147152291999987,
          14.070141124999992,
          13.971965082999986,
          13.976532082999995,
          13.991839040999992
         ]
        }
       ],
       "layout": {
        "height": 400,
        "template": {
         "data": {
          "bar": [
           {
            "error_x": {
             "color": "#2a3f5f"
            },
            "error_y": {
             "color": "#2a3f5f"
            },
            "marker": {
             "line": {
              "color": "#E5ECF6",
              "width": 0.5
             },
             "pattern": {
              "fillmode": "overlay",
              "size": 10,
              "solidity": 0.2
             }
            },
            "type": "bar"
           }
          ],
          "barpolar": [
           {
            "marker": {
             "line": {
              "color": "#E5ECF6",
              "width": 0.5
             },
             "pattern": {
              "fillmode": "overlay",
              "size": 10,
              "solidity": 0.2
             }
            },
            "type": "barpolar"
           }
          ],
          "carpet": [
           {
            "aaxis": {
             "endlinecolor": "#2a3f5f",
             "gridcolor": "white",
             "linecolor": "white",
             "minorgridcolor": "white",
             "startlinecolor": "#2a3f5f"
            },
            "baxis": {
             "endlinecolor": "#2a3f5f",
             "gridcolor": "white",
             "linecolor": "white",
             "minorgridcolor": "white",
             "startlinecolor": "#2a3f5f"
            },
            "type": "carpet"
           }
          ],
          "choropleth": [
           {
            "colorbar": {
             "outlinewidth": 0,
             "ticks": ""
            },
            "type": "choropleth"
           }
          ],
          "contour": [
           {
            "colorbar": {
             "outlinewidth": 0,
             "ticks": ""
            },
            "colorscale": [
             [
              0,
              "#0d0887"
             ],
             [
              0.1111111111111111,
              "#46039f"
             ],
             [
              0.2222222222222222,
              "#7201a8"
             ],
             [
              0.3333333333333333,
              "#9c179e"
             ],
             [
              0.4444444444444444,
              "#bd3786"
             ],
             [
              0.5555555555555556,
              "#d8576b"
             ],
             [
              0.6666666666666666,
              "#ed7953"
             ],
             [
              0.7777777777777778,
              "#fb9f3a"
             ],
             [
              0.8888888888888888,
              "#fdca26"
             ],
             [
              1,
              "#f0f921"
             ]
            ],
            "type": "contour"
           }
          ],
          "contourcarpet": [
           {
            "colorbar": {
             "outlinewidth": 0,
             "ticks": ""
            },
            "type": "contourcarpet"
           }
          ],
          "heatmap": [
           {
            "colorbar": {
             "outlinewidth": 0,
             "ticks": ""
            },
            "colorscale": [
             [
              0,
              "#0d0887"
             ],
             [
              0.1111111111111111,
              "#46039f"
             ],
             [
              0.2222222222222222,
              "#7201a8"
             ],
             [
              0.3333333333333333,
              "#9c179e"
             ],
             [
              0.4444444444444444,
              "#bd3786"
             ],
             [
              0.5555555555555556,
              "#d8576b"
             ],
             [
              0.6666666666666666,
              "#ed7953"
             ],
             [
              0.7777777777777778,
              "#fb9f3a"
             ],
             [
              0.8888888888888888,
              "#fdca26"
             ],
             [
              1,
              "#f0f921"
             ]
            ],
            "type": "heatmap"
           }
          ],
          "heatmapgl": [
           {
            "colorbar": {
             "outlinewidth": 0,
             "ticks": ""
            },
            "colorscale": [
             [
              0,
              "#0d0887"
             ],
             [
              0.1111111111111111,
              "#46039f"
             ],
             [
              0.2222222222222222,
              "#7201a8"
             ],
             [
              0.3333333333333333,
              "#9c179e"
             ],
             [
              0.4444444444444444,
              "#bd3786"
             ],
             [
              0.5555555555555556,
              "#d8576b"
             ],
             [
              0.6666666666666666,
              "#ed7953"
             ],
             [
              0.7777777777777778,
              "#fb9f3a"
             ],
             [
              0.8888888888888888,
              "#fdca26"
             ],
             [
              1,
              "#f0f921"
             ]
            ],
            "type": "heatmapgl"
           }
          ],
          "histogram": [
           {
            "marker": {
             "pattern": {
              "fillmode": "overlay",
              "size": 10,
              "solidity": 0.2
             }
            },
            "type": "histogram"
           }
          ],
          "histogram2d": [
           {
            "colorbar": {
             "outlinewidth": 0,
             "ticks": ""
            },
            "colorscale": [
             [
              0,
              "#0d0887"
             ],
             [
              0.1111111111111111,
              "#46039f"
             ],
             [
              0.2222222222222222,
              "#7201a8"
             ],
             [
              0.3333333333333333,
              "#9c179e"
             ],
             [
              0.4444444444444444,
              "#bd3786"
             ],
             [
              0.5555555555555556,
              "#d8576b"
             ],
             [
              0.6666666666666666,
              "#ed7953"
             ],
             [
              0.7777777777777778,
              "#fb9f3a"
             ],
             [
              0.8888888888888888,
              "#fdca26"
             ],
             [
              1,
              "#f0f921"
             ]
            ],
            "type": "histogram2d"
           }
          ],
          "histogram2dcontour": [
           {
            "colorbar": {
             "outlinewidth": 0,
             "ticks": ""
            },
            "colorscale": [
             [
              0,
              "#0d0887"
             ],
             [
              0.1111111111111111,
              "#46039f"
             ],
             [
              0.2222222222222222,
              "#7201a8"
             ],
             [
              0.3333333333333333,
              "#9c179e"
             ],
             [
              0.4444444444444444,
              "#bd3786"
             ],
             [
              0.5555555555555556,
              "#d8576b"
             ],
             [
              0.6666666666666666,
              "#ed7953"
             ],
             [
              0.7777777777777778,
              "#fb9f3a"
             ],
             [
              0.8888888888888888,
              "#fdca26"
             ],
             [
              1,
              "#f0f921"
             ]
            ],
            "type": "histogram2dcontour"
           }
          ],
          "mesh3d": [
           {
            "colorbar": {
             "outlinewidth": 0,
             "ticks": ""
            },
            "type": "mesh3d"
           }
          ],
          "parcoords": [
           {
            "line": {
             "colorbar": {
              "outlinewidth": 0,
              "ticks": ""
             }
            },
            "type": "parcoords"
           }
          ],
          "pie": [
           {
            "automargin": true,
            "type": "pie"
           }
          ],
          "scatter": [
           {
            "marker": {
             "colorbar": {
              "outlinewidth": 0,
              "ticks": ""
             }
            },
            "type": "scatter"
           }
          ],
          "scatter3d": [
           {
            "line": {
             "colorbar": {
              "outlinewidth": 0,
              "ticks": ""
             }
            },
            "marker": {
             "colorbar": {
              "outlinewidth": 0,
              "ticks": ""
             }
            },
            "type": "scatter3d"
           }
          ],
          "scattercarpet": [
           {
            "marker": {
             "colorbar": {
              "outlinewidth": 0,
              "ticks": ""
             }
            },
            "type": "scattercarpet"
           }
          ],
          "scattergeo": [
           {
            "marker": {
             "colorbar": {
              "outlinewidth": 0,
              "ticks": ""
             }
            },
            "type": "scattergeo"
           }
          ],
          "scattergl": [
           {
            "marker": {
             "colorbar": {
              "outlinewidth": 0,
              "ticks": ""
             }
            },
            "type": "scattergl"
           }
          ],
          "scattermapbox": [
           {
            "marker": {
             "colorbar": {
              "outlinewidth": 0,
              "ticks": ""
             }
            },
            "type": "scattermapbox"
           }
          ],
          "scatterpolar": [
           {
            "marker": {
             "colorbar": {
              "outlinewidth": 0,
              "ticks": ""
             }
            },
            "type": "scatterpolar"
           }
          ],
          "scatterpolargl": [
           {
            "marker": {
             "colorbar": {
              "outlinewidth": 0,
              "ticks": ""
             }
            },
            "type": "scatterpolargl"
           }
          ],
          "scatterternary": [
           {
            "marker": {
             "colorbar": {
              "outlinewidth": 0,
              "ticks": ""
             }
            },
            "type": "scatterternary"
           }
          ],
          "surface": [
           {
            "colorbar": {
             "outlinewidth": 0,
             "ticks": ""
            },
            "colorscale": [
             [
              0,
              "#0d0887"
             ],
             [
              0.1111111111111111,
              "#46039f"
             ],
             [
              0.2222222222222222,
              "#7201a8"
             ],
             [
              0.3333333333333333,
              "#9c179e"
             ],
             [
              0.4444444444444444,
              "#bd3786"
             ],
             [
              0.5555555555555556,
              "#d8576b"
             ],
             [
              0.6666666666666666,
              "#ed7953"
             ],
             [
              0.7777777777777778,
              "#fb9f3a"
             ],
             [
              0.8888888888888888,
              "#fdca26"
             ],
             [
              1,
              "#f0f921"
             ]
            ],
            "type": "surface"
           }
          ],
          "table": [
           {
            "cells": {
             "fill": {
              "color": "#EBF0F8"
             },
             "line": {
              "color": "white"
             }
            },
            "header": {
             "fill": {
              "color": "#C8D4E3"
             },
             "line": {
              "color": "white"
             }
            },
            "type": "table"
           }
          ]
         },
         "layout": {
          "annotationdefaults": {
           "arrowcolor": "#2a3f5f",
           "arrowhead": 0,
           "arrowwidth": 1
          },
          "autotypenumbers": "strict",
          "coloraxis": {
           "colorbar": {
            "outlinewidth": 0,
            "ticks": ""
           }
          },
          "colorscale": {
           "diverging": [
            [
             0,
             "#8e0152"
            ],
            [
             0.1,
             "#c51b7d"
            ],
            [
             0.2,
             "#de77ae"
            ],
            [
             0.3,
             "#f1b6da"
            ],
            [
             0.4,
             "#fde0ef"
            ],
            [
             0.5,
             "#f7f7f7"
            ],
            [
             0.6,
             "#e6f5d0"
            ],
            [
             0.7,
             "#b8e186"
            ],
            [
             0.8,
             "#7fbc41"
            ],
            [
             0.9,
             "#4d9221"
            ],
            [
             1,
             "#276419"
            ]
           ],
           "sequential": [
            [
             0,
             "#0d0887"
            ],
            [
             0.1111111111111111,
             "#46039f"
            ],
            [
             0.2222222222222222,
             "#7201a8"
            ],
            [
             0.3333333333333333,
             "#9c179e"
            ],
            [
             0.4444444444444444,
             "#bd3786"
            ],
            [
             0.5555555555555556,
             "#d8576b"
            ],
            [
             0.6666666666666666,
             "#ed7953"
            ],
            [
             0.7777777777777778,
             "#fb9f3a"
            ],
            [
             0.8888888888888888,
             "#fdca26"
            ],
            [
             1,
             "#f0f921"
            ]
           ],
           "sequentialminus": [
            [
             0,
             "#0d0887"
            ],
            [
             0.1111111111111111,
             "#46039f"
            ],
            [
             0.2222222222222222,
             "#7201a8"
            ],
            [
             0.3333333333333333,
             "#9c179e"
            ],
            [
             0.4444444444444444,
             "#bd3786"
            ],
            [
             0.5555555555555556,
             "#d8576b"
            ],
            [
             0.6666666666666666,
             "#ed7953"
            ],
            [
             0.7777777777777778,
             "#fb9f3a"
            ],
            [
             0.8888888888888888,
             "#fdca26"
            ],
            [
             1,
             "#f0f921"
            ]
           ]
          },
          "colorway": [
           "#636efa",
           "#EF553B",
           "#00cc96",
           "#ab63fa",
           "#FFA15A",
           "#19d3f3",
           "#FF6692",
           "#B6E880",
           "#FF97FF",
           "#FECB52"
          ],
          "font": {
           "color": "#2a3f5f"
          },
          "geo": {
           "bgcolor": "white",
           "lakecolor": "white",
           "landcolor": "#E5ECF6",
           "showlakes": true,
           "showland": true,
           "subunitcolor": "white"
          },
          "hoverlabel": {
           "align": "left"
          },
          "hovermode": "closest",
          "mapbox": {
           "style": "light"
          },
          "paper_bgcolor": "white",
          "plot_bgcolor": "#E5ECF6",
          "polar": {
           "angularaxis": {
            "gridcolor": "white",
            "linecolor": "white",
            "ticks": ""
           },
           "bgcolor": "#E5ECF6",
           "radialaxis": {
            "gridcolor": "white",
            "linecolor": "white",
            "ticks": ""
           }
          },
          "scene": {
           "xaxis": {
            "backgroundcolor": "#E5ECF6",
            "gridcolor": "white",
            "gridwidth": 2,
            "linecolor": "white",
            "showbackground": true,
            "ticks": "",
            "zerolinecolor": "white"
           },
           "yaxis": {
            "backgroundcolor": "#E5ECF6",
            "gridcolor": "white",
            "gridwidth": 2,
            "linecolor": "white",
            "showbackground": true,
            "ticks": "",
            "zerolinecolor": "white"
           },
           "zaxis": {
            "backgroundcolor": "#E5ECF6",
            "gridcolor": "white",
            "gridwidth": 2,
            "linecolor": "white",
            "showbackground": true,
            "ticks": "",
            "zerolinecolor": "white"
           }
          },
          "shapedefaults": {
           "line": {
            "color": "#2a3f5f"
           }
          },
          "ternary": {
           "aaxis": {
            "gridcolor": "white",
            "linecolor": "white",
            "ticks": ""
           },
           "baxis": {
            "gridcolor": "white",
            "linecolor": "white",
            "ticks": ""
           },
           "bgcolor": "#E5ECF6",
           "caxis": {
            "gridcolor": "white",
            "linecolor": "white",
            "ticks": ""
           }
          },
          "title": {
           "x": 0.05
          },
          "xaxis": {
           "automargin": true,
           "gridcolor": "white",
           "linecolor": "white",
           "ticks": "",
           "title": {
            "standoff": 15
           },
           "zerolinecolor": "white",
           "zerolinewidth": 2
          },
          "yaxis": {
           "automargin": true,
           "gridcolor": "white",
           "linecolor": "white",
           "ticks": "",
           "title": {
            "standoff": 15
           },
           "zerolinecolor": "white",
           "zerolinewidth": 2
          }
         }
        },
        "title": {
         "text": "Computational Time Taken for Train-and-Test Split"
        },
        "width": 700,
        "xaxis": {
         "anchor": "y",
         "domain": [
          0,
          1
         ],
         "range": [
          0,
          21
         ],
         "title": {
          "text": "K-Neighbours"
         }
        },
        "yaxis": {
         "anchor": "x",
         "domain": [
          0,
          1
         ],
         "range": [
          11,
          15
         ],
         "title": {
          "text": "Time (in seconds)"
         }
        }
       }
      },
      "text/html": [
       "<div>                            <div id=\"7d32b4e9-c839-4ef9-b3be-406fd2a65c37\" class=\"plotly-graph-div\" style=\"height:400px; width:700px;\"></div>            <script type=\"text/javascript\">                require([\"plotly\"], function(Plotly) {                    window.PLOTLYENV=window.PLOTLYENV || {};                                    if (document.getElementById(\"7d32b4e9-c839-4ef9-b3be-406fd2a65c37\")) {                    Plotly.newPlot(                        \"7d32b4e9-c839-4ef9-b3be-406fd2a65c37\",                        [{\"name\":\"TT_7030\",\"x\":[1,5,10,15,20],\"y\":[11.969498791,12.136061707999998,11.931053167000002,11.905937875,11.935680333],\"type\":\"scatter\"},{\"name\":\"TT_6040\",\"x\":[1,5,10,15,20],\"y\":[13.482961250000002,13.473927540999995,13.479214249999998,13.604603000000012,13.662120541000007],\"type\":\"scatter\"},{\"name\":\"TT_5050\",\"x\":[1,5,10,15,20],\"y\":[14.147152291999987,14.070141124999992,13.971965082999986,13.976532082999995,13.991839040999992],\"type\":\"scatter\"}],                        {\"template\":{\"data\":{\"bar\":[{\"error_x\":{\"color\":\"#2a3f5f\"},\"error_y\":{\"color\":\"#2a3f5f\"},\"marker\":{\"line\":{\"color\":\"#E5ECF6\",\"width\":0.5},\"pattern\":{\"fillmode\":\"overlay\",\"size\":10,\"solidity\":0.2}},\"type\":\"bar\"}],\"barpolar\":[{\"marker\":{\"line\":{\"color\":\"#E5ECF6\",\"width\":0.5},\"pattern\":{\"fillmode\":\"overlay\",\"size\":10,\"solidity\":0.2}},\"type\":\"barpolar\"}],\"carpet\":[{\"aaxis\":{\"endlinecolor\":\"#2a3f5f\",\"gridcolor\":\"white\",\"linecolor\":\"white\",\"minorgridcolor\":\"white\",\"startlinecolor\":\"#2a3f5f\"},\"baxis\":{\"endlinecolor\":\"#2a3f5f\",\"gridcolor\":\"white\",\"linecolor\":\"white\",\"minorgridcolor\":\"white\",\"startlinecolor\":\"#2a3f5f\"},\"type\":\"carpet\"}],\"choropleth\":[{\"colorbar\":{\"outlinewidth\":0,\"ticks\":\"\"},\"type\":\"choropleth\"}],\"contour\":[{\"colorbar\":{\"outlinewidth\":0,\"ticks\":\"\"},\"colorscale\":[[0.0,\"#0d0887\"],[0.1111111111111111,\"#46039f\"],[0.2222222222222222,\"#7201a8\"],[0.3333333333333333,\"#9c179e\"],[0.4444444444444444,\"#bd3786\"],[0.5555555555555556,\"#d8576b\"],[0.6666666666666666,\"#ed7953\"],[0.7777777777777778,\"#fb9f3a\"],[0.8888888888888888,\"#fdca26\"],[1.0,\"#f0f921\"]],\"type\":\"contour\"}],\"contourcarpet\":[{\"colorbar\":{\"outlinewidth\":0,\"ticks\":\"\"},\"type\":\"contourcarpet\"}],\"heatmap\":[{\"colorbar\":{\"outlinewidth\":0,\"ticks\":\"\"},\"colorscale\":[[0.0,\"#0d0887\"],[0.1111111111111111,\"#46039f\"],[0.2222222222222222,\"#7201a8\"],[0.3333333333333333,\"#9c179e\"],[0.4444444444444444,\"#bd3786\"],[0.5555555555555556,\"#d8576b\"],[0.6666666666666666,\"#ed7953\"],[0.7777777777777778,\"#fb9f3a\"],[0.8888888888888888,\"#fdca26\"],[1.0,\"#f0f921\"]],\"type\":\"heatmap\"}],\"heatmapgl\":[{\"colorbar\":{\"outlinewidth\":0,\"ticks\":\"\"},\"colorscale\":[[0.0,\"#0d0887\"],[0.1111111111111111,\"#46039f\"],[0.2222222222222222,\"#7201a8\"],[0.3333333333333333,\"#9c179e\"],[0.4444444444444444,\"#bd3786\"],[0.5555555555555556,\"#d8576b\"],[0.6666666666666666,\"#ed7953\"],[0.7777777777777778,\"#fb9f3a\"],[0.8888888888888888,\"#fdca26\"],[1.0,\"#f0f921\"]],\"type\":\"heatmapgl\"}],\"histogram\":[{\"marker\":{\"pattern\":{\"fillmode\":\"overlay\",\"size\":10,\"solidity\":0.2}},\"type\":\"histogram\"}],\"histogram2d\":[{\"colorbar\":{\"outlinewidth\":0,\"ticks\":\"\"},\"colorscale\":[[0.0,\"#0d0887\"],[0.1111111111111111,\"#46039f\"],[0.2222222222222222,\"#7201a8\"],[0.3333333333333333,\"#9c179e\"],[0.4444444444444444,\"#bd3786\"],[0.5555555555555556,\"#d8576b\"],[0.6666666666666666,\"#ed7953\"],[0.7777777777777778,\"#fb9f3a\"],[0.8888888888888888,\"#fdca26\"],[1.0,\"#f0f921\"]],\"type\":\"histogram2d\"}],\"histogram2dcontour\":[{\"colorbar\":{\"outlinewidth\":0,\"ticks\":\"\"},\"colorscale\":[[0.0,\"#0d0887\"],[0.1111111111111111,\"#46039f\"],[0.2222222222222222,\"#7201a8\"],[0.3333333333333333,\"#9c179e\"],[0.4444444444444444,\"#bd3786\"],[0.5555555555555556,\"#d8576b\"],[0.6666666666666666,\"#ed7953\"],[0.7777777777777778,\"#fb9f3a\"],[0.8888888888888888,\"#fdca26\"],[1.0,\"#f0f921\"]],\"type\":\"histogram2dcontour\"}],\"mesh3d\":[{\"colorbar\":{\"outlinewidth\":0,\"ticks\":\"\"},\"type\":\"mesh3d\"}],\"parcoords\":[{\"line\":{\"colorbar\":{\"outlinewidth\":0,\"ticks\":\"\"}},\"type\":\"parcoords\"}],\"pie\":[{\"automargin\":true,\"type\":\"pie\"}],\"scatter\":[{\"marker\":{\"colorbar\":{\"outlinewidth\":0,\"ticks\":\"\"}},\"type\":\"scatter\"}],\"scatter3d\":[{\"line\":{\"colorbar\":{\"outlinewidth\":0,\"ticks\":\"\"}},\"marker\":{\"colorbar\":{\"outlinewidth\":0,\"ticks\":\"\"}},\"type\":\"scatter3d\"}],\"scattercarpet\":[{\"marker\":{\"colorbar\":{\"outlinewidth\":0,\"ticks\":\"\"}},\"type\":\"scattercarpet\"}],\"scattergeo\":[{\"marker\":{\"colorbar\":{\"outlinewidth\":0,\"ticks\":\"\"}},\"type\":\"scattergeo\"}],\"scattergl\":[{\"marker\":{\"colorbar\":{\"outlinewidth\":0,\"ticks\":\"\"}},\"type\":\"scattergl\"}],\"scattermapbox\":[{\"marker\":{\"colorbar\":{\"outlinewidth\":0,\"ticks\":\"\"}},\"type\":\"scattermapbox\"}],\"scatterpolar\":[{\"marker\":{\"colorbar\":{\"outlinewidth\":0,\"ticks\":\"\"}},\"type\":\"scatterpolar\"}],\"scatterpolargl\":[{\"marker\":{\"colorbar\":{\"outlinewidth\":0,\"ticks\":\"\"}},\"type\":\"scatterpolargl\"}],\"scatterternary\":[{\"marker\":{\"colorbar\":{\"outlinewidth\":0,\"ticks\":\"\"}},\"type\":\"scatterternary\"}],\"surface\":[{\"colorbar\":{\"outlinewidth\":0,\"ticks\":\"\"},\"colorscale\":[[0.0,\"#0d0887\"],[0.1111111111111111,\"#46039f\"],[0.2222222222222222,\"#7201a8\"],[0.3333333333333333,\"#9c179e\"],[0.4444444444444444,\"#bd3786\"],[0.5555555555555556,\"#d8576b\"],[0.6666666666666666,\"#ed7953\"],[0.7777777777777778,\"#fb9f3a\"],[0.8888888888888888,\"#fdca26\"],[1.0,\"#f0f921\"]],\"type\":\"surface\"}],\"table\":[{\"cells\":{\"fill\":{\"color\":\"#EBF0F8\"},\"line\":{\"color\":\"white\"}},\"header\":{\"fill\":{\"color\":\"#C8D4E3\"},\"line\":{\"color\":\"white\"}},\"type\":\"table\"}]},\"layout\":{\"annotationdefaults\":{\"arrowcolor\":\"#2a3f5f\",\"arrowhead\":0,\"arrowwidth\":1},\"autotypenumbers\":\"strict\",\"coloraxis\":{\"colorbar\":{\"outlinewidth\":0,\"ticks\":\"\"}},\"colorscale\":{\"diverging\":[[0,\"#8e0152\"],[0.1,\"#c51b7d\"],[0.2,\"#de77ae\"],[0.3,\"#f1b6da\"],[0.4,\"#fde0ef\"],[0.5,\"#f7f7f7\"],[0.6,\"#e6f5d0\"],[0.7,\"#b8e186\"],[0.8,\"#7fbc41\"],[0.9,\"#4d9221\"],[1,\"#276419\"]],\"sequential\":[[0.0,\"#0d0887\"],[0.1111111111111111,\"#46039f\"],[0.2222222222222222,\"#7201a8\"],[0.3333333333333333,\"#9c179e\"],[0.4444444444444444,\"#bd3786\"],[0.5555555555555556,\"#d8576b\"],[0.6666666666666666,\"#ed7953\"],[0.7777777777777778,\"#fb9f3a\"],[0.8888888888888888,\"#fdca26\"],[1.0,\"#f0f921\"]],\"sequentialminus\":[[0.0,\"#0d0887\"],[0.1111111111111111,\"#46039f\"],[0.2222222222222222,\"#7201a8\"],[0.3333333333333333,\"#9c179e\"],[0.4444444444444444,\"#bd3786\"],[0.5555555555555556,\"#d8576b\"],[0.6666666666666666,\"#ed7953\"],[0.7777777777777778,\"#fb9f3a\"],[0.8888888888888888,\"#fdca26\"],[1.0,\"#f0f921\"]]},\"colorway\":[\"#636efa\",\"#EF553B\",\"#00cc96\",\"#ab63fa\",\"#FFA15A\",\"#19d3f3\",\"#FF6692\",\"#B6E880\",\"#FF97FF\",\"#FECB52\"],\"font\":{\"color\":\"#2a3f5f\"},\"geo\":{\"bgcolor\":\"white\",\"lakecolor\":\"white\",\"landcolor\":\"#E5ECF6\",\"showlakes\":true,\"showland\":true,\"subunitcolor\":\"white\"},\"hoverlabel\":{\"align\":\"left\"},\"hovermode\":\"closest\",\"mapbox\":{\"style\":\"light\"},\"paper_bgcolor\":\"white\",\"plot_bgcolor\":\"#E5ECF6\",\"polar\":{\"angularaxis\":{\"gridcolor\":\"white\",\"linecolor\":\"white\",\"ticks\":\"\"},\"bgcolor\":\"#E5ECF6\",\"radialaxis\":{\"gridcolor\":\"white\",\"linecolor\":\"white\",\"ticks\":\"\"}},\"scene\":{\"xaxis\":{\"backgroundcolor\":\"#E5ECF6\",\"gridcolor\":\"white\",\"gridwidth\":2,\"linecolor\":\"white\",\"showbackground\":true,\"ticks\":\"\",\"zerolinecolor\":\"white\"},\"yaxis\":{\"backgroundcolor\":\"#E5ECF6\",\"gridcolor\":\"white\",\"gridwidth\":2,\"linecolor\":\"white\",\"showbackground\":true,\"ticks\":\"\",\"zerolinecolor\":\"white\"},\"zaxis\":{\"backgroundcolor\":\"#E5ECF6\",\"gridcolor\":\"white\",\"gridwidth\":2,\"linecolor\":\"white\",\"showbackground\":true,\"ticks\":\"\",\"zerolinecolor\":\"white\"}},\"shapedefaults\":{\"line\":{\"color\":\"#2a3f5f\"}},\"ternary\":{\"aaxis\":{\"gridcolor\":\"white\",\"linecolor\":\"white\",\"ticks\":\"\"},\"baxis\":{\"gridcolor\":\"white\",\"linecolor\":\"white\",\"ticks\":\"\"},\"bgcolor\":\"#E5ECF6\",\"caxis\":{\"gridcolor\":\"white\",\"linecolor\":\"white\",\"ticks\":\"\"}},\"title\":{\"x\":0.05},\"xaxis\":{\"automargin\":true,\"gridcolor\":\"white\",\"linecolor\":\"white\",\"ticks\":\"\",\"title\":{\"standoff\":15},\"zerolinecolor\":\"white\",\"zerolinewidth\":2},\"yaxis\":{\"automargin\":true,\"gridcolor\":\"white\",\"linecolor\":\"white\",\"ticks\":\"\",\"title\":{\"standoff\":15},\"zerolinecolor\":\"white\",\"zerolinewidth\":2}}},\"xaxis\":{\"anchor\":\"y\",\"domain\":[0.0,1.0],\"title\":{\"text\":\"K-Neighbours\"},\"range\":[0,21]},\"yaxis\":{\"anchor\":\"x\",\"domain\":[0.0,1.0],\"title\":{\"text\":\"Time (in seconds)\"},\"range\":[11,15]},\"title\":{\"text\":\"Computational Time Taken for Train-and-Test Split\"},\"height\":400,\"width\":700},                        {\"responsive\": true}                    ).then(function(){\n",
       "                            \n",
       "var gd = document.getElementById('7d32b4e9-c839-4ef9-b3be-406fd2a65c37');\n",
       "var x = new MutationObserver(function (mutations, observer) {{\n",
       "        var display = window.getComputedStyle(gd).display;\n",
       "        if (!display || display === 'none') {{\n",
       "            console.log([gd, 'removed!']);\n",
       "            Plotly.purge(gd);\n",
       "            observer.disconnect();\n",
       "        }}\n",
       "}});\n",
       "\n",
       "// Listen for the removal of the full notebook cells\n",
       "var notebookContainer = gd.closest('#notebook-container');\n",
       "if (notebookContainer) {{\n",
       "    x.observe(notebookContainer, {childList: true});\n",
       "}}\n",
       "\n",
       "// Listen for the clearing of the current output cell\n",
       "var outputEl = gd.closest('.output');\n",
       "if (outputEl) {{\n",
       "    x.observe(outputEl, {childList: true});\n",
       "}}\n",
       "\n",
       "                        })                };                });            </script>        </div>"
      ]
     },
     "metadata": {},
     "output_type": "display_data"
    }
   ],
   "source": [
    "fig = make_subplots(rows=1, cols = 1)\n",
    "fig.add_scatter(x=K, y=y1, name='TT_7030')\n",
    "fig.add_scatter(x=K, y=y2, name='TT_6040')\n",
    "fig.add_scatter(x=K, y=y3, name='TT_5050')\n",
    "fig.update_yaxes(title_text=\"Time (in seconds)\", range=[11, 15])\n",
    "fig.update_xaxes(title_text=\"K-Neighbours\", range=[0,21])\n",
    "fig.update_layout(height = 400, width = 700, title_text=\"Computational Time Taken for Train-and-Test Split\")\n",
    "fig.show()"
   ]
  },
  {
   "cell_type": "code",
   "execution_count": 28,
   "id": "0632ca03",
   "metadata": {
    "ExecuteTime": {
     "end_time": "2022-04-14T10:20:26.254393Z",
     "start_time": "2022-04-14T10:20:26.224353Z"
    }
   },
   "outputs": [
    {
     "data": {
      "application/vnd.plotly.v1+json": {
       "config": {
        "plotlyServerURL": "https://plot.ly"
       },
       "data": [
        {
         "name": "CV_5",
         "type": "scatter",
         "x": [
          1,
          5,
          10,
          15,
          20
         ],
         "y": [
          45.42937216600001,
          45.29927066699997,
          45.30660666699998,
          45.84002916600002,
          45.422869040999956
         ]
        },
        {
         "name": "CV_10",
         "type": "scatter",
         "x": [
          1,
          5,
          10,
          15,
          20
         ],
         "y": [
          52.49162291699997,
          52.282073665999974,
          52.68858158299997,
          52.855304875,
          52.02052108299995
         ]
        },
        {
         "name": "CV_15",
         "type": "scatter",
         "x": [
          1,
          5,
          10,
          15,
          20
         ],
         "y": [
          53.96269858300002,
          53.481051459000014,
          53.84508791600001,
          53.55230158400002,
          53.82659945800003
         ]
        }
       ],
       "layout": {
        "height": 400,
        "template": {
         "data": {
          "bar": [
           {
            "error_x": {
             "color": "#2a3f5f"
            },
            "error_y": {
             "color": "#2a3f5f"
            },
            "marker": {
             "line": {
              "color": "#E5ECF6",
              "width": 0.5
             },
             "pattern": {
              "fillmode": "overlay",
              "size": 10,
              "solidity": 0.2
             }
            },
            "type": "bar"
           }
          ],
          "barpolar": [
           {
            "marker": {
             "line": {
              "color": "#E5ECF6",
              "width": 0.5
             },
             "pattern": {
              "fillmode": "overlay",
              "size": 10,
              "solidity": 0.2
             }
            },
            "type": "barpolar"
           }
          ],
          "carpet": [
           {
            "aaxis": {
             "endlinecolor": "#2a3f5f",
             "gridcolor": "white",
             "linecolor": "white",
             "minorgridcolor": "white",
             "startlinecolor": "#2a3f5f"
            },
            "baxis": {
             "endlinecolor": "#2a3f5f",
             "gridcolor": "white",
             "linecolor": "white",
             "minorgridcolor": "white",
             "startlinecolor": "#2a3f5f"
            },
            "type": "carpet"
           }
          ],
          "choropleth": [
           {
            "colorbar": {
             "outlinewidth": 0,
             "ticks": ""
            },
            "type": "choropleth"
           }
          ],
          "contour": [
           {
            "colorbar": {
             "outlinewidth": 0,
             "ticks": ""
            },
            "colorscale": [
             [
              0,
              "#0d0887"
             ],
             [
              0.1111111111111111,
              "#46039f"
             ],
             [
              0.2222222222222222,
              "#7201a8"
             ],
             [
              0.3333333333333333,
              "#9c179e"
             ],
             [
              0.4444444444444444,
              "#bd3786"
             ],
             [
              0.5555555555555556,
              "#d8576b"
             ],
             [
              0.6666666666666666,
              "#ed7953"
             ],
             [
              0.7777777777777778,
              "#fb9f3a"
             ],
             [
              0.8888888888888888,
              "#fdca26"
             ],
             [
              1,
              "#f0f921"
             ]
            ],
            "type": "contour"
           }
          ],
          "contourcarpet": [
           {
            "colorbar": {
             "outlinewidth": 0,
             "ticks": ""
            },
            "type": "contourcarpet"
           }
          ],
          "heatmap": [
           {
            "colorbar": {
             "outlinewidth": 0,
             "ticks": ""
            },
            "colorscale": [
             [
              0,
              "#0d0887"
             ],
             [
              0.1111111111111111,
              "#46039f"
             ],
             [
              0.2222222222222222,
              "#7201a8"
             ],
             [
              0.3333333333333333,
              "#9c179e"
             ],
             [
              0.4444444444444444,
              "#bd3786"
             ],
             [
              0.5555555555555556,
              "#d8576b"
             ],
             [
              0.6666666666666666,
              "#ed7953"
             ],
             [
              0.7777777777777778,
              "#fb9f3a"
             ],
             [
              0.8888888888888888,
              "#fdca26"
             ],
             [
              1,
              "#f0f921"
             ]
            ],
            "type": "heatmap"
           }
          ],
          "heatmapgl": [
           {
            "colorbar": {
             "outlinewidth": 0,
             "ticks": ""
            },
            "colorscale": [
             [
              0,
              "#0d0887"
             ],
             [
              0.1111111111111111,
              "#46039f"
             ],
             [
              0.2222222222222222,
              "#7201a8"
             ],
             [
              0.3333333333333333,
              "#9c179e"
             ],
             [
              0.4444444444444444,
              "#bd3786"
             ],
             [
              0.5555555555555556,
              "#d8576b"
             ],
             [
              0.6666666666666666,
              "#ed7953"
             ],
             [
              0.7777777777777778,
              "#fb9f3a"
             ],
             [
              0.8888888888888888,
              "#fdca26"
             ],
             [
              1,
              "#f0f921"
             ]
            ],
            "type": "heatmapgl"
           }
          ],
          "histogram": [
           {
            "marker": {
             "pattern": {
              "fillmode": "overlay",
              "size": 10,
              "solidity": 0.2
             }
            },
            "type": "histogram"
           }
          ],
          "histogram2d": [
           {
            "colorbar": {
             "outlinewidth": 0,
             "ticks": ""
            },
            "colorscale": [
             [
              0,
              "#0d0887"
             ],
             [
              0.1111111111111111,
              "#46039f"
             ],
             [
              0.2222222222222222,
              "#7201a8"
             ],
             [
              0.3333333333333333,
              "#9c179e"
             ],
             [
              0.4444444444444444,
              "#bd3786"
             ],
             [
              0.5555555555555556,
              "#d8576b"
             ],
             [
              0.6666666666666666,
              "#ed7953"
             ],
             [
              0.7777777777777778,
              "#fb9f3a"
             ],
             [
              0.8888888888888888,
              "#fdca26"
             ],
             [
              1,
              "#f0f921"
             ]
            ],
            "type": "histogram2d"
           }
          ],
          "histogram2dcontour": [
           {
            "colorbar": {
             "outlinewidth": 0,
             "ticks": ""
            },
            "colorscale": [
             [
              0,
              "#0d0887"
             ],
             [
              0.1111111111111111,
              "#46039f"
             ],
             [
              0.2222222222222222,
              "#7201a8"
             ],
             [
              0.3333333333333333,
              "#9c179e"
             ],
             [
              0.4444444444444444,
              "#bd3786"
             ],
             [
              0.5555555555555556,
              "#d8576b"
             ],
             [
              0.6666666666666666,
              "#ed7953"
             ],
             [
              0.7777777777777778,
              "#fb9f3a"
             ],
             [
              0.8888888888888888,
              "#fdca26"
             ],
             [
              1,
              "#f0f921"
             ]
            ],
            "type": "histogram2dcontour"
           }
          ],
          "mesh3d": [
           {
            "colorbar": {
             "outlinewidth": 0,
             "ticks": ""
            },
            "type": "mesh3d"
           }
          ],
          "parcoords": [
           {
            "line": {
             "colorbar": {
              "outlinewidth": 0,
              "ticks": ""
             }
            },
            "type": "parcoords"
           }
          ],
          "pie": [
           {
            "automargin": true,
            "type": "pie"
           }
          ],
          "scatter": [
           {
            "marker": {
             "colorbar": {
              "outlinewidth": 0,
              "ticks": ""
             }
            },
            "type": "scatter"
           }
          ],
          "scatter3d": [
           {
            "line": {
             "colorbar": {
              "outlinewidth": 0,
              "ticks": ""
             }
            },
            "marker": {
             "colorbar": {
              "outlinewidth": 0,
              "ticks": ""
             }
            },
            "type": "scatter3d"
           }
          ],
          "scattercarpet": [
           {
            "marker": {
             "colorbar": {
              "outlinewidth": 0,
              "ticks": ""
             }
            },
            "type": "scattercarpet"
           }
          ],
          "scattergeo": [
           {
            "marker": {
             "colorbar": {
              "outlinewidth": 0,
              "ticks": ""
             }
            },
            "type": "scattergeo"
           }
          ],
          "scattergl": [
           {
            "marker": {
             "colorbar": {
              "outlinewidth": 0,
              "ticks": ""
             }
            },
            "type": "scattergl"
           }
          ],
          "scattermapbox": [
           {
            "marker": {
             "colorbar": {
              "outlinewidth": 0,
              "ticks": ""
             }
            },
            "type": "scattermapbox"
           }
          ],
          "scatterpolar": [
           {
            "marker": {
             "colorbar": {
              "outlinewidth": 0,
              "ticks": ""
             }
            },
            "type": "scatterpolar"
           }
          ],
          "scatterpolargl": [
           {
            "marker": {
             "colorbar": {
              "outlinewidth": 0,
              "ticks": ""
             }
            },
            "type": "scatterpolargl"
           }
          ],
          "scatterternary": [
           {
            "marker": {
             "colorbar": {
              "outlinewidth": 0,
              "ticks": ""
             }
            },
            "type": "scatterternary"
           }
          ],
          "surface": [
           {
            "colorbar": {
             "outlinewidth": 0,
             "ticks": ""
            },
            "colorscale": [
             [
              0,
              "#0d0887"
             ],
             [
              0.1111111111111111,
              "#46039f"
             ],
             [
              0.2222222222222222,
              "#7201a8"
             ],
             [
              0.3333333333333333,
              "#9c179e"
             ],
             [
              0.4444444444444444,
              "#bd3786"
             ],
             [
              0.5555555555555556,
              "#d8576b"
             ],
             [
              0.6666666666666666,
              "#ed7953"
             ],
             [
              0.7777777777777778,
              "#fb9f3a"
             ],
             [
              0.8888888888888888,
              "#fdca26"
             ],
             [
              1,
              "#f0f921"
             ]
            ],
            "type": "surface"
           }
          ],
          "table": [
           {
            "cells": {
             "fill": {
              "color": "#EBF0F8"
             },
             "line": {
              "color": "white"
             }
            },
            "header": {
             "fill": {
              "color": "#C8D4E3"
             },
             "line": {
              "color": "white"
             }
            },
            "type": "table"
           }
          ]
         },
         "layout": {
          "annotationdefaults": {
           "arrowcolor": "#2a3f5f",
           "arrowhead": 0,
           "arrowwidth": 1
          },
          "autotypenumbers": "strict",
          "coloraxis": {
           "colorbar": {
            "outlinewidth": 0,
            "ticks": ""
           }
          },
          "colorscale": {
           "diverging": [
            [
             0,
             "#8e0152"
            ],
            [
             0.1,
             "#c51b7d"
            ],
            [
             0.2,
             "#de77ae"
            ],
            [
             0.3,
             "#f1b6da"
            ],
            [
             0.4,
             "#fde0ef"
            ],
            [
             0.5,
             "#f7f7f7"
            ],
            [
             0.6,
             "#e6f5d0"
            ],
            [
             0.7,
             "#b8e186"
            ],
            [
             0.8,
             "#7fbc41"
            ],
            [
             0.9,
             "#4d9221"
            ],
            [
             1,
             "#276419"
            ]
           ],
           "sequential": [
            [
             0,
             "#0d0887"
            ],
            [
             0.1111111111111111,
             "#46039f"
            ],
            [
             0.2222222222222222,
             "#7201a8"
            ],
            [
             0.3333333333333333,
             "#9c179e"
            ],
            [
             0.4444444444444444,
             "#bd3786"
            ],
            [
             0.5555555555555556,
             "#d8576b"
            ],
            [
             0.6666666666666666,
             "#ed7953"
            ],
            [
             0.7777777777777778,
             "#fb9f3a"
            ],
            [
             0.8888888888888888,
             "#fdca26"
            ],
            [
             1,
             "#f0f921"
            ]
           ],
           "sequentialminus": [
            [
             0,
             "#0d0887"
            ],
            [
             0.1111111111111111,
             "#46039f"
            ],
            [
             0.2222222222222222,
             "#7201a8"
            ],
            [
             0.3333333333333333,
             "#9c179e"
            ],
            [
             0.4444444444444444,
             "#bd3786"
            ],
            [
             0.5555555555555556,
             "#d8576b"
            ],
            [
             0.6666666666666666,
             "#ed7953"
            ],
            [
             0.7777777777777778,
             "#fb9f3a"
            ],
            [
             0.8888888888888888,
             "#fdca26"
            ],
            [
             1,
             "#f0f921"
            ]
           ]
          },
          "colorway": [
           "#636efa",
           "#EF553B",
           "#00cc96",
           "#ab63fa",
           "#FFA15A",
           "#19d3f3",
           "#FF6692",
           "#B6E880",
           "#FF97FF",
           "#FECB52"
          ],
          "font": {
           "color": "#2a3f5f"
          },
          "geo": {
           "bgcolor": "white",
           "lakecolor": "white",
           "landcolor": "#E5ECF6",
           "showlakes": true,
           "showland": true,
           "subunitcolor": "white"
          },
          "hoverlabel": {
           "align": "left"
          },
          "hovermode": "closest",
          "mapbox": {
           "style": "light"
          },
          "paper_bgcolor": "white",
          "plot_bgcolor": "#E5ECF6",
          "polar": {
           "angularaxis": {
            "gridcolor": "white",
            "linecolor": "white",
            "ticks": ""
           },
           "bgcolor": "#E5ECF6",
           "radialaxis": {
            "gridcolor": "white",
            "linecolor": "white",
            "ticks": ""
           }
          },
          "scene": {
           "xaxis": {
            "backgroundcolor": "#E5ECF6",
            "gridcolor": "white",
            "gridwidth": 2,
            "linecolor": "white",
            "showbackground": true,
            "ticks": "",
            "zerolinecolor": "white"
           },
           "yaxis": {
            "backgroundcolor": "#E5ECF6",
            "gridcolor": "white",
            "gridwidth": 2,
            "linecolor": "white",
            "showbackground": true,
            "ticks": "",
            "zerolinecolor": "white"
           },
           "zaxis": {
            "backgroundcolor": "#E5ECF6",
            "gridcolor": "white",
            "gridwidth": 2,
            "linecolor": "white",
            "showbackground": true,
            "ticks": "",
            "zerolinecolor": "white"
           }
          },
          "shapedefaults": {
           "line": {
            "color": "#2a3f5f"
           }
          },
          "ternary": {
           "aaxis": {
            "gridcolor": "white",
            "linecolor": "white",
            "ticks": ""
           },
           "baxis": {
            "gridcolor": "white",
            "linecolor": "white",
            "ticks": ""
           },
           "bgcolor": "#E5ECF6",
           "caxis": {
            "gridcolor": "white",
            "linecolor": "white",
            "ticks": ""
           }
          },
          "title": {
           "x": 0.05
          },
          "xaxis": {
           "automargin": true,
           "gridcolor": "white",
           "linecolor": "white",
           "ticks": "",
           "title": {
            "standoff": 15
           },
           "zerolinecolor": "white",
           "zerolinewidth": 2
          },
          "yaxis": {
           "automargin": true,
           "gridcolor": "white",
           "linecolor": "white",
           "ticks": "",
           "title": {
            "standoff": 15
           },
           "zerolinecolor": "white",
           "zerolinewidth": 2
          }
         }
        },
        "title": {
         "text": "Computational Time Taken for K-Fold Cross Validation"
        },
        "width": 700,
        "xaxis": {
         "anchor": "y",
         "domain": [
          0,
          1
         ],
         "range": [
          0,
          21
         ],
         "title": {
          "text": "K-Neighbours"
         }
        },
        "yaxis": {
         "anchor": "x",
         "domain": [
          0,
          1
         ],
         "range": [
          44,
          55
         ],
         "title": {
          "text": "Time (in seconds)"
         }
        }
       }
      },
      "text/html": [
       "<div>                            <div id=\"16a62f02-a0db-434c-8e23-cac9bea07929\" class=\"plotly-graph-div\" style=\"height:400px; width:700px;\"></div>            <script type=\"text/javascript\">                require([\"plotly\"], function(Plotly) {                    window.PLOTLYENV=window.PLOTLYENV || {};                                    if (document.getElementById(\"16a62f02-a0db-434c-8e23-cac9bea07929\")) {                    Plotly.newPlot(                        \"16a62f02-a0db-434c-8e23-cac9bea07929\",                        [{\"name\":\"CV_5\",\"x\":[1,5,10,15,20],\"y\":[45.42937216600001,45.29927066699997,45.30660666699998,45.84002916600002,45.422869040999956],\"type\":\"scatter\"},{\"name\":\"CV_10\",\"x\":[1,5,10,15,20],\"y\":[52.49162291699997,52.282073665999974,52.68858158299997,52.855304875,52.02052108299995],\"type\":\"scatter\"},{\"name\":\"CV_15\",\"x\":[1,5,10,15,20],\"y\":[53.96269858300002,53.481051459000014,53.84508791600001,53.55230158400002,53.82659945800003],\"type\":\"scatter\"}],                        {\"template\":{\"data\":{\"bar\":[{\"error_x\":{\"color\":\"#2a3f5f\"},\"error_y\":{\"color\":\"#2a3f5f\"},\"marker\":{\"line\":{\"color\":\"#E5ECF6\",\"width\":0.5},\"pattern\":{\"fillmode\":\"overlay\",\"size\":10,\"solidity\":0.2}},\"type\":\"bar\"}],\"barpolar\":[{\"marker\":{\"line\":{\"color\":\"#E5ECF6\",\"width\":0.5},\"pattern\":{\"fillmode\":\"overlay\",\"size\":10,\"solidity\":0.2}},\"type\":\"barpolar\"}],\"carpet\":[{\"aaxis\":{\"endlinecolor\":\"#2a3f5f\",\"gridcolor\":\"white\",\"linecolor\":\"white\",\"minorgridcolor\":\"white\",\"startlinecolor\":\"#2a3f5f\"},\"baxis\":{\"endlinecolor\":\"#2a3f5f\",\"gridcolor\":\"white\",\"linecolor\":\"white\",\"minorgridcolor\":\"white\",\"startlinecolor\":\"#2a3f5f\"},\"type\":\"carpet\"}],\"choropleth\":[{\"colorbar\":{\"outlinewidth\":0,\"ticks\":\"\"},\"type\":\"choropleth\"}],\"contour\":[{\"colorbar\":{\"outlinewidth\":0,\"ticks\":\"\"},\"colorscale\":[[0.0,\"#0d0887\"],[0.1111111111111111,\"#46039f\"],[0.2222222222222222,\"#7201a8\"],[0.3333333333333333,\"#9c179e\"],[0.4444444444444444,\"#bd3786\"],[0.5555555555555556,\"#d8576b\"],[0.6666666666666666,\"#ed7953\"],[0.7777777777777778,\"#fb9f3a\"],[0.8888888888888888,\"#fdca26\"],[1.0,\"#f0f921\"]],\"type\":\"contour\"}],\"contourcarpet\":[{\"colorbar\":{\"outlinewidth\":0,\"ticks\":\"\"},\"type\":\"contourcarpet\"}],\"heatmap\":[{\"colorbar\":{\"outlinewidth\":0,\"ticks\":\"\"},\"colorscale\":[[0.0,\"#0d0887\"],[0.1111111111111111,\"#46039f\"],[0.2222222222222222,\"#7201a8\"],[0.3333333333333333,\"#9c179e\"],[0.4444444444444444,\"#bd3786\"],[0.5555555555555556,\"#d8576b\"],[0.6666666666666666,\"#ed7953\"],[0.7777777777777778,\"#fb9f3a\"],[0.8888888888888888,\"#fdca26\"],[1.0,\"#f0f921\"]],\"type\":\"heatmap\"}],\"heatmapgl\":[{\"colorbar\":{\"outlinewidth\":0,\"ticks\":\"\"},\"colorscale\":[[0.0,\"#0d0887\"],[0.1111111111111111,\"#46039f\"],[0.2222222222222222,\"#7201a8\"],[0.3333333333333333,\"#9c179e\"],[0.4444444444444444,\"#bd3786\"],[0.5555555555555556,\"#d8576b\"],[0.6666666666666666,\"#ed7953\"],[0.7777777777777778,\"#fb9f3a\"],[0.8888888888888888,\"#fdca26\"],[1.0,\"#f0f921\"]],\"type\":\"heatmapgl\"}],\"histogram\":[{\"marker\":{\"pattern\":{\"fillmode\":\"overlay\",\"size\":10,\"solidity\":0.2}},\"type\":\"histogram\"}],\"histogram2d\":[{\"colorbar\":{\"outlinewidth\":0,\"ticks\":\"\"},\"colorscale\":[[0.0,\"#0d0887\"],[0.1111111111111111,\"#46039f\"],[0.2222222222222222,\"#7201a8\"],[0.3333333333333333,\"#9c179e\"],[0.4444444444444444,\"#bd3786\"],[0.5555555555555556,\"#d8576b\"],[0.6666666666666666,\"#ed7953\"],[0.7777777777777778,\"#fb9f3a\"],[0.8888888888888888,\"#fdca26\"],[1.0,\"#f0f921\"]],\"type\":\"histogram2d\"}],\"histogram2dcontour\":[{\"colorbar\":{\"outlinewidth\":0,\"ticks\":\"\"},\"colorscale\":[[0.0,\"#0d0887\"],[0.1111111111111111,\"#46039f\"],[0.2222222222222222,\"#7201a8\"],[0.3333333333333333,\"#9c179e\"],[0.4444444444444444,\"#bd3786\"],[0.5555555555555556,\"#d8576b\"],[0.6666666666666666,\"#ed7953\"],[0.7777777777777778,\"#fb9f3a\"],[0.8888888888888888,\"#fdca26\"],[1.0,\"#f0f921\"]],\"type\":\"histogram2dcontour\"}],\"mesh3d\":[{\"colorbar\":{\"outlinewidth\":0,\"ticks\":\"\"},\"type\":\"mesh3d\"}],\"parcoords\":[{\"line\":{\"colorbar\":{\"outlinewidth\":0,\"ticks\":\"\"}},\"type\":\"parcoords\"}],\"pie\":[{\"automargin\":true,\"type\":\"pie\"}],\"scatter\":[{\"marker\":{\"colorbar\":{\"outlinewidth\":0,\"ticks\":\"\"}},\"type\":\"scatter\"}],\"scatter3d\":[{\"line\":{\"colorbar\":{\"outlinewidth\":0,\"ticks\":\"\"}},\"marker\":{\"colorbar\":{\"outlinewidth\":0,\"ticks\":\"\"}},\"type\":\"scatter3d\"}],\"scattercarpet\":[{\"marker\":{\"colorbar\":{\"outlinewidth\":0,\"ticks\":\"\"}},\"type\":\"scattercarpet\"}],\"scattergeo\":[{\"marker\":{\"colorbar\":{\"outlinewidth\":0,\"ticks\":\"\"}},\"type\":\"scattergeo\"}],\"scattergl\":[{\"marker\":{\"colorbar\":{\"outlinewidth\":0,\"ticks\":\"\"}},\"type\":\"scattergl\"}],\"scattermapbox\":[{\"marker\":{\"colorbar\":{\"outlinewidth\":0,\"ticks\":\"\"}},\"type\":\"scattermapbox\"}],\"scatterpolar\":[{\"marker\":{\"colorbar\":{\"outlinewidth\":0,\"ticks\":\"\"}},\"type\":\"scatterpolar\"}],\"scatterpolargl\":[{\"marker\":{\"colorbar\":{\"outlinewidth\":0,\"ticks\":\"\"}},\"type\":\"scatterpolargl\"}],\"scatterternary\":[{\"marker\":{\"colorbar\":{\"outlinewidth\":0,\"ticks\":\"\"}},\"type\":\"scatterternary\"}],\"surface\":[{\"colorbar\":{\"outlinewidth\":0,\"ticks\":\"\"},\"colorscale\":[[0.0,\"#0d0887\"],[0.1111111111111111,\"#46039f\"],[0.2222222222222222,\"#7201a8\"],[0.3333333333333333,\"#9c179e\"],[0.4444444444444444,\"#bd3786\"],[0.5555555555555556,\"#d8576b\"],[0.6666666666666666,\"#ed7953\"],[0.7777777777777778,\"#fb9f3a\"],[0.8888888888888888,\"#fdca26\"],[1.0,\"#f0f921\"]],\"type\":\"surface\"}],\"table\":[{\"cells\":{\"fill\":{\"color\":\"#EBF0F8\"},\"line\":{\"color\":\"white\"}},\"header\":{\"fill\":{\"color\":\"#C8D4E3\"},\"line\":{\"color\":\"white\"}},\"type\":\"table\"}]},\"layout\":{\"annotationdefaults\":{\"arrowcolor\":\"#2a3f5f\",\"arrowhead\":0,\"arrowwidth\":1},\"autotypenumbers\":\"strict\",\"coloraxis\":{\"colorbar\":{\"outlinewidth\":0,\"ticks\":\"\"}},\"colorscale\":{\"diverging\":[[0,\"#8e0152\"],[0.1,\"#c51b7d\"],[0.2,\"#de77ae\"],[0.3,\"#f1b6da\"],[0.4,\"#fde0ef\"],[0.5,\"#f7f7f7\"],[0.6,\"#e6f5d0\"],[0.7,\"#b8e186\"],[0.8,\"#7fbc41\"],[0.9,\"#4d9221\"],[1,\"#276419\"]],\"sequential\":[[0.0,\"#0d0887\"],[0.1111111111111111,\"#46039f\"],[0.2222222222222222,\"#7201a8\"],[0.3333333333333333,\"#9c179e\"],[0.4444444444444444,\"#bd3786\"],[0.5555555555555556,\"#d8576b\"],[0.6666666666666666,\"#ed7953\"],[0.7777777777777778,\"#fb9f3a\"],[0.8888888888888888,\"#fdca26\"],[1.0,\"#f0f921\"]],\"sequentialminus\":[[0.0,\"#0d0887\"],[0.1111111111111111,\"#46039f\"],[0.2222222222222222,\"#7201a8\"],[0.3333333333333333,\"#9c179e\"],[0.4444444444444444,\"#bd3786\"],[0.5555555555555556,\"#d8576b\"],[0.6666666666666666,\"#ed7953\"],[0.7777777777777778,\"#fb9f3a\"],[0.8888888888888888,\"#fdca26\"],[1.0,\"#f0f921\"]]},\"colorway\":[\"#636efa\",\"#EF553B\",\"#00cc96\",\"#ab63fa\",\"#FFA15A\",\"#19d3f3\",\"#FF6692\",\"#B6E880\",\"#FF97FF\",\"#FECB52\"],\"font\":{\"color\":\"#2a3f5f\"},\"geo\":{\"bgcolor\":\"white\",\"lakecolor\":\"white\",\"landcolor\":\"#E5ECF6\",\"showlakes\":true,\"showland\":true,\"subunitcolor\":\"white\"},\"hoverlabel\":{\"align\":\"left\"},\"hovermode\":\"closest\",\"mapbox\":{\"style\":\"light\"},\"paper_bgcolor\":\"white\",\"plot_bgcolor\":\"#E5ECF6\",\"polar\":{\"angularaxis\":{\"gridcolor\":\"white\",\"linecolor\":\"white\",\"ticks\":\"\"},\"bgcolor\":\"#E5ECF6\",\"radialaxis\":{\"gridcolor\":\"white\",\"linecolor\":\"white\",\"ticks\":\"\"}},\"scene\":{\"xaxis\":{\"backgroundcolor\":\"#E5ECF6\",\"gridcolor\":\"white\",\"gridwidth\":2,\"linecolor\":\"white\",\"showbackground\":true,\"ticks\":\"\",\"zerolinecolor\":\"white\"},\"yaxis\":{\"backgroundcolor\":\"#E5ECF6\",\"gridcolor\":\"white\",\"gridwidth\":2,\"linecolor\":\"white\",\"showbackground\":true,\"ticks\":\"\",\"zerolinecolor\":\"white\"},\"zaxis\":{\"backgroundcolor\":\"#E5ECF6\",\"gridcolor\":\"white\",\"gridwidth\":2,\"linecolor\":\"white\",\"showbackground\":true,\"ticks\":\"\",\"zerolinecolor\":\"white\"}},\"shapedefaults\":{\"line\":{\"color\":\"#2a3f5f\"}},\"ternary\":{\"aaxis\":{\"gridcolor\":\"white\",\"linecolor\":\"white\",\"ticks\":\"\"},\"baxis\":{\"gridcolor\":\"white\",\"linecolor\":\"white\",\"ticks\":\"\"},\"bgcolor\":\"#E5ECF6\",\"caxis\":{\"gridcolor\":\"white\",\"linecolor\":\"white\",\"ticks\":\"\"}},\"title\":{\"x\":0.05},\"xaxis\":{\"automargin\":true,\"gridcolor\":\"white\",\"linecolor\":\"white\",\"ticks\":\"\",\"title\":{\"standoff\":15},\"zerolinecolor\":\"white\",\"zerolinewidth\":2},\"yaxis\":{\"automargin\":true,\"gridcolor\":\"white\",\"linecolor\":\"white\",\"ticks\":\"\",\"title\":{\"standoff\":15},\"zerolinecolor\":\"white\",\"zerolinewidth\":2}}},\"xaxis\":{\"anchor\":\"y\",\"domain\":[0.0,1.0],\"title\":{\"text\":\"K-Neighbours\"},\"range\":[0,21]},\"yaxis\":{\"anchor\":\"x\",\"domain\":[0.0,1.0],\"title\":{\"text\":\"Time (in seconds)\"},\"range\":[44,55]},\"title\":{\"text\":\"Computational Time Taken for K-Fold Cross Validation\"},\"height\":400,\"width\":700},                        {\"responsive\": true}                    ).then(function(){\n",
       "                            \n",
       "var gd = document.getElementById('16a62f02-a0db-434c-8e23-cac9bea07929');\n",
       "var x = new MutationObserver(function (mutations, observer) {{\n",
       "        var display = window.getComputedStyle(gd).display;\n",
       "        if (!display || display === 'none') {{\n",
       "            console.log([gd, 'removed!']);\n",
       "            Plotly.purge(gd);\n",
       "            observer.disconnect();\n",
       "        }}\n",
       "}});\n",
       "\n",
       "// Listen for the removal of the full notebook cells\n",
       "var notebookContainer = gd.closest('#notebook-container');\n",
       "if (notebookContainer) {{\n",
       "    x.observe(notebookContainer, {childList: true});\n",
       "}}\n",
       "\n",
       "// Listen for the clearing of the current output cell\n",
       "var outputEl = gd.closest('.output');\n",
       "if (outputEl) {{\n",
       "    x.observe(outputEl, {childList: true});\n",
       "}}\n",
       "\n",
       "                        })                };                });            </script>        </div>"
      ]
     },
     "metadata": {},
     "output_type": "display_data"
    }
   ],
   "source": [
    "fig = make_subplots(rows=1, cols = 1)\n",
    "fig.add_scatter(x=K, y=y4, name='CV_5')\n",
    "fig.add_scatter(x=K, y=y5, name='CV_10')\n",
    "fig.add_scatter(x=K, y=y6, name='CV_15')\n",
    "fig.update_yaxes(title_text=\"Time (in seconds)\", range=[44, 55])\n",
    "fig.update_xaxes(title_text=\"K-Neighbours\", range=[0,21])\n",
    "fig.update_layout(height = 400, width = 700, title_text=\"Computational Time Taken for K-Fold Cross Validation\")\n",
    "fig.show()"
   ]
  },
  {
   "cell_type": "markdown",
   "id": "cf0b5277",
   "metadata": {},
   "source": [
    "### e. Classification report for 5-fold cross validation with K=15"
   ]
  },
  {
   "cell_type": "markdown",
   "id": "c750c6ec",
   "metadata": {},
   "source": [
    "From the classification report for K-fold cross validation of 5 folds with k-neighbours = 15, it was noted that the F1-score of 0.25 and a weighted average F1-score of 0.23. The F1 score is the harmonic mean of the precision and recall, which is also commonly used to measure the classification test's accuracy. The weighted average F1 consider the significance and magnitude of the F1-score of each class by the number of samples in the class.\n",
    "\n",
    "The weighted average for precision and recall is 0.22 and 0.25 respectively.\n",
    "\n",
    "The accuracy measure did not account for the precision and recall of the KNN classifier, where as F1-score account for that. However, F1 score is relatively low which reflects that it is difficult to accurately predict the age of the abalone. "
   ]
  },
  {
   "cell_type": "code",
   "execution_count": 23,
   "id": "8f22cb4a",
   "metadata": {
    "ExecuteTime": {
     "end_time": "2022-04-14T09:44:17.415330Z",
     "start_time": "2022-04-14T09:44:17.412507Z"
    }
   },
   "outputs": [],
   "source": [
    "def knn_pred(X_train, X_test, K): \n",
    "    predictions = []\n",
    "    # Generate prediction for X_test\n",
    "    for row in X_test:\n",
    "        # Calculate the distance of the data points in X_train for each data point in X_test \n",
    "        distances = []\n",
    "        for row_train in X_train:\n",
    "            distance = 0\n",
    "            # Calculated distance based on Euclidean distance\n",
    "            for i in range(len(row)-1):\n",
    "                distance += (row[i] - row_train[i])**2\n",
    "            distance = np.sqrt(distance)\n",
    "            distances.append((row_train, distance))\n",
    "        # Sort the distances for the data point of X_test\n",
    "        distances.sort(key=lambda elem: elem[1])\n",
    "        # Get the \"K\" (specified number of neighbours) and predict the class for that data point\n",
    "        neighbours = []\n",
    "        for i in range(K):\n",
    "            neighbours.append(distances[i][0])\n",
    "        output_vals = [n[-1] for n in neighbours]\n",
    "        prediction = max(set(output_vals), key=output_vals.count)\n",
    "        predictions.append(prediction)\n",
    "    # Extract the actual labels \n",
    "    actual = X_test[:,-1]\n",
    "    return actual, predictions"
   ]
  },
  {
   "cell_type": "code",
   "execution_count": 24,
   "id": "aac448f8",
   "metadata": {
    "ExecuteTime": {
     "end_time": "2022-04-14T09:45:04.112131Z",
     "start_time": "2022-04-14T09:44:17.416037Z"
    }
   },
   "outputs": [
    {
     "name": "stdout",
     "output_type": "stream",
     "text": [
      "K-fold cross validation: k=5 & K-neighbours = 15\n",
      "Classification report:\n",
      "              precision    recall  f1-score   support\n",
      "\n",
      "         1.0       0.00      0.00      0.00         1\n",
      "         2.0       0.00      0.00      0.00         1\n",
      "         3.0       0.00      0.00      0.00        15\n",
      "         4.0       0.40      0.47      0.43        57\n",
      "         5.0       0.28      0.29      0.28       115\n",
      "         6.0       0.30      0.30      0.30       259\n",
      "         7.0       0.29      0.32      0.30       389\n",
      "         8.0       0.31      0.34      0.32       568\n",
      "         9.0       0.25      0.36      0.29       689\n",
      "        10.0       0.21      0.31      0.25       634\n",
      "        11.0       0.25      0.24      0.24       487\n",
      "        12.0       0.15      0.07      0.10       267\n",
      "        13.0       0.15      0.04      0.07       203\n",
      "        14.0       0.07      0.01      0.01       126\n",
      "        15.0       0.00      0.00      0.00       103\n",
      "        16.0       0.17      0.03      0.05        67\n",
      "        17.0       0.00      0.00      0.00        58\n",
      "        18.0       0.00      0.00      0.00        42\n",
      "        19.0       0.00      0.00      0.00        32\n",
      "        20.0       0.00      0.00      0.00        26\n",
      "        21.0       0.00      0.00      0.00        14\n",
      "        22.0       0.00      0.00      0.00         6\n",
      "        23.0       0.00      0.00      0.00         9\n",
      "        24.0       0.00      0.00      0.00         2\n",
      "        25.0       0.00      0.00      0.00         1\n",
      "        26.0       0.00      0.00      0.00         1\n",
      "        27.0       0.00      0.00      0.00         2\n",
      "        29.0       0.00      0.00      0.00         1\n",
      "\n",
      "    accuracy                           0.25      4175\n",
      "   macro avg       0.10      0.10      0.09      4175\n",
      "weighted avg       0.22      0.25      0.23      4175\n",
      "\n"
     ]
    }
   ],
   "source": [
    "from sklearn.metrics import classification_report \n",
    "\n",
    "k = 15 \n",
    "f_5 = len(X_split_CV5)\n",
    "print(\"K-fold cross validation: k=5 & K-neighbours = 15\")\n",
    "actual = [] \n",
    "pred = []\n",
    "for i in range(0, f_5, 1): \n",
    "    test = X_split_CV5[i]\n",
    "    train = X_split_CV5.copy()\n",
    "    train.pop(i)\n",
    "    train = np.vstack(tuple(train))\n",
    "    actual_i, pred_i = knn_pred(train, test, k)\n",
    "    for val in actual_i: \n",
    "        actual.append(val)\n",
    "    for val in pred_i: \n",
    "        pred.append(val)\n",
    "clsrep = classification_report(actual, pred)\n",
    "print(f\"Classification report:\")\n",
    "print(clsrep)"
   ]
  }
 ],
 "metadata": {
  "kernelspec": {
   "display_name": "Python 3 (ipykernel)",
   "language": "python",
   "name": "python3"
  },
  "language_info": {
   "codemirror_mode": {
    "name": "ipython",
    "version": 3
   },
   "file_extension": ".py",
   "mimetype": "text/x-python",
   "name": "python",
   "nbconvert_exporter": "python",
   "pygments_lexer": "ipython3",
   "version": "3.9.7"
  }
 },
 "nbformat": 4,
 "nbformat_minor": 5
}
