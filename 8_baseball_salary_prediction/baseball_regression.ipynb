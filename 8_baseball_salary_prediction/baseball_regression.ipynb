{
 "cells": [
  {
   "cell_type": "code",
   "execution_count": 1,
   "id": "d01a8d7e",
   "metadata": {
    "ExecuteTime": {
     "end_time": "2022-05-04T05:21:01.715942Z",
     "start_time": "2022-05-04T05:21:00.906501Z"
    }
   },
   "outputs": [],
   "source": [
    "# import required libraries \n",
    "import pandas as pd \n",
    "import numpy as np \n",
    "import matplotlib as plt\n",
    "import seaborn as sns \n",
    "import plotly.express as px \n",
    "%matplotlib inline"
   ]
  },
  {
   "cell_type": "code",
   "execution_count": 2,
   "id": "a9d11de1",
   "metadata": {
    "ExecuteTime": {
     "end_time": "2022-05-04T05:21:01.725166Z",
     "start_time": "2022-05-04T05:21:01.716925Z"
    }
   },
   "outputs": [
    {
     "data": {
      "text/html": [
       "<div>\n",
       "<style scoped>\n",
       "    .dataframe tbody tr th:only-of-type {\n",
       "        vertical-align: middle;\n",
       "    }\n",
       "\n",
       "    .dataframe tbody tr th {\n",
       "        vertical-align: top;\n",
       "    }\n",
       "\n",
       "    .dataframe thead th {\n",
       "        text-align: right;\n",
       "    }\n",
       "</style>\n",
       "<table border=\"1\" class=\"dataframe\">\n",
       "  <thead>\n",
       "    <tr style=\"text-align: right;\">\n",
       "      <th></th>\n",
       "      <th>AtBat</th>\n",
       "      <th>Hits</th>\n",
       "      <th>HmRun</th>\n",
       "      <th>Runs</th>\n",
       "      <th>RBI</th>\n",
       "      <th>Walks</th>\n",
       "      <th>Years</th>\n",
       "      <th>CAtBat</th>\n",
       "      <th>CHits</th>\n",
       "      <th>CHmRun</th>\n",
       "      <th>CRuns</th>\n",
       "      <th>CRBI</th>\n",
       "      <th>CWalks</th>\n",
       "      <th>League</th>\n",
       "      <th>Division</th>\n",
       "      <th>PutOuts</th>\n",
       "      <th>Assists</th>\n",
       "      <th>Errors</th>\n",
       "      <th>Salary</th>\n",
       "      <th>NewLeague</th>\n",
       "    </tr>\n",
       "  </thead>\n",
       "  <tbody>\n",
       "    <tr>\n",
       "      <th>0</th>\n",
       "      <td>293</td>\n",
       "      <td>66</td>\n",
       "      <td>1</td>\n",
       "      <td>30</td>\n",
       "      <td>29</td>\n",
       "      <td>14</td>\n",
       "      <td>1</td>\n",
       "      <td>293</td>\n",
       "      <td>66</td>\n",
       "      <td>1</td>\n",
       "      <td>30</td>\n",
       "      <td>29</td>\n",
       "      <td>14</td>\n",
       "      <td>A</td>\n",
       "      <td>E</td>\n",
       "      <td>446</td>\n",
       "      <td>33</td>\n",
       "      <td>20</td>\n",
       "      <td>NaN</td>\n",
       "      <td>A</td>\n",
       "    </tr>\n",
       "    <tr>\n",
       "      <th>1</th>\n",
       "      <td>315</td>\n",
       "      <td>81</td>\n",
       "      <td>7</td>\n",
       "      <td>24</td>\n",
       "      <td>38</td>\n",
       "      <td>39</td>\n",
       "      <td>14</td>\n",
       "      <td>3449</td>\n",
       "      <td>835</td>\n",
       "      <td>69</td>\n",
       "      <td>321</td>\n",
       "      <td>414</td>\n",
       "      <td>375</td>\n",
       "      <td>N</td>\n",
       "      <td>W</td>\n",
       "      <td>632</td>\n",
       "      <td>43</td>\n",
       "      <td>10</td>\n",
       "      <td>475.0</td>\n",
       "      <td>N</td>\n",
       "    </tr>\n",
       "    <tr>\n",
       "      <th>2</th>\n",
       "      <td>479</td>\n",
       "      <td>130</td>\n",
       "      <td>18</td>\n",
       "      <td>66</td>\n",
       "      <td>72</td>\n",
       "      <td>76</td>\n",
       "      <td>3</td>\n",
       "      <td>1624</td>\n",
       "      <td>457</td>\n",
       "      <td>63</td>\n",
       "      <td>224</td>\n",
       "      <td>266</td>\n",
       "      <td>263</td>\n",
       "      <td>A</td>\n",
       "      <td>W</td>\n",
       "      <td>880</td>\n",
       "      <td>82</td>\n",
       "      <td>14</td>\n",
       "      <td>480.0</td>\n",
       "      <td>A</td>\n",
       "    </tr>\n",
       "    <tr>\n",
       "      <th>3</th>\n",
       "      <td>496</td>\n",
       "      <td>141</td>\n",
       "      <td>20</td>\n",
       "      <td>65</td>\n",
       "      <td>78</td>\n",
       "      <td>37</td>\n",
       "      <td>11</td>\n",
       "      <td>5628</td>\n",
       "      <td>1575</td>\n",
       "      <td>225</td>\n",
       "      <td>828</td>\n",
       "      <td>838</td>\n",
       "      <td>354</td>\n",
       "      <td>N</td>\n",
       "      <td>E</td>\n",
       "      <td>200</td>\n",
       "      <td>11</td>\n",
       "      <td>3</td>\n",
       "      <td>500.0</td>\n",
       "      <td>N</td>\n",
       "    </tr>\n",
       "    <tr>\n",
       "      <th>4</th>\n",
       "      <td>321</td>\n",
       "      <td>87</td>\n",
       "      <td>10</td>\n",
       "      <td>39</td>\n",
       "      <td>42</td>\n",
       "      <td>30</td>\n",
       "      <td>2</td>\n",
       "      <td>396</td>\n",
       "      <td>101</td>\n",
       "      <td>12</td>\n",
       "      <td>48</td>\n",
       "      <td>46</td>\n",
       "      <td>33</td>\n",
       "      <td>N</td>\n",
       "      <td>E</td>\n",
       "      <td>805</td>\n",
       "      <td>40</td>\n",
       "      <td>4</td>\n",
       "      <td>91.5</td>\n",
       "      <td>N</td>\n",
       "    </tr>\n",
       "  </tbody>\n",
       "</table>\n",
       "</div>"
      ],
      "text/plain": [
       "   AtBat  Hits  HmRun  Runs  RBI  Walks  Years  CAtBat  CHits  CHmRun  CRuns  \\\n",
       "0    293    66      1    30   29     14      1     293     66       1     30   \n",
       "1    315    81      7    24   38     39     14    3449    835      69    321   \n",
       "2    479   130     18    66   72     76      3    1624    457      63    224   \n",
       "3    496   141     20    65   78     37     11    5628   1575     225    828   \n",
       "4    321    87     10    39   42     30      2     396    101      12     48   \n",
       "\n",
       "   CRBI  CWalks League Division  PutOuts  Assists  Errors  Salary NewLeague  \n",
       "0    29      14      A        E      446       33      20     NaN         A  \n",
       "1   414     375      N        W      632       43      10   475.0         N  \n",
       "2   266     263      A        W      880       82      14   480.0         A  \n",
       "3   838     354      N        E      200       11       3   500.0         N  \n",
       "4    46      33      N        E      805       40       4    91.5         N  "
      ]
     },
     "execution_count": 2,
     "metadata": {},
     "output_type": "execute_result"
    }
   ],
   "source": [
    "df = pd.read_csv(\"BaseBallPayers.csv\")\n",
    "df.head()"
   ]
  },
  {
   "cell_type": "code",
   "execution_count": 3,
   "id": "07103755",
   "metadata": {
    "ExecuteTime": {
     "end_time": "2022-05-04T05:21:01.727597Z",
     "start_time": "2022-05-04T05:21:01.725911Z"
    }
   },
   "outputs": [
    {
     "data": {
      "text/plain": [
       "(322, 20)"
      ]
     },
     "execution_count": 3,
     "metadata": {},
     "output_type": "execute_result"
    }
   ],
   "source": [
    "df.shape"
   ]
  },
  {
   "cell_type": "code",
   "execution_count": 4,
   "id": "6adfc2a2",
   "metadata": {
    "ExecuteTime": {
     "end_time": "2022-05-04T05:21:01.733100Z",
     "start_time": "2022-05-04T05:21:01.728775Z"
    }
   },
   "outputs": [
    {
     "name": "stdout",
     "output_type": "stream",
     "text": [
      "<class 'pandas.core.frame.DataFrame'>\n",
      "RangeIndex: 322 entries, 0 to 321\n",
      "Data columns (total 20 columns):\n",
      " #   Column     Non-Null Count  Dtype  \n",
      "---  ------     --------------  -----  \n",
      " 0   AtBat      322 non-null    int64  \n",
      " 1   Hits       322 non-null    int64  \n",
      " 2   HmRun      322 non-null    int64  \n",
      " 3   Runs       322 non-null    int64  \n",
      " 4   RBI        322 non-null    int64  \n",
      " 5   Walks      322 non-null    int64  \n",
      " 6   Years      322 non-null    int64  \n",
      " 7   CAtBat     322 non-null    int64  \n",
      " 8   CHits      322 non-null    int64  \n",
      " 9   CHmRun     322 non-null    int64  \n",
      " 10  CRuns      322 non-null    int64  \n",
      " 11  CRBI       322 non-null    int64  \n",
      " 12  CWalks     322 non-null    int64  \n",
      " 13  League     322 non-null    object \n",
      " 14  Division   322 non-null    object \n",
      " 15  PutOuts    322 non-null    int64  \n",
      " 16  Assists    322 non-null    int64  \n",
      " 17  Errors     322 non-null    int64  \n",
      " 18  Salary     263 non-null    float64\n",
      " 19  NewLeague  322 non-null    object \n",
      "dtypes: float64(1), int64(16), object(3)\n",
      "memory usage: 50.4+ KB\n"
     ]
    }
   ],
   "source": [
    "df.info()"
   ]
  },
  {
   "cell_type": "code",
   "execution_count": 5,
   "id": "b5e34eb9",
   "metadata": {
    "ExecuteTime": {
     "end_time": "2022-05-04T05:21:01.750733Z",
     "start_time": "2022-05-04T05:21:01.733818Z"
    }
   },
   "outputs": [
    {
     "data": {
      "text/html": [
       "<div>\n",
       "<style scoped>\n",
       "    .dataframe tbody tr th:only-of-type {\n",
       "        vertical-align: middle;\n",
       "    }\n",
       "\n",
       "    .dataframe tbody tr th {\n",
       "        vertical-align: top;\n",
       "    }\n",
       "\n",
       "    .dataframe thead th {\n",
       "        text-align: right;\n",
       "    }\n",
       "</style>\n",
       "<table border=\"1\" class=\"dataframe\">\n",
       "  <thead>\n",
       "    <tr style=\"text-align: right;\">\n",
       "      <th></th>\n",
       "      <th>AtBat</th>\n",
       "      <th>Hits</th>\n",
       "      <th>HmRun</th>\n",
       "      <th>Runs</th>\n",
       "      <th>RBI</th>\n",
       "      <th>Walks</th>\n",
       "      <th>Years</th>\n",
       "      <th>CAtBat</th>\n",
       "      <th>CHits</th>\n",
       "      <th>CHmRun</th>\n",
       "      <th>CRuns</th>\n",
       "      <th>CRBI</th>\n",
       "      <th>CWalks</th>\n",
       "      <th>PutOuts</th>\n",
       "      <th>Assists</th>\n",
       "      <th>Errors</th>\n",
       "      <th>Salary</th>\n",
       "    </tr>\n",
       "  </thead>\n",
       "  <tbody>\n",
       "    <tr>\n",
       "      <th>count</th>\n",
       "      <td>322.000000</td>\n",
       "      <td>322.000000</td>\n",
       "      <td>322.000000</td>\n",
       "      <td>322.000000</td>\n",
       "      <td>322.000000</td>\n",
       "      <td>322.000000</td>\n",
       "      <td>322.000000</td>\n",
       "      <td>322.00000</td>\n",
       "      <td>322.000000</td>\n",
       "      <td>322.000000</td>\n",
       "      <td>322.000000</td>\n",
       "      <td>322.000000</td>\n",
       "      <td>322.000000</td>\n",
       "      <td>322.000000</td>\n",
       "      <td>322.000000</td>\n",
       "      <td>322.000000</td>\n",
       "      <td>263.000000</td>\n",
       "    </tr>\n",
       "    <tr>\n",
       "      <th>mean</th>\n",
       "      <td>380.928571</td>\n",
       "      <td>101.024845</td>\n",
       "      <td>10.770186</td>\n",
       "      <td>50.909938</td>\n",
       "      <td>48.027950</td>\n",
       "      <td>38.742236</td>\n",
       "      <td>7.444099</td>\n",
       "      <td>2648.68323</td>\n",
       "      <td>717.571429</td>\n",
       "      <td>69.490683</td>\n",
       "      <td>358.795031</td>\n",
       "      <td>330.118012</td>\n",
       "      <td>260.239130</td>\n",
       "      <td>288.937888</td>\n",
       "      <td>106.913043</td>\n",
       "      <td>8.040373</td>\n",
       "      <td>535.925882</td>\n",
       "    </tr>\n",
       "    <tr>\n",
       "      <th>std</th>\n",
       "      <td>153.404981</td>\n",
       "      <td>46.454741</td>\n",
       "      <td>8.709037</td>\n",
       "      <td>26.024095</td>\n",
       "      <td>26.166895</td>\n",
       "      <td>21.639327</td>\n",
       "      <td>4.926087</td>\n",
       "      <td>2324.20587</td>\n",
       "      <td>654.472627</td>\n",
       "      <td>86.266061</td>\n",
       "      <td>334.105886</td>\n",
       "      <td>333.219617</td>\n",
       "      <td>267.058085</td>\n",
       "      <td>280.704614</td>\n",
       "      <td>136.854876</td>\n",
       "      <td>6.368359</td>\n",
       "      <td>451.118681</td>\n",
       "    </tr>\n",
       "    <tr>\n",
       "      <th>min</th>\n",
       "      <td>16.000000</td>\n",
       "      <td>1.000000</td>\n",
       "      <td>0.000000</td>\n",
       "      <td>0.000000</td>\n",
       "      <td>0.000000</td>\n",
       "      <td>0.000000</td>\n",
       "      <td>1.000000</td>\n",
       "      <td>19.00000</td>\n",
       "      <td>4.000000</td>\n",
       "      <td>0.000000</td>\n",
       "      <td>1.000000</td>\n",
       "      <td>0.000000</td>\n",
       "      <td>0.000000</td>\n",
       "      <td>0.000000</td>\n",
       "      <td>0.000000</td>\n",
       "      <td>0.000000</td>\n",
       "      <td>67.500000</td>\n",
       "    </tr>\n",
       "    <tr>\n",
       "      <th>25%</th>\n",
       "      <td>255.250000</td>\n",
       "      <td>64.000000</td>\n",
       "      <td>4.000000</td>\n",
       "      <td>30.250000</td>\n",
       "      <td>28.000000</td>\n",
       "      <td>22.000000</td>\n",
       "      <td>4.000000</td>\n",
       "      <td>816.75000</td>\n",
       "      <td>209.000000</td>\n",
       "      <td>14.000000</td>\n",
       "      <td>100.250000</td>\n",
       "      <td>88.750000</td>\n",
       "      <td>67.250000</td>\n",
       "      <td>109.250000</td>\n",
       "      <td>7.000000</td>\n",
       "      <td>3.000000</td>\n",
       "      <td>190.000000</td>\n",
       "    </tr>\n",
       "    <tr>\n",
       "      <th>50%</th>\n",
       "      <td>379.500000</td>\n",
       "      <td>96.000000</td>\n",
       "      <td>8.000000</td>\n",
       "      <td>48.000000</td>\n",
       "      <td>44.000000</td>\n",
       "      <td>35.000000</td>\n",
       "      <td>6.000000</td>\n",
       "      <td>1928.00000</td>\n",
       "      <td>508.000000</td>\n",
       "      <td>37.500000</td>\n",
       "      <td>247.000000</td>\n",
       "      <td>220.500000</td>\n",
       "      <td>170.500000</td>\n",
       "      <td>212.000000</td>\n",
       "      <td>39.500000</td>\n",
       "      <td>6.000000</td>\n",
       "      <td>425.000000</td>\n",
       "    </tr>\n",
       "    <tr>\n",
       "      <th>75%</th>\n",
       "      <td>512.000000</td>\n",
       "      <td>137.000000</td>\n",
       "      <td>16.000000</td>\n",
       "      <td>69.000000</td>\n",
       "      <td>64.750000</td>\n",
       "      <td>53.000000</td>\n",
       "      <td>11.000000</td>\n",
       "      <td>3924.25000</td>\n",
       "      <td>1059.250000</td>\n",
       "      <td>90.000000</td>\n",
       "      <td>526.250000</td>\n",
       "      <td>426.250000</td>\n",
       "      <td>339.250000</td>\n",
       "      <td>325.000000</td>\n",
       "      <td>166.000000</td>\n",
       "      <td>11.000000</td>\n",
       "      <td>750.000000</td>\n",
       "    </tr>\n",
       "    <tr>\n",
       "      <th>max</th>\n",
       "      <td>687.000000</td>\n",
       "      <td>238.000000</td>\n",
       "      <td>40.000000</td>\n",
       "      <td>130.000000</td>\n",
       "      <td>121.000000</td>\n",
       "      <td>105.000000</td>\n",
       "      <td>24.000000</td>\n",
       "      <td>14053.00000</td>\n",
       "      <td>4256.000000</td>\n",
       "      <td>548.000000</td>\n",
       "      <td>2165.000000</td>\n",
       "      <td>1659.000000</td>\n",
       "      <td>1566.000000</td>\n",
       "      <td>1378.000000</td>\n",
       "      <td>492.000000</td>\n",
       "      <td>32.000000</td>\n",
       "      <td>2460.000000</td>\n",
       "    </tr>\n",
       "  </tbody>\n",
       "</table>\n",
       "</div>"
      ],
      "text/plain": [
       "            AtBat        Hits       HmRun        Runs         RBI       Walks  \\\n",
       "count  322.000000  322.000000  322.000000  322.000000  322.000000  322.000000   \n",
       "mean   380.928571  101.024845   10.770186   50.909938   48.027950   38.742236   \n",
       "std    153.404981   46.454741    8.709037   26.024095   26.166895   21.639327   \n",
       "min     16.000000    1.000000    0.000000    0.000000    0.000000    0.000000   \n",
       "25%    255.250000   64.000000    4.000000   30.250000   28.000000   22.000000   \n",
       "50%    379.500000   96.000000    8.000000   48.000000   44.000000   35.000000   \n",
       "75%    512.000000  137.000000   16.000000   69.000000   64.750000   53.000000   \n",
       "max    687.000000  238.000000   40.000000  130.000000  121.000000  105.000000   \n",
       "\n",
       "            Years       CAtBat        CHits      CHmRun        CRuns  \\\n",
       "count  322.000000    322.00000   322.000000  322.000000   322.000000   \n",
       "mean     7.444099   2648.68323   717.571429   69.490683   358.795031   \n",
       "std      4.926087   2324.20587   654.472627   86.266061   334.105886   \n",
       "min      1.000000     19.00000     4.000000    0.000000     1.000000   \n",
       "25%      4.000000    816.75000   209.000000   14.000000   100.250000   \n",
       "50%      6.000000   1928.00000   508.000000   37.500000   247.000000   \n",
       "75%     11.000000   3924.25000  1059.250000   90.000000   526.250000   \n",
       "max     24.000000  14053.00000  4256.000000  548.000000  2165.000000   \n",
       "\n",
       "              CRBI       CWalks      PutOuts     Assists      Errors  \\\n",
       "count   322.000000   322.000000   322.000000  322.000000  322.000000   \n",
       "mean    330.118012   260.239130   288.937888  106.913043    8.040373   \n",
       "std     333.219617   267.058085   280.704614  136.854876    6.368359   \n",
       "min       0.000000     0.000000     0.000000    0.000000    0.000000   \n",
       "25%      88.750000    67.250000   109.250000    7.000000    3.000000   \n",
       "50%     220.500000   170.500000   212.000000   39.500000    6.000000   \n",
       "75%     426.250000   339.250000   325.000000  166.000000   11.000000   \n",
       "max    1659.000000  1566.000000  1378.000000  492.000000   32.000000   \n",
       "\n",
       "            Salary  \n",
       "count   263.000000  \n",
       "mean    535.925882  \n",
       "std     451.118681  \n",
       "min      67.500000  \n",
       "25%     190.000000  \n",
       "50%     425.000000  \n",
       "75%     750.000000  \n",
       "max    2460.000000  "
      ]
     },
     "execution_count": 5,
     "metadata": {},
     "output_type": "execute_result"
    }
   ],
   "source": [
    "df.describe()"
   ]
  },
  {
   "cell_type": "code",
   "execution_count": 6,
   "id": "18b9334a",
   "metadata": {
    "ExecuteTime": {
     "end_time": "2022-05-04T05:21:01.758189Z",
     "start_time": "2022-05-04T05:21:01.751455Z"
    }
   },
   "outputs": [
    {
     "name": "stdout",
     "output_type": "stream",
     "text": [
      "(263, 20)\n"
     ]
    },
    {
     "data": {
      "text/html": [
       "<div>\n",
       "<style scoped>\n",
       "    .dataframe tbody tr th:only-of-type {\n",
       "        vertical-align: middle;\n",
       "    }\n",
       "\n",
       "    .dataframe tbody tr th {\n",
       "        vertical-align: top;\n",
       "    }\n",
       "\n",
       "    .dataframe thead th {\n",
       "        text-align: right;\n",
       "    }\n",
       "</style>\n",
       "<table border=\"1\" class=\"dataframe\">\n",
       "  <thead>\n",
       "    <tr style=\"text-align: right;\">\n",
       "      <th></th>\n",
       "      <th>AtBat</th>\n",
       "      <th>Hits</th>\n",
       "      <th>HmRun</th>\n",
       "      <th>Runs</th>\n",
       "      <th>RBI</th>\n",
       "      <th>Walks</th>\n",
       "      <th>Years</th>\n",
       "      <th>CAtBat</th>\n",
       "      <th>CHits</th>\n",
       "      <th>CHmRun</th>\n",
       "      <th>CRuns</th>\n",
       "      <th>CRBI</th>\n",
       "      <th>CWalks</th>\n",
       "      <th>League</th>\n",
       "      <th>Division</th>\n",
       "      <th>PutOuts</th>\n",
       "      <th>Assists</th>\n",
       "      <th>Errors</th>\n",
       "      <th>Salary</th>\n",
       "      <th>NewLeague</th>\n",
       "    </tr>\n",
       "  </thead>\n",
       "  <tbody>\n",
       "    <tr>\n",
       "      <th>1</th>\n",
       "      <td>315</td>\n",
       "      <td>81</td>\n",
       "      <td>7</td>\n",
       "      <td>24</td>\n",
       "      <td>38</td>\n",
       "      <td>39</td>\n",
       "      <td>14</td>\n",
       "      <td>3449</td>\n",
       "      <td>835</td>\n",
       "      <td>69</td>\n",
       "      <td>321</td>\n",
       "      <td>414</td>\n",
       "      <td>375</td>\n",
       "      <td>N</td>\n",
       "      <td>W</td>\n",
       "      <td>632</td>\n",
       "      <td>43</td>\n",
       "      <td>10</td>\n",
       "      <td>475.0</td>\n",
       "      <td>N</td>\n",
       "    </tr>\n",
       "    <tr>\n",
       "      <th>2</th>\n",
       "      <td>479</td>\n",
       "      <td>130</td>\n",
       "      <td>18</td>\n",
       "      <td>66</td>\n",
       "      <td>72</td>\n",
       "      <td>76</td>\n",
       "      <td>3</td>\n",
       "      <td>1624</td>\n",
       "      <td>457</td>\n",
       "      <td>63</td>\n",
       "      <td>224</td>\n",
       "      <td>266</td>\n",
       "      <td>263</td>\n",
       "      <td>A</td>\n",
       "      <td>W</td>\n",
       "      <td>880</td>\n",
       "      <td>82</td>\n",
       "      <td>14</td>\n",
       "      <td>480.0</td>\n",
       "      <td>A</td>\n",
       "    </tr>\n",
       "    <tr>\n",
       "      <th>3</th>\n",
       "      <td>496</td>\n",
       "      <td>141</td>\n",
       "      <td>20</td>\n",
       "      <td>65</td>\n",
       "      <td>78</td>\n",
       "      <td>37</td>\n",
       "      <td>11</td>\n",
       "      <td>5628</td>\n",
       "      <td>1575</td>\n",
       "      <td>225</td>\n",
       "      <td>828</td>\n",
       "      <td>838</td>\n",
       "      <td>354</td>\n",
       "      <td>N</td>\n",
       "      <td>E</td>\n",
       "      <td>200</td>\n",
       "      <td>11</td>\n",
       "      <td>3</td>\n",
       "      <td>500.0</td>\n",
       "      <td>N</td>\n",
       "    </tr>\n",
       "    <tr>\n",
       "      <th>4</th>\n",
       "      <td>321</td>\n",
       "      <td>87</td>\n",
       "      <td>10</td>\n",
       "      <td>39</td>\n",
       "      <td>42</td>\n",
       "      <td>30</td>\n",
       "      <td>2</td>\n",
       "      <td>396</td>\n",
       "      <td>101</td>\n",
       "      <td>12</td>\n",
       "      <td>48</td>\n",
       "      <td>46</td>\n",
       "      <td>33</td>\n",
       "      <td>N</td>\n",
       "      <td>E</td>\n",
       "      <td>805</td>\n",
       "      <td>40</td>\n",
       "      <td>4</td>\n",
       "      <td>91.5</td>\n",
       "      <td>N</td>\n",
       "    </tr>\n",
       "    <tr>\n",
       "      <th>5</th>\n",
       "      <td>594</td>\n",
       "      <td>169</td>\n",
       "      <td>4</td>\n",
       "      <td>74</td>\n",
       "      <td>51</td>\n",
       "      <td>35</td>\n",
       "      <td>11</td>\n",
       "      <td>4408</td>\n",
       "      <td>1133</td>\n",
       "      <td>19</td>\n",
       "      <td>501</td>\n",
       "      <td>336</td>\n",
       "      <td>194</td>\n",
       "      <td>A</td>\n",
       "      <td>W</td>\n",
       "      <td>282</td>\n",
       "      <td>421</td>\n",
       "      <td>25</td>\n",
       "      <td>750.0</td>\n",
       "      <td>A</td>\n",
       "    </tr>\n",
       "  </tbody>\n",
       "</table>\n",
       "</div>"
      ],
      "text/plain": [
       "   AtBat  Hits  HmRun  Runs  RBI  Walks  Years  CAtBat  CHits  CHmRun  CRuns  \\\n",
       "1    315    81      7    24   38     39     14    3449    835      69    321   \n",
       "2    479   130     18    66   72     76      3    1624    457      63    224   \n",
       "3    496   141     20    65   78     37     11    5628   1575     225    828   \n",
       "4    321    87     10    39   42     30      2     396    101      12     48   \n",
       "5    594   169      4    74   51     35     11    4408   1133      19    501   \n",
       "\n",
       "   CRBI  CWalks League Division  PutOuts  Assists  Errors  Salary NewLeague  \n",
       "1   414     375      N        W      632       43      10   475.0         N  \n",
       "2   266     263      A        W      880       82      14   480.0         A  \n",
       "3   838     354      N        E      200       11       3   500.0         N  \n",
       "4    46      33      N        E      805       40       4    91.5         N  \n",
       "5   336     194      A        W      282      421      25   750.0         A  "
      ]
     },
     "execution_count": 6,
     "metadata": {},
     "output_type": "execute_result"
    }
   ],
   "source": [
    "df_drop = df.dropna(axis=0)\n",
    "print(df_drop.shape)\n",
    "df_drop.head()"
   ]
  },
  {
   "cell_type": "code",
   "execution_count": 7,
   "id": "2615ee4a",
   "metadata": {
    "ExecuteTime": {
     "end_time": "2022-05-04T05:21:01.765532Z",
     "start_time": "2022-05-04T05:21:01.759063Z"
    }
   },
   "outputs": [
    {
     "name": "stdout",
     "output_type": "stream",
     "text": [
      "(322, 20)\n"
     ]
    },
    {
     "data": {
      "text/html": [
       "<div>\n",
       "<style scoped>\n",
       "    .dataframe tbody tr th:only-of-type {\n",
       "        vertical-align: middle;\n",
       "    }\n",
       "\n",
       "    .dataframe tbody tr th {\n",
       "        vertical-align: top;\n",
       "    }\n",
       "\n",
       "    .dataframe thead th {\n",
       "        text-align: right;\n",
       "    }\n",
       "</style>\n",
       "<table border=\"1\" class=\"dataframe\">\n",
       "  <thead>\n",
       "    <tr style=\"text-align: right;\">\n",
       "      <th></th>\n",
       "      <th>AtBat</th>\n",
       "      <th>Hits</th>\n",
       "      <th>HmRun</th>\n",
       "      <th>Runs</th>\n",
       "      <th>RBI</th>\n",
       "      <th>Walks</th>\n",
       "      <th>Years</th>\n",
       "      <th>CAtBat</th>\n",
       "      <th>CHits</th>\n",
       "      <th>CHmRun</th>\n",
       "      <th>CRuns</th>\n",
       "      <th>CRBI</th>\n",
       "      <th>CWalks</th>\n",
       "      <th>League</th>\n",
       "      <th>Division</th>\n",
       "      <th>PutOuts</th>\n",
       "      <th>Assists</th>\n",
       "      <th>Errors</th>\n",
       "      <th>Salary</th>\n",
       "      <th>NewLeague</th>\n",
       "    </tr>\n",
       "  </thead>\n",
       "  <tbody>\n",
       "    <tr>\n",
       "      <th>0</th>\n",
       "      <td>293</td>\n",
       "      <td>66</td>\n",
       "      <td>1</td>\n",
       "      <td>30</td>\n",
       "      <td>29</td>\n",
       "      <td>14</td>\n",
       "      <td>1</td>\n",
       "      <td>293</td>\n",
       "      <td>66</td>\n",
       "      <td>1</td>\n",
       "      <td>30</td>\n",
       "      <td>29</td>\n",
       "      <td>14</td>\n",
       "      <td>A</td>\n",
       "      <td>E</td>\n",
       "      <td>446</td>\n",
       "      <td>33</td>\n",
       "      <td>20</td>\n",
       "      <td>535.925882</td>\n",
       "      <td>A</td>\n",
       "    </tr>\n",
       "    <tr>\n",
       "      <th>1</th>\n",
       "      <td>315</td>\n",
       "      <td>81</td>\n",
       "      <td>7</td>\n",
       "      <td>24</td>\n",
       "      <td>38</td>\n",
       "      <td>39</td>\n",
       "      <td>14</td>\n",
       "      <td>3449</td>\n",
       "      <td>835</td>\n",
       "      <td>69</td>\n",
       "      <td>321</td>\n",
       "      <td>414</td>\n",
       "      <td>375</td>\n",
       "      <td>N</td>\n",
       "      <td>W</td>\n",
       "      <td>632</td>\n",
       "      <td>43</td>\n",
       "      <td>10</td>\n",
       "      <td>475.000000</td>\n",
       "      <td>N</td>\n",
       "    </tr>\n",
       "    <tr>\n",
       "      <th>2</th>\n",
       "      <td>479</td>\n",
       "      <td>130</td>\n",
       "      <td>18</td>\n",
       "      <td>66</td>\n",
       "      <td>72</td>\n",
       "      <td>76</td>\n",
       "      <td>3</td>\n",
       "      <td>1624</td>\n",
       "      <td>457</td>\n",
       "      <td>63</td>\n",
       "      <td>224</td>\n",
       "      <td>266</td>\n",
       "      <td>263</td>\n",
       "      <td>A</td>\n",
       "      <td>W</td>\n",
       "      <td>880</td>\n",
       "      <td>82</td>\n",
       "      <td>14</td>\n",
       "      <td>480.000000</td>\n",
       "      <td>A</td>\n",
       "    </tr>\n",
       "    <tr>\n",
       "      <th>3</th>\n",
       "      <td>496</td>\n",
       "      <td>141</td>\n",
       "      <td>20</td>\n",
       "      <td>65</td>\n",
       "      <td>78</td>\n",
       "      <td>37</td>\n",
       "      <td>11</td>\n",
       "      <td>5628</td>\n",
       "      <td>1575</td>\n",
       "      <td>225</td>\n",
       "      <td>828</td>\n",
       "      <td>838</td>\n",
       "      <td>354</td>\n",
       "      <td>N</td>\n",
       "      <td>E</td>\n",
       "      <td>200</td>\n",
       "      <td>11</td>\n",
       "      <td>3</td>\n",
       "      <td>500.000000</td>\n",
       "      <td>N</td>\n",
       "    </tr>\n",
       "    <tr>\n",
       "      <th>4</th>\n",
       "      <td>321</td>\n",
       "      <td>87</td>\n",
       "      <td>10</td>\n",
       "      <td>39</td>\n",
       "      <td>42</td>\n",
       "      <td>30</td>\n",
       "      <td>2</td>\n",
       "      <td>396</td>\n",
       "      <td>101</td>\n",
       "      <td>12</td>\n",
       "      <td>48</td>\n",
       "      <td>46</td>\n",
       "      <td>33</td>\n",
       "      <td>N</td>\n",
       "      <td>E</td>\n",
       "      <td>805</td>\n",
       "      <td>40</td>\n",
       "      <td>4</td>\n",
       "      <td>91.500000</td>\n",
       "      <td>N</td>\n",
       "    </tr>\n",
       "  </tbody>\n",
       "</table>\n",
       "</div>"
      ],
      "text/plain": [
       "   AtBat  Hits  HmRun  Runs  RBI  Walks  Years  CAtBat  CHits  CHmRun  CRuns  \\\n",
       "0    293    66      1    30   29     14      1     293     66       1     30   \n",
       "1    315    81      7    24   38     39     14    3449    835      69    321   \n",
       "2    479   130     18    66   72     76      3    1624    457      63    224   \n",
       "3    496   141     20    65   78     37     11    5628   1575     225    828   \n",
       "4    321    87     10    39   42     30      2     396    101      12     48   \n",
       "\n",
       "   CRBI  CWalks League Division  PutOuts  Assists  Errors      Salary  \\\n",
       "0    29      14      A        E      446       33      20  535.925882   \n",
       "1   414     375      N        W      632       43      10  475.000000   \n",
       "2   266     263      A        W      880       82      14  480.000000   \n",
       "3   838     354      N        E      200       11       3  500.000000   \n",
       "4    46      33      N        E      805       40       4   91.500000   \n",
       "\n",
       "  NewLeague  \n",
       "0         A  \n",
       "1         N  \n",
       "2         A  \n",
       "3         N  \n",
       "4         N  "
      ]
     },
     "execution_count": 7,
     "metadata": {},
     "output_type": "execute_result"
    }
   ],
   "source": [
    "sal_mean = df['Salary'].mean()\n",
    "df_mean = df.fillna(sal_mean)\n",
    "print(df_mean.shape)\n",
    "df_mean.head()"
   ]
  },
  {
   "cell_type": "code",
   "execution_count": 8,
   "id": "32139db0",
   "metadata": {
    "ExecuteTime": {
     "end_time": "2022-05-04T05:21:01.774050Z",
     "start_time": "2022-05-04T05:21:01.766213Z"
    }
   },
   "outputs": [
    {
     "name": "stdout",
     "output_type": "stream",
     "text": [
      "(322, 20)\n"
     ]
    },
    {
     "data": {
      "text/html": [
       "<div>\n",
       "<style scoped>\n",
       "    .dataframe tbody tr th:only-of-type {\n",
       "        vertical-align: middle;\n",
       "    }\n",
       "\n",
       "    .dataframe tbody tr th {\n",
       "        vertical-align: top;\n",
       "    }\n",
       "\n",
       "    .dataframe thead th {\n",
       "        text-align: right;\n",
       "    }\n",
       "</style>\n",
       "<table border=\"1\" class=\"dataframe\">\n",
       "  <thead>\n",
       "    <tr style=\"text-align: right;\">\n",
       "      <th></th>\n",
       "      <th>AtBat</th>\n",
       "      <th>Hits</th>\n",
       "      <th>HmRun</th>\n",
       "      <th>Runs</th>\n",
       "      <th>RBI</th>\n",
       "      <th>Walks</th>\n",
       "      <th>Years</th>\n",
       "      <th>CAtBat</th>\n",
       "      <th>CHits</th>\n",
       "      <th>CHmRun</th>\n",
       "      <th>CRuns</th>\n",
       "      <th>CRBI</th>\n",
       "      <th>CWalks</th>\n",
       "      <th>League</th>\n",
       "      <th>Division</th>\n",
       "      <th>PutOuts</th>\n",
       "      <th>Assists</th>\n",
       "      <th>Errors</th>\n",
       "      <th>Salary</th>\n",
       "      <th>NewLeague</th>\n",
       "    </tr>\n",
       "  </thead>\n",
       "  <tbody>\n",
       "    <tr>\n",
       "      <th>0</th>\n",
       "      <td>293</td>\n",
       "      <td>66</td>\n",
       "      <td>1</td>\n",
       "      <td>30</td>\n",
       "      <td>29</td>\n",
       "      <td>14</td>\n",
       "      <td>1</td>\n",
       "      <td>293</td>\n",
       "      <td>66</td>\n",
       "      <td>1</td>\n",
       "      <td>30</td>\n",
       "      <td>29</td>\n",
       "      <td>14</td>\n",
       "      <td>A</td>\n",
       "      <td>E</td>\n",
       "      <td>446</td>\n",
       "      <td>33</td>\n",
       "      <td>20</td>\n",
       "      <td>425.0</td>\n",
       "      <td>A</td>\n",
       "    </tr>\n",
       "    <tr>\n",
       "      <th>1</th>\n",
       "      <td>315</td>\n",
       "      <td>81</td>\n",
       "      <td>7</td>\n",
       "      <td>24</td>\n",
       "      <td>38</td>\n",
       "      <td>39</td>\n",
       "      <td>14</td>\n",
       "      <td>3449</td>\n",
       "      <td>835</td>\n",
       "      <td>69</td>\n",
       "      <td>321</td>\n",
       "      <td>414</td>\n",
       "      <td>375</td>\n",
       "      <td>N</td>\n",
       "      <td>W</td>\n",
       "      <td>632</td>\n",
       "      <td>43</td>\n",
       "      <td>10</td>\n",
       "      <td>475.0</td>\n",
       "      <td>N</td>\n",
       "    </tr>\n",
       "    <tr>\n",
       "      <th>2</th>\n",
       "      <td>479</td>\n",
       "      <td>130</td>\n",
       "      <td>18</td>\n",
       "      <td>66</td>\n",
       "      <td>72</td>\n",
       "      <td>76</td>\n",
       "      <td>3</td>\n",
       "      <td>1624</td>\n",
       "      <td>457</td>\n",
       "      <td>63</td>\n",
       "      <td>224</td>\n",
       "      <td>266</td>\n",
       "      <td>263</td>\n",
       "      <td>A</td>\n",
       "      <td>W</td>\n",
       "      <td>880</td>\n",
       "      <td>82</td>\n",
       "      <td>14</td>\n",
       "      <td>480.0</td>\n",
       "      <td>A</td>\n",
       "    </tr>\n",
       "    <tr>\n",
       "      <th>3</th>\n",
       "      <td>496</td>\n",
       "      <td>141</td>\n",
       "      <td>20</td>\n",
       "      <td>65</td>\n",
       "      <td>78</td>\n",
       "      <td>37</td>\n",
       "      <td>11</td>\n",
       "      <td>5628</td>\n",
       "      <td>1575</td>\n",
       "      <td>225</td>\n",
       "      <td>828</td>\n",
       "      <td>838</td>\n",
       "      <td>354</td>\n",
       "      <td>N</td>\n",
       "      <td>E</td>\n",
       "      <td>200</td>\n",
       "      <td>11</td>\n",
       "      <td>3</td>\n",
       "      <td>500.0</td>\n",
       "      <td>N</td>\n",
       "    </tr>\n",
       "    <tr>\n",
       "      <th>4</th>\n",
       "      <td>321</td>\n",
       "      <td>87</td>\n",
       "      <td>10</td>\n",
       "      <td>39</td>\n",
       "      <td>42</td>\n",
       "      <td>30</td>\n",
       "      <td>2</td>\n",
       "      <td>396</td>\n",
       "      <td>101</td>\n",
       "      <td>12</td>\n",
       "      <td>48</td>\n",
       "      <td>46</td>\n",
       "      <td>33</td>\n",
       "      <td>N</td>\n",
       "      <td>E</td>\n",
       "      <td>805</td>\n",
       "      <td>40</td>\n",
       "      <td>4</td>\n",
       "      <td>91.5</td>\n",
       "      <td>N</td>\n",
       "    </tr>\n",
       "  </tbody>\n",
       "</table>\n",
       "</div>"
      ],
      "text/plain": [
       "   AtBat  Hits  HmRun  Runs  RBI  Walks  Years  CAtBat  CHits  CHmRun  CRuns  \\\n",
       "0    293    66      1    30   29     14      1     293     66       1     30   \n",
       "1    315    81      7    24   38     39     14    3449    835      69    321   \n",
       "2    479   130     18    66   72     76      3    1624    457      63    224   \n",
       "3    496   141     20    65   78     37     11    5628   1575     225    828   \n",
       "4    321    87     10    39   42     30      2     396    101      12     48   \n",
       "\n",
       "   CRBI  CWalks League Division  PutOuts  Assists  Errors  Salary NewLeague  \n",
       "0    29      14      A        E      446       33      20   425.0         A  \n",
       "1   414     375      N        W      632       43      10   475.0         N  \n",
       "2   266     263      A        W      880       82      14   480.0         A  \n",
       "3   838     354      N        E      200       11       3   500.0         N  \n",
       "4    46      33      N        E      805       40       4    91.5         N  "
      ]
     },
     "execution_count": 8,
     "metadata": {},
     "output_type": "execute_result"
    }
   ],
   "source": [
    "sal_median = df['Salary'].median()\n",
    "df_median = df.fillna(sal_median)\n",
    "print(df_median.shape)\n",
    "df_median.head()"
   ]
  },
  {
   "cell_type": "code",
   "execution_count": null,
   "id": "4a783a57",
   "metadata": {
    "ExecuteTime": {
     "end_time": "2022-05-04T05:21:01.864310Z",
     "start_time": "2022-05-04T05:21:01.775083Z"
    }
   },
   "outputs": [],
   "source": [
    "df_drop['League'] = df_drop['League'].map({'A': 0, 'N': 1})\n",
    "df_drop['NewLeague'] = df_drop['NewLeague'].map({'A': 0, 'N': 1})\n",
    "df_drop['Division'] = df_drop['Division'].map({'W': 1, 'E': 0})\n",
    "\n",
    "df_drop.head()"
   ]
  },
  {
   "cell_type": "code",
   "execution_count": 10,
   "id": "b1975b1d",
   "metadata": {
    "ExecuteTime": {
     "end_time": "2022-05-04T05:21:01.872728Z",
     "start_time": "2022-05-04T05:21:01.866539Z"
    }
   },
   "outputs": [
    {
     "data": {
      "text/html": [
       "<div>\n",
       "<style scoped>\n",
       "    .dataframe tbody tr th:only-of-type {\n",
       "        vertical-align: middle;\n",
       "    }\n",
       "\n",
       "    .dataframe tbody tr th {\n",
       "        vertical-align: top;\n",
       "    }\n",
       "\n",
       "    .dataframe thead th {\n",
       "        text-align: right;\n",
       "    }\n",
       "</style>\n",
       "<table border=\"1\" class=\"dataframe\">\n",
       "  <thead>\n",
       "    <tr style=\"text-align: right;\">\n",
       "      <th></th>\n",
       "      <th>AtBat</th>\n",
       "      <th>Hits</th>\n",
       "      <th>HmRun</th>\n",
       "      <th>Runs</th>\n",
       "      <th>RBI</th>\n",
       "      <th>Walks</th>\n",
       "      <th>Years</th>\n",
       "      <th>CAtBat</th>\n",
       "      <th>CHits</th>\n",
       "      <th>CHmRun</th>\n",
       "      <th>CRuns</th>\n",
       "      <th>CRBI</th>\n",
       "      <th>CWalks</th>\n",
       "      <th>League</th>\n",
       "      <th>Division</th>\n",
       "      <th>PutOuts</th>\n",
       "      <th>Assists</th>\n",
       "      <th>Errors</th>\n",
       "      <th>Salary</th>\n",
       "      <th>NewLeague</th>\n",
       "    </tr>\n",
       "  </thead>\n",
       "  <tbody>\n",
       "    <tr>\n",
       "      <th>0</th>\n",
       "      <td>293</td>\n",
       "      <td>66</td>\n",
       "      <td>1</td>\n",
       "      <td>30</td>\n",
       "      <td>29</td>\n",
       "      <td>14</td>\n",
       "      <td>1</td>\n",
       "      <td>293</td>\n",
       "      <td>66</td>\n",
       "      <td>1</td>\n",
       "      <td>30</td>\n",
       "      <td>29</td>\n",
       "      <td>14</td>\n",
       "      <td>0</td>\n",
       "      <td>0</td>\n",
       "      <td>446</td>\n",
       "      <td>33</td>\n",
       "      <td>20</td>\n",
       "      <td>535.925882</td>\n",
       "      <td>0</td>\n",
       "    </tr>\n",
       "    <tr>\n",
       "      <th>1</th>\n",
       "      <td>315</td>\n",
       "      <td>81</td>\n",
       "      <td>7</td>\n",
       "      <td>24</td>\n",
       "      <td>38</td>\n",
       "      <td>39</td>\n",
       "      <td>14</td>\n",
       "      <td>3449</td>\n",
       "      <td>835</td>\n",
       "      <td>69</td>\n",
       "      <td>321</td>\n",
       "      <td>414</td>\n",
       "      <td>375</td>\n",
       "      <td>1</td>\n",
       "      <td>1</td>\n",
       "      <td>632</td>\n",
       "      <td>43</td>\n",
       "      <td>10</td>\n",
       "      <td>475.000000</td>\n",
       "      <td>1</td>\n",
       "    </tr>\n",
       "    <tr>\n",
       "      <th>2</th>\n",
       "      <td>479</td>\n",
       "      <td>130</td>\n",
       "      <td>18</td>\n",
       "      <td>66</td>\n",
       "      <td>72</td>\n",
       "      <td>76</td>\n",
       "      <td>3</td>\n",
       "      <td>1624</td>\n",
       "      <td>457</td>\n",
       "      <td>63</td>\n",
       "      <td>224</td>\n",
       "      <td>266</td>\n",
       "      <td>263</td>\n",
       "      <td>0</td>\n",
       "      <td>1</td>\n",
       "      <td>880</td>\n",
       "      <td>82</td>\n",
       "      <td>14</td>\n",
       "      <td>480.000000</td>\n",
       "      <td>0</td>\n",
       "    </tr>\n",
       "    <tr>\n",
       "      <th>3</th>\n",
       "      <td>496</td>\n",
       "      <td>141</td>\n",
       "      <td>20</td>\n",
       "      <td>65</td>\n",
       "      <td>78</td>\n",
       "      <td>37</td>\n",
       "      <td>11</td>\n",
       "      <td>5628</td>\n",
       "      <td>1575</td>\n",
       "      <td>225</td>\n",
       "      <td>828</td>\n",
       "      <td>838</td>\n",
       "      <td>354</td>\n",
       "      <td>1</td>\n",
       "      <td>0</td>\n",
       "      <td>200</td>\n",
       "      <td>11</td>\n",
       "      <td>3</td>\n",
       "      <td>500.000000</td>\n",
       "      <td>1</td>\n",
       "    </tr>\n",
       "    <tr>\n",
       "      <th>4</th>\n",
       "      <td>321</td>\n",
       "      <td>87</td>\n",
       "      <td>10</td>\n",
       "      <td>39</td>\n",
       "      <td>42</td>\n",
       "      <td>30</td>\n",
       "      <td>2</td>\n",
       "      <td>396</td>\n",
       "      <td>101</td>\n",
       "      <td>12</td>\n",
       "      <td>48</td>\n",
       "      <td>46</td>\n",
       "      <td>33</td>\n",
       "      <td>1</td>\n",
       "      <td>0</td>\n",
       "      <td>805</td>\n",
       "      <td>40</td>\n",
       "      <td>4</td>\n",
       "      <td>91.500000</td>\n",
       "      <td>1</td>\n",
       "    </tr>\n",
       "  </tbody>\n",
       "</table>\n",
       "</div>"
      ],
      "text/plain": [
       "   AtBat  Hits  HmRun  Runs  RBI  Walks  Years  CAtBat  CHits  CHmRun  CRuns  \\\n",
       "0    293    66      1    30   29     14      1     293     66       1     30   \n",
       "1    315    81      7    24   38     39     14    3449    835      69    321   \n",
       "2    479   130     18    66   72     76      3    1624    457      63    224   \n",
       "3    496   141     20    65   78     37     11    5628   1575     225    828   \n",
       "4    321    87     10    39   42     30      2     396    101      12     48   \n",
       "\n",
       "   CRBI  CWalks  League  Division  PutOuts  Assists  Errors      Salary  \\\n",
       "0    29      14       0         0      446       33      20  535.925882   \n",
       "1   414     375       1         1      632       43      10  475.000000   \n",
       "2   266     263       0         1      880       82      14  480.000000   \n",
       "3   838     354       1         0      200       11       3  500.000000   \n",
       "4    46      33       1         0      805       40       4   91.500000   \n",
       "\n",
       "   NewLeague  \n",
       "0          0  \n",
       "1          1  \n",
       "2          0  \n",
       "3          1  \n",
       "4          1  "
      ]
     },
     "execution_count": 10,
     "metadata": {},
     "output_type": "execute_result"
    }
   ],
   "source": [
    "df_mean['League'] = df_mean['League'].map({'A': 0, 'N': 1})\n",
    "df_mean['NewLeague'] = df_mean['NewLeague'].map({'A': 0, 'N': 1})\n",
    "df_mean['Division'] = df_mean['Division'].map({'W': 1, 'E': 0})\n",
    "\n",
    "df_mean.head()"
   ]
  },
  {
   "cell_type": "code",
   "execution_count": 11,
   "id": "03814326",
   "metadata": {
    "ExecuteTime": {
     "end_time": "2022-05-04T05:21:01.879709Z",
     "start_time": "2022-05-04T05:21:01.873446Z"
    }
   },
   "outputs": [
    {
     "data": {
      "text/html": [
       "<div>\n",
       "<style scoped>\n",
       "    .dataframe tbody tr th:only-of-type {\n",
       "        vertical-align: middle;\n",
       "    }\n",
       "\n",
       "    .dataframe tbody tr th {\n",
       "        vertical-align: top;\n",
       "    }\n",
       "\n",
       "    .dataframe thead th {\n",
       "        text-align: right;\n",
       "    }\n",
       "</style>\n",
       "<table border=\"1\" class=\"dataframe\">\n",
       "  <thead>\n",
       "    <tr style=\"text-align: right;\">\n",
       "      <th></th>\n",
       "      <th>AtBat</th>\n",
       "      <th>Hits</th>\n",
       "      <th>HmRun</th>\n",
       "      <th>Runs</th>\n",
       "      <th>RBI</th>\n",
       "      <th>Walks</th>\n",
       "      <th>Years</th>\n",
       "      <th>CAtBat</th>\n",
       "      <th>CHits</th>\n",
       "      <th>CHmRun</th>\n",
       "      <th>CRuns</th>\n",
       "      <th>CRBI</th>\n",
       "      <th>CWalks</th>\n",
       "      <th>League</th>\n",
       "      <th>Division</th>\n",
       "      <th>PutOuts</th>\n",
       "      <th>Assists</th>\n",
       "      <th>Errors</th>\n",
       "      <th>Salary</th>\n",
       "      <th>NewLeague</th>\n",
       "    </tr>\n",
       "  </thead>\n",
       "  <tbody>\n",
       "    <tr>\n",
       "      <th>0</th>\n",
       "      <td>293</td>\n",
       "      <td>66</td>\n",
       "      <td>1</td>\n",
       "      <td>30</td>\n",
       "      <td>29</td>\n",
       "      <td>14</td>\n",
       "      <td>1</td>\n",
       "      <td>293</td>\n",
       "      <td>66</td>\n",
       "      <td>1</td>\n",
       "      <td>30</td>\n",
       "      <td>29</td>\n",
       "      <td>14</td>\n",
       "      <td>0</td>\n",
       "      <td>0</td>\n",
       "      <td>446</td>\n",
       "      <td>33</td>\n",
       "      <td>20</td>\n",
       "      <td>425.0</td>\n",
       "      <td>0</td>\n",
       "    </tr>\n",
       "    <tr>\n",
       "      <th>1</th>\n",
       "      <td>315</td>\n",
       "      <td>81</td>\n",
       "      <td>7</td>\n",
       "      <td>24</td>\n",
       "      <td>38</td>\n",
       "      <td>39</td>\n",
       "      <td>14</td>\n",
       "      <td>3449</td>\n",
       "      <td>835</td>\n",
       "      <td>69</td>\n",
       "      <td>321</td>\n",
       "      <td>414</td>\n",
       "      <td>375</td>\n",
       "      <td>1</td>\n",
       "      <td>1</td>\n",
       "      <td>632</td>\n",
       "      <td>43</td>\n",
       "      <td>10</td>\n",
       "      <td>475.0</td>\n",
       "      <td>1</td>\n",
       "    </tr>\n",
       "    <tr>\n",
       "      <th>2</th>\n",
       "      <td>479</td>\n",
       "      <td>130</td>\n",
       "      <td>18</td>\n",
       "      <td>66</td>\n",
       "      <td>72</td>\n",
       "      <td>76</td>\n",
       "      <td>3</td>\n",
       "      <td>1624</td>\n",
       "      <td>457</td>\n",
       "      <td>63</td>\n",
       "      <td>224</td>\n",
       "      <td>266</td>\n",
       "      <td>263</td>\n",
       "      <td>0</td>\n",
       "      <td>1</td>\n",
       "      <td>880</td>\n",
       "      <td>82</td>\n",
       "      <td>14</td>\n",
       "      <td>480.0</td>\n",
       "      <td>0</td>\n",
       "    </tr>\n",
       "    <tr>\n",
       "      <th>3</th>\n",
       "      <td>496</td>\n",
       "      <td>141</td>\n",
       "      <td>20</td>\n",
       "      <td>65</td>\n",
       "      <td>78</td>\n",
       "      <td>37</td>\n",
       "      <td>11</td>\n",
       "      <td>5628</td>\n",
       "      <td>1575</td>\n",
       "      <td>225</td>\n",
       "      <td>828</td>\n",
       "      <td>838</td>\n",
       "      <td>354</td>\n",
       "      <td>1</td>\n",
       "      <td>0</td>\n",
       "      <td>200</td>\n",
       "      <td>11</td>\n",
       "      <td>3</td>\n",
       "      <td>500.0</td>\n",
       "      <td>1</td>\n",
       "    </tr>\n",
       "    <tr>\n",
       "      <th>4</th>\n",
       "      <td>321</td>\n",
       "      <td>87</td>\n",
       "      <td>10</td>\n",
       "      <td>39</td>\n",
       "      <td>42</td>\n",
       "      <td>30</td>\n",
       "      <td>2</td>\n",
       "      <td>396</td>\n",
       "      <td>101</td>\n",
       "      <td>12</td>\n",
       "      <td>48</td>\n",
       "      <td>46</td>\n",
       "      <td>33</td>\n",
       "      <td>1</td>\n",
       "      <td>0</td>\n",
       "      <td>805</td>\n",
       "      <td>40</td>\n",
       "      <td>4</td>\n",
       "      <td>91.5</td>\n",
       "      <td>1</td>\n",
       "    </tr>\n",
       "  </tbody>\n",
       "</table>\n",
       "</div>"
      ],
      "text/plain": [
       "   AtBat  Hits  HmRun  Runs  RBI  Walks  Years  CAtBat  CHits  CHmRun  CRuns  \\\n",
       "0    293    66      1    30   29     14      1     293     66       1     30   \n",
       "1    315    81      7    24   38     39     14    3449    835      69    321   \n",
       "2    479   130     18    66   72     76      3    1624    457      63    224   \n",
       "3    496   141     20    65   78     37     11    5628   1575     225    828   \n",
       "4    321    87     10    39   42     30      2     396    101      12     48   \n",
       "\n",
       "   CRBI  CWalks  League  Division  PutOuts  Assists  Errors  Salary  NewLeague  \n",
       "0    29      14       0         0      446       33      20   425.0          0  \n",
       "1   414     375       1         1      632       43      10   475.0          1  \n",
       "2   266     263       0         1      880       82      14   480.0          0  \n",
       "3   838     354       1         0      200       11       3   500.0          1  \n",
       "4    46      33       1         0      805       40       4    91.5          1  "
      ]
     },
     "execution_count": 11,
     "metadata": {},
     "output_type": "execute_result"
    }
   ],
   "source": [
    "df_median['League'] = df_median['League'].map({'A': 0, 'N': 1})\n",
    "df_median['NewLeague'] = df_median['NewLeague'].map({'A': 0, 'N': 1})\n",
    "df_median['Division'] = df_median['Division'].map({'W': 1, 'E': 0})\n",
    "\n",
    "df_median.head()"
   ]
  },
  {
   "cell_type": "code",
   "execution_count": 12,
   "id": "f76aee0b",
   "metadata": {
    "ExecuteTime": {
     "end_time": "2022-05-04T05:21:01.883169Z",
     "start_time": "2022-05-04T05:21:01.880549Z"
    }
   },
   "outputs": [
    {
     "name": "stdout",
     "output_type": "stream",
     "text": [
      "(263, 19)\n",
      "(263,)\n"
     ]
    }
   ],
   "source": [
    "X_drop = df_drop.drop(columns=\"Salary\")\n",
    "y_drop = df_drop['Salary']\n",
    "print(X_drop.shape)\n",
    "print(y_drop.shape)"
   ]
  },
  {
   "cell_type": "code",
   "execution_count": 13,
   "id": "ed0ddc58",
   "metadata": {
    "ExecuteTime": {
     "end_time": "2022-05-04T05:21:01.886104Z",
     "start_time": "2022-05-04T05:21:01.883810Z"
    }
   },
   "outputs": [],
   "source": [
    "header = list(X_drop.columns)"
   ]
  },
  {
   "cell_type": "code",
   "execution_count": 14,
   "id": "9b2f7429",
   "metadata": {
    "ExecuteTime": {
     "end_time": "2022-05-04T05:21:01.889277Z",
     "start_time": "2022-05-04T05:21:01.887016Z"
    }
   },
   "outputs": [
    {
     "name": "stdout",
     "output_type": "stream",
     "text": [
      "(322, 19)\n",
      "(322,)\n"
     ]
    }
   ],
   "source": [
    "X_mean = df_mean.drop(columns=\"Salary\")\n",
    "y_mean = df_mean['Salary']\n",
    "print(X_mean.shape)\n",
    "print(y_mean.shape)"
   ]
  },
  {
   "cell_type": "code",
   "execution_count": 15,
   "id": "1dd2c63e",
   "metadata": {
    "ExecuteTime": {
     "end_time": "2022-05-04T05:21:01.892185Z",
     "start_time": "2022-05-04T05:21:01.889987Z"
    }
   },
   "outputs": [
    {
     "name": "stdout",
     "output_type": "stream",
     "text": [
      "(322, 19)\n",
      "(322,)\n"
     ]
    }
   ],
   "source": [
    "X_median = df_median.drop(columns=\"Salary\")\n",
    "y_median = df_median['Salary']\n",
    "print(X_median.shape)\n",
    "print(y_median.shape)"
   ]
  },
  {
   "cell_type": "code",
   "execution_count": 16,
   "id": "4b523f6b",
   "metadata": {
    "ExecuteTime": {
     "end_time": "2022-05-04T05:21:01.929012Z",
     "start_time": "2022-05-04T05:21:01.892914Z"
    }
   },
   "outputs": [],
   "source": [
    "from sklearn.preprocessing import StandardScaler\n",
    "ss = StandardScaler()\n",
    "X_drop_normss = ss.fit_transform(X_drop)\n",
    "X_mean_normss = ss.fit_transform(X_mean)\n",
    "X_median_normss = ss.fit_transform(X_median)"
   ]
  },
  {
   "cell_type": "code",
   "execution_count": 17,
   "id": "3cfc1edd",
   "metadata": {
    "ExecuteTime": {
     "end_time": "2022-05-04T05:21:01.934423Z",
     "start_time": "2022-05-04T05:21:01.929841Z"
    }
   },
   "outputs": [],
   "source": [
    "from sklearn.preprocessing import MinMaxScaler\n",
    "mm = MinMaxScaler()\n",
    "\n",
    "X_drop_normmm = mm.fit_transform(X_drop)\n",
    "X_mean_normmm = mm.fit_transform(X_mean)\n",
    "X_median_normmm = mm.fit_transform(X_median)"
   ]
  },
  {
   "cell_type": "code",
   "execution_count": 18,
   "id": "3252f156",
   "metadata": {
    "ExecuteTime": {
     "end_time": "2022-05-04T05:21:01.949140Z",
     "start_time": "2022-05-04T05:21:01.935146Z"
    }
   },
   "outputs": [],
   "source": [
    "from sklearn.model_selection import train_test_split\n",
    "\n",
    "X_train_drop, X_test_drop, y_train_drop, y_test_drop = train_test_split(X_drop_normmm, y_drop, test_size=0.3, random_state=1)\n",
    "X_train_mean, X_test_mean, y_train_mean, y_test_mean = train_test_split(X_mean_normmm, y_mean, test_size=0.3, random_state=1)\n",
    "X_train_med, X_test_med, y_train_med, y_test_med = train_test_split(X_median_normmm, y_mean, test_size=0.3, random_state=1)\n"
   ]
  },
  {
   "cell_type": "code",
   "execution_count": 19,
   "id": "1bdcf28a",
   "metadata": {
    "ExecuteTime": {
     "end_time": "2022-05-04T05:21:02.087845Z",
     "start_time": "2022-05-04T05:21:01.949946Z"
    }
   },
   "outputs": [
    {
     "name": "stdout",
     "output_type": "stream",
     "text": [
      "R2 score and RMSE for dropping missing target variable:\n",
      "\n",
      "1.\n",
      "R2 score for: 0.3733488560057836\n",
      "RMSE score for: 353.69968412067516\n",
      "*************************************\n",
      "2.\n",
      "R2 score for: 0.3410547716524658\n",
      "RMSE score for: 362.6990451647799\n",
      "*************************************\n",
      "3.\n",
      "R2 score for: 0.5590332959304753\n",
      "RMSE score for: 296.7048550425745\n",
      "*************************************\n",
      "4.\n",
      "R2 score for: 0.34528638456244154\n",
      "RMSE score for: 361.5325795114683\n",
      "*************************************\n"
     ]
    }
   ],
   "source": [
    "# base model - drop missing target variables \n",
    "# 1 - Linear Regression, 2 Decision Tree, 3 - Random Forest, 4 - KNN\n",
    "\n",
    "from sklearn.linear_model import LinearRegression\n",
    "from sklearn.tree import DecisionTreeRegressor\n",
    "from sklearn.ensemble import RandomForestRegressor\n",
    "from sklearn.neighbors import KNeighborsRegressor\n",
    "from sklearn.metrics import r2_score, mean_squared_error\n",
    "\n",
    "lr0 = LinearRegression()\n",
    "dt0 = DecisionTreeRegressor(random_state=1)\n",
    "rf0 = RandomForestRegressor(random_state=1)\n",
    "knn0 = KNeighborsRegressor()\n",
    "\n",
    "print(\"R2 score and RMSE for dropping missing target variable:\\n\")\n",
    "models = [lr0, dt0, rf0, knn0]\n",
    "i = 1\n",
    "for mod in models: \n",
    "    mod.fit(X_train_drop, y_train_drop)\n",
    "    y_pred_drop = mod.predict(X_test_drop)\n",
    "    acc = r2_score(y_test_drop, y_pred_drop)\n",
    "    mse = mean_squared_error(y_test_drop, y_pred_drop)\n",
    "    print(f\"{i}.\")\n",
    "    print(f\"R2 score for: {acc}\")\n",
    "    print(f\"RMSE score for: {np.sqrt(mse)}\")\n",
    "    print(\"*************************************\")\n",
    "    i+=1"
   ]
  },
  {
   "cell_type": "code",
   "execution_count": 20,
   "id": "3e715815",
   "metadata": {
    "ExecuteTime": {
     "end_time": "2022-05-04T05:21:02.317133Z",
     "start_time": "2022-05-04T05:21:02.092029Z"
    }
   },
   "outputs": [
    {
     "name": "stdout",
     "output_type": "stream",
     "text": [
      "R2 score and RMSE for filling missing target variable with mean:\n",
      "\n",
      "1.\n",
      "R2 score for: 0.3357094056582005\n",
      "RMSE score for: 382.1862368789356\n",
      "*************************************\n",
      "2.\n",
      "R2 score for: 0.33665125647059657\n",
      "RMSE score for: 381.91520331122825\n",
      "*************************************\n",
      "3.\n",
      "R2 score for: 0.47488145545060967\n",
      "RMSE score for: 339.8010132419491\n",
      "*************************************\n",
      "4.\n",
      "R2 score for: 0.2533325967784563\n",
      "RMSE score for: 405.1908109514366\n",
      "*************************************\n"
     ]
    }
   ],
   "source": [
    "# base model - imputing missing target variables as mean\n",
    "lr1 = LinearRegression()\n",
    "dt1 = DecisionTreeRegressor(random_state=1)\n",
    "rf1 = RandomForestRegressor(random_state=1)\n",
    "knn1 = KNeighborsRegressor()\n",
    "\n",
    "print(\"R2 score and RMSE for filling missing target variable with mean:\\n\")\n",
    "models = [lr1, dt1, rf1, knn1]\n",
    "i = 1\n",
    "for mod in models: \n",
    "    mod.fit(X_train_mean, y_train_mean)\n",
    "    y_pred_mean = mod.predict(X_test_mean)\n",
    "    acc = r2_score(y_test_mean, y_pred_mean)\n",
    "    mse = mean_squared_error(y_test_mean, y_pred_mean)\n",
    "    print(f\"{i}.\")\n",
    "    print(f\"R2 score for: {acc}\")\n",
    "    print(f\"RMSE score for: {np.sqrt(mse)}\")\n",
    "    print(\"*************************************\")\n",
    "    i+=1"
   ]
  },
  {
   "cell_type": "code",
   "execution_count": 21,
   "id": "9edae5d5",
   "metadata": {
    "ExecuteTime": {
     "end_time": "2022-05-04T05:21:02.555290Z",
     "start_time": "2022-05-04T05:21:02.319264Z"
    }
   },
   "outputs": [
    {
     "name": "stdout",
     "output_type": "stream",
     "text": [
      "R2 score and RMSE for filling missing target variable with median:\n",
      "\n",
      "1.\n",
      "R2 score for: 0.3357094056582005\n",
      "RMSE score for: 382.1862368789356\n",
      "*************************************\n",
      "2.\n",
      "R2 score for: 0.33665125647059657\n",
      "RMSE score for: 381.91520331122825\n",
      "*************************************\n",
      "3.\n",
      "R2 score for: 0.47488145545060967\n",
      "RMSE score for: 339.8010132419491\n",
      "*************************************\n",
      "4.\n",
      "R2 score for: 0.2533325967784563\n",
      "RMSE score for: 405.1908109514366\n",
      "*************************************\n"
     ]
    }
   ],
   "source": [
    "# base model - imputing missing target variables as mean\n",
    "lr2 = LinearRegression()\n",
    "dt2 = DecisionTreeRegressor(random_state=1)\n",
    "rf2 = RandomForestRegressor(random_state=1)\n",
    "knn2 = KNeighborsRegressor()\n",
    "\n",
    "print(\"R2 score and RMSE for filling missing target variable with median:\\n\")\n",
    "models = [lr2, dt2, rf2, knn2]\n",
    "i = 1\n",
    "for mod in models: \n",
    "    mod.fit(X_train_mean, y_train_med)\n",
    "    y_pred_med = mod.predict(X_test_med)\n",
    "    acc = r2_score(y_test_med, y_pred_med)\n",
    "    mse = mean_squared_error(y_test_med, y_pred_med)\n",
    "    print(f\"{i}.\")\n",
    "    print(f\"R2 score for: {acc}\")\n",
    "    print(f\"RMSE score for: {np.sqrt(mse)}\")\n",
    "    print(\"*************************************\")\n",
    "    i+=1"
   ]
  },
  {
   "cell_type": "code",
   "execution_count": 22,
   "id": "8e340c75",
   "metadata": {
    "ExecuteTime": {
     "end_time": "2022-05-04T05:21:29.942742Z",
     "start_time": "2022-05-04T05:21:02.558378Z"
    }
   },
   "outputs": [
    {
     "name": "stdout",
     "output_type": "stream",
     "text": [
      "Best score: 0.572512360682811\n",
      "Best Hyperparameters: {'max_depth': 18, 'max_features': 3, 'min_samples_leaf': 3, 'min_samples_split': 14, 'n_estimators': 16}\n"
     ]
    }
   ],
   "source": [
    "# Random search hyperparameter tuning\n",
    "from sklearn.utils.fixes import loguniform\n",
    "from sklearn.model_selection import RepeatedStratifiedKFold\n",
    "from sklearn.model_selection import RandomizedSearchCV\n",
    "from sklearn.model_selection import GridSearchCV\n",
    "from scipy.stats import randint as sp_randint\n",
    "from scipy.stats import expon as sp_expon\n",
    "\n",
    "rf3 = RandomForestRegressor(random_state=1)\n",
    "space1 = dict()\n",
    "space1['n_estimators'] = sp_randint(2,20)\n",
    "space1['max_depth'] = sp_randint(2,20)\n",
    "space1['max_features'] = sp_randint(2,15)\n",
    "space1['min_samples_split'] = sp_randint(5,50)\n",
    "space1['min_samples_leaf'] = sp_randint(3,50)\n",
    "\n",
    "# RandomSearchCV for best params\n",
    "search1 = RandomizedSearchCV(rf3, space1, n_iter=4000, scoring='r2', n_jobs=-1, cv=5, random_state=1)\n",
    "result1 = search1.fit(X_drop, y_drop)\n",
    "print(f'Best score: {result1.best_score_}')\n",
    "print(f'Best Hyperparameters: {result1.best_params_}')"
   ]
  },
  {
   "cell_type": "code",
   "execution_count": 23,
   "id": "8139f927",
   "metadata": {
    "ExecuteTime": {
     "end_time": "2022-05-04T05:21:29.953952Z",
     "start_time": "2022-05-04T05:21:29.943474Z"
    }
   },
   "outputs": [
    {
     "name": "stdout",
     "output_type": "stream",
     "text": [
      "R2 score for Random Forest (with tuning): 0.5835569864485056\n",
      "RMSE score for Random Forest (with tuning): 288.33644780649706\n"
     ]
    }
   ],
   "source": [
    "# Rebuild model using above hyperparameter\n",
    "# Random forest and drop missing values\n",
    "rf4 = RandomForestRegressor(random_state=1, max_depth=18, max_features=3,\n",
    "                           min_samples_leaf=3, min_samples_split=14, n_estimators=16)\n",
    "\n",
    "\n",
    "rf4.fit(X_train_drop, y_train_drop)\n",
    "y_pred_rf4 = rf4.predict(X_test_drop)\n",
    "acc = r2_score(y_test_drop, y_pred_rf4)\n",
    "mse = mean_squared_error(y_test_drop, y_pred_rf4)\n",
    "print(f\"R2 score for Random Forest (with tuning): {acc}\")\n",
    "print(f\"RMSE score for Random Forest (with tuning): {np.sqrt(mse)}\")"
   ]
  },
  {
   "cell_type": "code",
   "execution_count": 24,
   "id": "008fc486",
   "metadata": {
    "ExecuteTime": {
     "end_time": "2022-05-04T05:21:30.007105Z",
     "start_time": "2022-05-04T05:21:29.954642Z"
    }
   },
   "outputs": [
    {
     "name": "stdout",
     "output_type": "stream",
     "text": [
      "The R2 score for each fold is:  [0.6684231015048672, 0.5786901398491632, 0.6022034958928997, 0.3758291211073914, 0.6505045715501125]\n",
      "The RSME for each fold is:  [190.2071118369091, 357.1689911192022, 299.2826428315136, 354.1771944911488, 226.72035150497257]\n",
      "*********************************************\n",
      "Overall R2 score: 0.5751300859808868\n",
      "Overall RMSE score: 285.51125835674924\n"
     ]
    }
   ],
   "source": [
    "from sklearn.model_selection import KFold\n",
    "kf = KFold(n_splits=5)\n",
    "rf5 = RandomForestRegressor(random_state=1, max_depth=18, max_features=3,\n",
    "                           min_samples_leaf=3, min_samples_split=14, n_estimators=16)\n",
    "k_fold_r2 = []\n",
    "k_fold_rmse = []\n",
    "\n",
    "X_drop_normmm = pd.DataFrame(X_drop_normmm)\n",
    "\n",
    "for train_index, test_index in kf.split(X_drop_normmm):\n",
    "    X_train, X_test = X_drop_normmm.iloc[train_index], X_drop_normmm.iloc[test_index]\n",
    "    y_train, y_test = y_drop.iloc[train_index], y_drop.iloc[test_index]\n",
    "    \n",
    "    mod = rf5.fit(X_train, y_train)\n",
    "    y_pred = mod.predict(X_test)\n",
    "    \n",
    "    R2 = r2_score(y_test, y_pred)\n",
    "    RSME = mean_squared_error(y_test, y_pred, squared=False)\n",
    "    k_fold_r2.append(R2)\n",
    "    k_fold_rmse.append(RSME)\n",
    "\n",
    "print(\"The R2 score for each fold is: \", k_fold_r2)\n",
    "print(\"The RSME for each fold is: \", k_fold_rmse)\n",
    "print(\"*********************************************\")\n",
    "print(f\"Overall R2 score: {np.mean(k_fold_r2)}\")\n",
    "print(f\"Overall RMSE score: {np.mean(k_fold_rmse)}\")"
   ]
  },
  {
   "cell_type": "code",
   "execution_count": 25,
   "id": "b5365896",
   "metadata": {
    "ExecuteTime": {
     "end_time": "2022-05-04T05:21:30.015024Z",
     "start_time": "2022-05-04T05:21:30.007979Z"
    }
   },
   "outputs": [
    {
     "data": {
      "text/plain": [
       "League       0.002905\n",
       "NewLeague    0.002935\n",
       "Division     0.004234\n",
       "Errors       0.014353\n",
       "Assists      0.017547\n",
       "Years        0.018719\n",
       "CWalks       0.028465\n",
       "CRuns        0.028625\n",
       "PutOuts      0.033099\n",
       "Runs         0.036966\n",
       "HmRun        0.041257\n",
       "CRBI         0.045799\n",
       "AtBat        0.054818\n",
       "Hits         0.055484\n",
       "RBI          0.067656\n",
       "Walks        0.073987\n",
       "CAtBat       0.094205\n",
       "CHmRun       0.102853\n",
       "CHits        0.276092\n",
       "dtype: float64"
      ]
     },
     "execution_count": 25,
     "metadata": {},
     "output_type": "execute_result"
    }
   ],
   "source": [
    "feature_importance = pd.Series(rf2.feature_importances_, index=header).sort_values(ascending=True)\n",
    "feature_importance"
   ]
  },
  {
   "cell_type": "code",
   "execution_count": 26,
   "id": "cb598f62",
   "metadata": {
    "ExecuteTime": {
     "end_time": "2022-05-04T05:21:30.126007Z",
     "start_time": "2022-05-04T05:21:30.015992Z"
    }
   },
   "outputs": [
    {
     "data": {
      "text/plain": [
       "Text(0.5, 1.0, 'Visualizing Important Features')"
      ]
     },
     "execution_count": 26,
     "metadata": {},
     "output_type": "execute_result"
    },
    {
     "data": {
      "image/png": "[encoded data removed]",
      "text/plain": [
       "<Figure size 432x288 with 1 Axes>"
      ]
     },
     "metadata": {
      "needs_background": "light"
     },
     "output_type": "display_data"
    }
   ],
   "source": [
    "# Creating a bar plot\n",
    "fig = sns.barplot(x=feature_importance, y=feature_importance.index)\n",
    "# Add labels to your graph\n",
    "fig.set_xlabel('Feature Importance Score')\n",
    "fig.set_ylabel('Features')\n",
    "fig.set_title(\"Visualizing Important Features\")"
   ]
  },
  {
   "cell_type": "code",
   "execution_count": 27,
   "id": "0c7109f1",
   "metadata": {
    "ExecuteTime": {
     "end_time": "2022-05-04T05:21:30.428162Z",
     "start_time": "2022-05-04T05:21:30.128370Z"
    }
   },
   "outputs": [
    {
     "data": {
      "application/vnd.plotly.v1+json": {
       "config": {
        "plotlyServerURL": "https://plot.ly"
       },
       "data": [
        {
         "coloraxis": "coloraxis",
         "hovertemplate": "x: %{x}<br>y: %{y}<br>color: %{z}<extra></extra>",
         "name": "0",
         "texttemplate": "%{z}",
         "type": "heatmap",
         "x": [
          "AtBat",
          "Hits",
          "HmRun",
          "Runs",
          "RBI",
          "Walks",
          "Years",
          "CAtBat",
          "CHits",
          "CHmRun",
          "CRuns",
          "CRBI",
          "CWalks",
          "League",
          "Division",
          "PutOuts",
          "Assists",
          "Errors",
          "NewLeague"
         ],
         "xaxis": "x",
         "y": [
          "AtBat",
          "Hits",
          "HmRun",
          "Runs",
          "RBI",
          "Walks",
          "Years",
          "CAtBat",
          "CHits",
          "CHmRun",
          "CRuns",
          "CRBI",
          "CWalks",
          "League",
          "Division",
          "PutOuts",
          "Assists",
          "Errors",
          "NewLeague"
         ],
         "yaxis": "y",
         "z": [
          [
           1,
           0.96,
           0.56,
           0.9,
           0.8,
           0.62,
           0.01,
           0.21,
           0.23,
           0.21,
           0.24,
           0.22,
           0.13,
           -0.15,
           -0.06,
           0.31,
           0.34,
           0.33,
           -0.09
          ],
          [
           0.96,
           1,
           0.53,
           0.91,
           0.79,
           0.59,
           0.02,
           0.21,
           0.24,
           0.19,
           0.24,
           0.22,
           0.12,
           -0.15,
           -0.08,
           0.3,
           0.3,
           0.28,
           -0.09
          ],
          [
           0.56,
           0.53,
           1,
           0.63,
           0.85,
           0.44,
           0.11,
           0.22,
           0.22,
           0.49,
           0.26,
           0.35,
           0.23,
           -0.22,
           -0.03,
           0.25,
           -0.16,
           -0.01,
           -0.2
          ],
          [
           0.9,
           0.91,
           0.63,
           1,
           0.78,
           0.7,
           -0.01,
           0.17,
           0.19,
           0.23,
           0.24,
           0.2,
           0.16,
           -0.21,
           -0.11,
           0.27,
           0.18,
           0.19,
           -0.15
          ],
          [
           0.8,
           0.79,
           0.85,
           0.78,
           1,
           0.57,
           0.13,
           0.28,
           0.29,
           0.44,
           0.31,
           0.39,
           0.23,
           -0.19,
           -0.09,
           0.31,
           0.06,
           0.15,
           -0.14
          ],
          [
           0.62,
           0.59,
           0.44,
           0.7,
           0.57,
           1,
           0.13,
           0.27,
           0.27,
           0.35,
           0.33,
           0.31,
           0.43,
           -0.07,
           -0.07,
           0.28,
           0.1,
           0.08,
           -0.03
          ],
          [
           0.01,
           0.02,
           0.11,
           -0.01,
           0.13,
           0.13,
           1,
           0.92,
           0.9,
           0.72,
           0.88,
           0.86,
           0.84,
           -0.03,
           -0.02,
           -0.02,
           -0.09,
           -0.16,
           -0.02
          ],
          [
           0.21,
           0.21,
           0.22,
           0.17,
           0.28,
           0.27,
           0.92,
           1,
           1,
           0.8,
           0.98,
           0.95,
           0.91,
           -0.02,
           -0.02,
           0.05,
           -0.01,
           -0.07,
           0
          ],
          [
           0.23,
           0.24,
           0.22,
           0.19,
           0.29,
           0.27,
           0.9,
           1,
           1,
           0.79,
           0.98,
           0.95,
           0.89,
           -0.02,
           -0.02,
           0.07,
           -0.01,
           -0.07,
           0
          ],
          [
           0.21,
           0.19,
           0.49,
           0.23,
           0.44,
           0.35,
           0.72,
           0.8,
           0.79,
           1,
           0.83,
           0.93,
           0.81,
           -0.11,
           -0.03,
           0.09,
           -0.19,
           -0.17,
           -0.1
          ],
          [
           0.24,
           0.24,
           0.26,
           0.24,
           0.31,
           0.33,
           0.88,
           0.98,
           0.98,
           0.83,
           1,
           0.95,
           0.93,
           -0.05,
           -0.05,
           0.06,
           -0.04,
           -0.09,
           -0.03
          ],
          [
           0.22,
           0.22,
           0.35,
           0.2,
           0.39,
           0.31,
           0.86,
           0.95,
           0.95,
           0.93,
           0.95,
           1,
           0.89,
           -0.05,
           -0.02,
           0.1,
           -0.1,
           -0.12,
           -0.04
          ],
          [
           0.13,
           0.12,
           0.23,
           0.16,
           0.23,
           0.43,
           0.84,
           0.91,
           0.89,
           0.81,
           0.93,
           0.89,
           1,
           -0.03,
           -0.05,
           0.06,
           -0.07,
           -0.13,
           -0.03
          ],
          [
           -0.15,
           -0.15,
           -0.22,
           -0.21,
           -0.19,
           -0.07,
           -0.03,
           -0.02,
           -0.02,
           -0.11,
           -0.05,
           -0.05,
           -0.03,
           1,
           0,
           0.04,
           0.05,
           0.09,
           0.86
          ],
          [
           -0.06,
           -0.08,
           -0.03,
           -0.11,
           -0.09,
           -0.07,
           -0.02,
           -0.02,
           -0.02,
           -0.03,
           -0.05,
           -0.02,
           -0.05,
           0,
           1,
           -0.03,
           -0.02,
           0,
           0
          ],
          [
           0.31,
           0.3,
           0.25,
           0.27,
           0.31,
           0.28,
           -0.02,
           0.05,
           0.07,
           0.09,
           0.06,
           0.1,
           0.06,
           0.04,
           -0.03,
           1,
           -0.04,
           0.08,
           0.06
          ],
          [
           0.34,
           0.3,
           -0.16,
           0.18,
           0.06,
           0.1,
           -0.09,
           -0.01,
           -0.01,
           -0.19,
           -0.04,
           -0.1,
           -0.07,
           0.05,
           -0.02,
           -0.04,
           1,
           0.7,
           0.04
          ],
          [
           0.33,
           0.28,
           -0.01,
           0.19,
           0.15,
           0.08,
           -0.16,
           -0.07,
           -0.07,
           -0.17,
           -0.09,
           -0.12,
           -0.13,
           0.09,
           0,
           0.08,
           0.7,
           1,
           0.06
          ],
          [
           -0.09,
           -0.09,
           -0.2,
           -0.15,
           -0.14,
           -0.03,
           -0.02,
           0,
           0,
           -0.1,
           -0.03,
           -0.04,
           -0.03,
           0.86,
           0,
           0.06,
           0.04,
           0.06,
           1
          ]
         ]
        }
       ],
       "layout": {
        "coloraxis": {
         "colorscale": [
          [
           0,
           "#0d0887"
          ],
          [
           0.1111111111111111,
           "#46039f"
          ],
          [
           0.2222222222222222,
           "#7201a8"
          ],
          [
           0.3333333333333333,
           "#9c179e"
          ],
          [
           0.4444444444444444,
           "#bd3786"
          ],
          [
           0.5555555555555556,
           "#d8576b"
          ],
          [
           0.6666666666666666,
           "#ed7953"
          ],
          [
           0.7777777777777778,
           "#fb9f3a"
          ],
          [
           0.8888888888888888,
           "#fdca26"
          ],
          [
           1,
           "#f0f921"
          ]
         ]
        },
        "margin": {
         "t": 60
        },
        "template": {
         "data": {
          "bar": [
           {
            "error_x": {
             "color": "#2a3f5f"
            },
            "error_y": {
             "color": "#2a3f5f"
            },
            "marker": {
             "line": {
              "color": "#E5ECF6",
              "width": 0.5
             },
             "pattern": {
              "fillmode": "overlay",
              "size": 10,
              "solidity": 0.2
             }
            },
            "type": "bar"
           }
          ],
          "barpolar": [
           {
            "marker": {
             "line": {
              "color": "#E5ECF6",
              "width": 0.5
             },
             "pattern": {
              "fillmode": "overlay",
              "size": 10,
              "solidity": 0.2
             }
            },
            "type": "barpolar"
           }
          ],
          "carpet": [
           {
            "aaxis": {
             "endlinecolor": "#2a3f5f",
             "gridcolor": "white",
             "linecolor": "white",
             "minorgridcolor": "white",
             "startlinecolor": "#2a3f5f"
            },
            "baxis": {
             "endlinecolor": "#2a3f5f",
             "gridcolor": "white",
             "linecolor": "white",
             "minorgridcolor": "white",
             "startlinecolor": "#2a3f5f"
            },
            "type": "carpet"
           }
          ],
          "choropleth": [
           {
            "colorbar": {
             "outlinewidth": 0,
             "ticks": ""
            },
            "type": "choropleth"
           }
          ],
          "contour": [
           {
            "colorbar": {
             "outlinewidth": 0,
             "ticks": ""
            },
            "colorscale": [
             [
              0,
              "#0d0887"
             ],
             [
              0.1111111111111111,
              "#46039f"
             ],
             [
              0.2222222222222222,
              "#7201a8"
             ],
             [
              0.3333333333333333,
              "#9c179e"
             ],
             [
              0.4444444444444444,
              "#bd3786"
             ],
             [
              0.5555555555555556,
              "#d8576b"
             ],
             [
              0.6666666666666666,
              "#ed7953"
             ],
             [
              0.7777777777777778,
              "#fb9f3a"
             ],
             [
              0.8888888888888888,
              "#fdca26"
             ],
             [
              1,
              "#f0f921"
             ]
            ],
            "type": "contour"
           }
          ],
          "contourcarpet": [
           {
            "colorbar": {
             "outlinewidth": 0,
             "ticks": ""
            },
            "type": "contourcarpet"
           }
          ],
          "heatmap": [
           {
            "colorbar": {
             "outlinewidth": 0,
             "ticks": ""
            },
            "colorscale": [
             [
              0,
              "#0d0887"
             ],
             [
              0.1111111111111111,
              "#46039f"
             ],
             [
              0.2222222222222222,
              "#7201a8"
             ],
             [
              0.3333333333333333,
              "#9c179e"
             ],
             [
              0.4444444444444444,
              "#bd3786"
             ],
             [
              0.5555555555555556,
              "#d8576b"
             ],
             [
              0.6666666666666666,
              "#ed7953"
             ],
             [
              0.7777777777777778,
              "#fb9f3a"
             ],
             [
              0.8888888888888888,
              "#fdca26"
             ],
             [
              1,
              "#f0f921"
             ]
            ],
            "type": "heatmap"
           }
          ],
          "heatmapgl": [
           {
            "colorbar": {
             "outlinewidth": 0,
             "ticks": ""
            },
            "colorscale": [
             [
              0,
              "#0d0887"
             ],
             [
              0.1111111111111111,
              "#46039f"
             ],
             [
              0.2222222222222222,
              "#7201a8"
             ],
             [
              0.3333333333333333,
              "#9c179e"
             ],
             [
              0.4444444444444444,
              "#bd3786"
             ],
             [
              0.5555555555555556,
              "#d8576b"
             ],
             [
              0.6666666666666666,
              "#ed7953"
             ],
             [
              0.7777777777777778,
              "#fb9f3a"
             ],
             [
              0.8888888888888888,
              "#fdca26"
             ],
             [
              1,
              "#f0f921"
             ]
            ],
            "type": "heatmapgl"
           }
          ],
          "histogram": [
           {
            "marker": {
             "pattern": {
              "fillmode": "overlay",
              "size": 10,
              "solidity": 0.2
             }
            },
            "type": "histogram"
           }
          ],
          "histogram2d": [
           {
            "colorbar": {
             "outlinewidth": 0,
             "ticks": ""
            },
            "colorscale": [
             [
              0,
              "#0d0887"
             ],
             [
              0.1111111111111111,
              "#46039f"
             ],
             [
              0.2222222222222222,
              "#7201a8"
             ],
             [
              0.3333333333333333,
              "#9c179e"
             ],
             [
              0.4444444444444444,
              "#bd3786"
             ],
             [
              0.5555555555555556,
              "#d8576b"
             ],
             [
              0.6666666666666666,
              "#ed7953"
             ],
             [
              0.7777777777777778,
              "#fb9f3a"
             ],
             [
              0.8888888888888888,
              "#fdca26"
             ],
             [
              1,
              "#f0f921"
             ]
            ],
            "type": "histogram2d"
           }
          ],
          "histogram2dcontour": [
           {
            "colorbar": {
             "outlinewidth": 0,
             "ticks": ""
            },
            "colorscale": [
             [
              0,
              "#0d0887"
             ],
             [
              0.1111111111111111,
              "#46039f"
             ],
             [
              0.2222222222222222,
              "#7201a8"
             ],
             [
              0.3333333333333333,
              "#9c179e"
             ],
             [
              0.4444444444444444,
              "#bd3786"
             ],
             [
              0.5555555555555556,
              "#d8576b"
             ],
             [
              0.6666666666666666,
              "#ed7953"
             ],
             [
              0.7777777777777778,
              "#fb9f3a"
             ],
             [
              0.8888888888888888,
              "#fdca26"
             ],
             [
              1,
              "#f0f921"
             ]
            ],
            "type": "histogram2dcontour"
           }
          ],
          "mesh3d": [
           {
            "colorbar": {
             "outlinewidth": 0,
             "ticks": ""
            },
            "type": "mesh3d"
           }
          ],
          "parcoords": [
           {
            "line": {
             "colorbar": {
              "outlinewidth": 0,
              "ticks": ""
             }
            },
            "type": "parcoords"
           }
          ],
          "pie": [
           {
            "automargin": true,
            "type": "pie"
           }
          ],
          "scatter": [
           {
            "fillpattern": {
             "fillmode": "overlay",
             "size": 10,
             "solidity": 0.2
            },
            "type": "scatter"
           }
          ],
          "scatter3d": [
           {
            "line": {
             "colorbar": {
              "outlinewidth": 0,
              "ticks": ""
             }
            },
            "marker": {
             "colorbar": {
              "outlinewidth": 0,
              "ticks": ""
             }
            },
            "type": "scatter3d"
           }
          ],
          "scattercarpet": [
           {
            "marker": {
             "colorbar": {
              "outlinewidth": 0,
              "ticks": ""
             }
            },
            "type": "scattercarpet"
           }
          ],
          "scattergeo": [
           {
            "marker": {
             "colorbar": {
              "outlinewidth": 0,
              "ticks": ""
             }
            },
            "type": "scattergeo"
           }
          ],
          "scattergl": [
           {
            "marker": {
             "colorbar": {
              "outlinewidth": 0,
              "ticks": ""
             }
            },
            "type": "scattergl"
           }
          ],
          "scattermapbox": [
           {
            "marker": {
             "colorbar": {
              "outlinewidth": 0,
              "ticks": ""
             }
            },
            "type": "scattermapbox"
           }
          ],
          "scatterpolar": [
           {
            "marker": {
             "colorbar": {
              "outlinewidth": 0,
              "ticks": ""
             }
            },
            "type": "scatterpolar"
           }
          ],
          "scatterpolargl": [
           {
            "marker": {
             "colorbar": {
              "outlinewidth": 0,
              "ticks": ""
             }
            },
            "type": "scatterpolargl"
           }
          ],
          "scatterternary": [
           {
            "marker": {
             "colorbar": {
              "outlinewidth": 0,
              "ticks": ""
             }
            },
            "type": "scatterternary"
           }
          ],
          "surface": [
           {
            "colorbar": {
             "outlinewidth": 0,
             "ticks": ""
            },
            "colorscale": [
             [
              0,
              "#0d0887"
             ],
             [
              0.1111111111111111,
              "#46039f"
             ],
             [
              0.2222222222222222,
              "#7201a8"
             ],
             [
              0.3333333333333333,
              "#9c179e"
             ],
             [
              0.4444444444444444,
              "#bd3786"
             ],
             [
              0.5555555555555556,
              "#d8576b"
             ],
             [
              0.6666666666666666,
              "#ed7953"
             ],
             [
              0.7777777777777778,
              "#fb9f3a"
             ],
             [
              0.8888888888888888,
              "#fdca26"
             ],
             [
              1,
              "#f0f921"
             ]
            ],
            "type": "surface"
           }
          ],
          "table": [
           {
            "cells": {
             "fill": {
              "color": "#EBF0F8"
             },
             "line": {
              "color": "white"
             }
            },
            "header": {
             "fill": {
              "color": "#C8D4E3"
             },
             "line": {
              "color": "white"
             }
            },
            "type": "table"
           }
          ]
         },
         "layout": {
          "annotationdefaults": {
           "arrowcolor": "#2a3f5f",
           "arrowhead": 0,
           "arrowwidth": 1
          },
          "autotypenumbers": "strict",
          "coloraxis": {
           "colorbar": {
            "outlinewidth": 0,
            "ticks": ""
           }
          },
          "colorscale": {
           "diverging": [
            [
             0,
             "#8e0152"
            ],
            [
             0.1,
             "#c51b7d"
            ],
            [
             0.2,
             "#de77ae"
            ],
            [
             0.3,
             "#f1b6da"
            ],
            [
             0.4,
             "#fde0ef"
            ],
            [
             0.5,
             "#f7f7f7"
            ],
            [
             0.6,
             "#e6f5d0"
            ],
            [
             0.7,
             "#b8e186"
            ],
            [
             0.8,
             "#7fbc41"
            ],
            [
             0.9,
             "#4d9221"
            ],
            [
             1,
             "#276419"
            ]
           ],
           "sequential": [
            [
             0,
             "#0d0887"
            ],
            [
             0.1111111111111111,
             "#46039f"
            ],
            [
             0.2222222222222222,
             "#7201a8"
            ],
            [
             0.3333333333333333,
             "#9c179e"
            ],
            [
             0.4444444444444444,
             "#bd3786"
            ],
            [
             0.5555555555555556,
             "#d8576b"
            ],
            [
             0.6666666666666666,
             "#ed7953"
            ],
            [
             0.7777777777777778,
             "#fb9f3a"
            ],
            [
             0.8888888888888888,
             "#fdca26"
            ],
            [
             1,
             "#f0f921"
            ]
           ],
           "sequentialminus": [
            [
             0,
             "#0d0887"
            ],
            [
             0.1111111111111111,
             "#46039f"
            ],
            [
             0.2222222222222222,
             "#7201a8"
            ],
            [
             0.3333333333333333,
             "#9c179e"
            ],
            [
             0.4444444444444444,
             "#bd3786"
            ],
            [
             0.5555555555555556,
             "#d8576b"
            ],
            [
             0.6666666666666666,
             "#ed7953"
            ],
            [
             0.7777777777777778,
             "#fb9f3a"
            ],
            [
             0.8888888888888888,
             "#fdca26"
            ],
            [
             1,
             "#f0f921"
            ]
           ]
          },
          "colorway": [
           "#636efa",
           "#EF553B",
           "#00cc96",
           "#ab63fa",
           "#FFA15A",
           "#19d3f3",
           "#FF6692",
           "#B6E880",
           "#FF97FF",
           "#FECB52"
          ],
          "font": {
           "color": "#2a3f5f"
          },
          "geo": {
           "bgcolor": "white",
           "lakecolor": "white",
           "landcolor": "#E5ECF6",
           "showlakes": true,
           "showland": true,
           "subunitcolor": "white"
          },
          "hoverlabel": {
           "align": "left"
          },
          "hovermode": "closest",
          "mapbox": {
           "style": "light"
          },
          "paper_bgcolor": "white",
          "plot_bgcolor": "#E5ECF6",
          "polar": {
           "angularaxis": {
            "gridcolor": "white",
            "linecolor": "white",
            "ticks": ""
           },
           "bgcolor": "#E5ECF6",
           "radialaxis": {
            "gridcolor": "white",
            "linecolor": "white",
            "ticks": ""
           }
          },
          "scene": {
           "xaxis": {
            "backgroundcolor": "#E5ECF6",
            "gridcolor": "white",
            "gridwidth": 2,
            "linecolor": "white",
            "showbackground": true,
            "ticks": "",
            "zerolinecolor": "white"
           },
           "yaxis": {
            "backgroundcolor": "#E5ECF6",
            "gridcolor": "white",
            "gridwidth": 2,
            "linecolor": "white",
            "showbackground": true,
            "ticks": "",
            "zerolinecolor": "white"
           },
           "zaxis": {
            "backgroundcolor": "#E5ECF6",
            "gridcolor": "white",
            "gridwidth": 2,
            "linecolor": "white",
            "showbackground": true,
            "ticks": "",
            "zerolinecolor": "white"
           }
          },
          "shapedefaults": {
           "line": {
            "color": "#2a3f5f"
           }
          },
          "ternary": {
           "aaxis": {
            "gridcolor": "white",
            "linecolor": "white",
            "ticks": ""
           },
           "baxis": {
            "gridcolor": "white",
            "linecolor": "white",
            "ticks": ""
           },
           "bgcolor": "#E5ECF6",
           "caxis": {
            "gridcolor": "white",
            "linecolor": "white",
            "ticks": ""
           }
          },
          "title": {
           "x": 0.05
          },
          "xaxis": {
           "automargin": true,
           "gridcolor": "white",
           "linecolor": "white",
           "ticks": "",
           "title": {
            "standoff": 15
           },
           "zerolinecolor": "white",
           "zerolinewidth": 2
          },
          "yaxis": {
           "automargin": true,
           "gridcolor": "white",
           "linecolor": "white",
           "ticks": "",
           "title": {
            "standoff": 15
           },
           "zerolinecolor": "white",
           "zerolinewidth": 2
          }
         }
        },
        "xaxis": {
         "anchor": "y",
         "constrain": "domain",
         "domain": [
          0,
          1
         ],
         "scaleanchor": "y"
        },
        "yaxis": {
         "anchor": "x",
         "autorange": "reversed",
         "constrain": "domain",
         "domain": [
          0,
          1
         ]
        }
       }
      }
     },
     "metadata": {},
     "output_type": "display_data"
    }
   ],
   "source": [
    "fig_corr = px.imshow(X_drop.corr().round(2), text_auto=True)\n",
    "fig_corr.show()"
   ]
  },
  {
   "cell_type": "code",
   "execution_count": 28,
   "id": "16cfdd40",
   "metadata": {
    "ExecuteTime": {
     "end_time": "2022-05-04T05:21:30.435995Z",
     "start_time": "2022-05-04T05:21:30.431689Z"
    }
   },
   "outputs": [
    {
     "data": {
      "text/html": [
       "<div>\n",
       "<style scoped>\n",
       "    .dataframe tbody tr th:only-of-type {\n",
       "        vertical-align: middle;\n",
       "    }\n",
       "\n",
       "    .dataframe tbody tr th {\n",
       "        vertical-align: top;\n",
       "    }\n",
       "\n",
       "    .dataframe thead th {\n",
       "        text-align: right;\n",
       "    }\n",
       "</style>\n",
       "<table border=\"1\" class=\"dataframe\">\n",
       "  <thead>\n",
       "    <tr style=\"text-align: right;\">\n",
       "      <th></th>\n",
       "      <th>CRuns</th>\n",
       "      <th>CHits</th>\n",
       "      <th>CHmRun</th>\n",
       "      <th>Runs</th>\n",
       "      <th>Hits</th>\n",
       "      <th>CRBI</th>\n",
       "      <th>PutOuts</th>\n",
       "      <th>RBI</th>\n",
       "      <th>CAtBat</th>\n",
       "    </tr>\n",
       "  </thead>\n",
       "  <tbody>\n",
       "    <tr>\n",
       "      <th>1</th>\n",
       "      <td>321</td>\n",
       "      <td>835</td>\n",
       "      <td>69</td>\n",
       "      <td>24</td>\n",
       "      <td>81</td>\n",
       "      <td>414</td>\n",
       "      <td>632</td>\n",
       "      <td>38</td>\n",
       "      <td>3449</td>\n",
       "    </tr>\n",
       "    <tr>\n",
       "      <th>2</th>\n",
       "      <td>224</td>\n",
       "      <td>457</td>\n",
       "      <td>63</td>\n",
       "      <td>66</td>\n",
       "      <td>130</td>\n",
       "      <td>266</td>\n",
       "      <td>880</td>\n",
       "      <td>72</td>\n",
       "      <td>1624</td>\n",
       "    </tr>\n",
       "    <tr>\n",
       "      <th>3</th>\n",
       "      <td>828</td>\n",
       "      <td>1575</td>\n",
       "      <td>225</td>\n",
       "      <td>65</td>\n",
       "      <td>141</td>\n",
       "      <td>838</td>\n",
       "      <td>200</td>\n",
       "      <td>78</td>\n",
       "      <td>5628</td>\n",
       "    </tr>\n",
       "    <tr>\n",
       "      <th>4</th>\n",
       "      <td>48</td>\n",
       "      <td>101</td>\n",
       "      <td>12</td>\n",
       "      <td>39</td>\n",
       "      <td>87</td>\n",
       "      <td>46</td>\n",
       "      <td>805</td>\n",
       "      <td>42</td>\n",
       "      <td>396</td>\n",
       "    </tr>\n",
       "    <tr>\n",
       "      <th>5</th>\n",
       "      <td>501</td>\n",
       "      <td>1133</td>\n",
       "      <td>19</td>\n",
       "      <td>74</td>\n",
       "      <td>169</td>\n",
       "      <td>336</td>\n",
       "      <td>282</td>\n",
       "      <td>51</td>\n",
       "      <td>4408</td>\n",
       "    </tr>\n",
       "  </tbody>\n",
       "</table>\n",
       "</div>"
      ],
      "text/plain": [
       "   CRuns  CHits  CHmRun  Runs  Hits  CRBI  PutOuts  RBI  CAtBat\n",
       "1    321    835      69    24    81   414      632   38    3449\n",
       "2    224    457      63    66   130   266      880   72    1624\n",
       "3    828   1575     225    65   141   838      200   78    5628\n",
       "4     48    101      12    39    87    46      805   42     396\n",
       "5    501   1133      19    74   169   336      282   51    4408"
      ]
     },
     "execution_count": 28,
     "metadata": {},
     "output_type": "execute_result"
    }
   ],
   "source": [
    "selected_cols = ['CRuns', 'CHits', 'CHmRun', 'Runs', 'Hits', \n",
    "                'CRBI', 'PutOuts', 'RBI', 'CAtBat']\n",
    "X_drop_2 = X_drop[selected_cols]\n",
    "X_drop_2.head()"
   ]
  },
  {
   "cell_type": "code",
   "execution_count": 29,
   "id": "2373e871",
   "metadata": {
    "ExecuteTime": {
     "end_time": "2022-05-04T05:21:30.449262Z",
     "start_time": "2022-05-04T05:21:30.436702Z"
    }
   },
   "outputs": [
    {
     "data": {
      "text/html": [
       "<div>\n",
       "<style scoped>\n",
       "    .dataframe tbody tr th:only-of-type {\n",
       "        vertical-align: middle;\n",
       "    }\n",
       "\n",
       "    .dataframe tbody tr th {\n",
       "        vertical-align: top;\n",
       "    }\n",
       "\n",
       "    .dataframe thead th {\n",
       "        text-align: right;\n",
       "    }\n",
       "</style>\n",
       "<table border=\"1\" class=\"dataframe\">\n",
       "  <thead>\n",
       "    <tr style=\"text-align: right;\">\n",
       "      <th></th>\n",
       "      <th>0</th>\n",
       "      <th>1</th>\n",
       "      <th>2</th>\n",
       "      <th>3</th>\n",
       "      <th>4</th>\n",
       "      <th>5</th>\n",
       "      <th>6</th>\n",
       "      <th>7</th>\n",
       "      <th>8</th>\n",
       "    </tr>\n",
       "  </thead>\n",
       "  <tbody>\n",
       "    <tr>\n",
       "      <th>count</th>\n",
       "      <td>2.630000e+02</td>\n",
       "      <td>2.630000e+02</td>\n",
       "      <td>2.630000e+02</td>\n",
       "      <td>2.630000e+02</td>\n",
       "      <td>2.630000e+02</td>\n",
       "      <td>2.630000e+02</td>\n",
       "      <td>2.630000e+02</td>\n",
       "      <td>2.630000e+02</td>\n",
       "      <td>2.630000e+02</td>\n",
       "    </tr>\n",
       "    <tr>\n",
       "      <th>mean</th>\n",
       "      <td>3.377104e-17</td>\n",
       "      <td>6.754209e-17</td>\n",
       "      <td>5.403367e-17</td>\n",
       "      <td>-5.065656e-17</td>\n",
       "      <td>5.741077e-17</td>\n",
       "      <td>4.052525e-17</td>\n",
       "      <td>7.429629e-17</td>\n",
       "      <td>1.215758e-16</td>\n",
       "      <td>6.078788e-17</td>\n",
       "    </tr>\n",
       "    <tr>\n",
       "      <th>std</th>\n",
       "      <td>1.001907e+00</td>\n",
       "      <td>1.001907e+00</td>\n",
       "      <td>1.001907e+00</td>\n",
       "      <td>1.001907e+00</td>\n",
       "      <td>1.001907e+00</td>\n",
       "      <td>1.001907e+00</td>\n",
       "      <td>1.001907e+00</td>\n",
       "      <td>1.001907e+00</td>\n",
       "      <td>1.001907e+00</td>\n",
       "    </tr>\n",
       "    <tr>\n",
       "      <th>min</th>\n",
       "      <td>-1.086676e+00</td>\n",
       "      <td>-1.110083e+00</td>\n",
       "      <td>-8.439610e-01</td>\n",
       "      <td>-2.147612e+00</td>\n",
       "      <td>-2.371896e+00</td>\n",
       "      <td>-1.014457e+00</td>\n",
       "      <td>-1.040476e+00</td>\n",
       "      <td>-1.993023e+00</td>\n",
       "      <td>-1.156124e+00</td>\n",
       "    </tr>\n",
       "    <tr>\n",
       "      <th>25%</th>\n",
       "      <td>-7.735785e-01</td>\n",
       "      <td>-7.885827e-01</td>\n",
       "      <td>-6.611260e-01</td>\n",
       "      <td>-8.334341e-01</td>\n",
       "      <td>-8.066016e-01</td>\n",
       "      <td>-7.294084e-01</td>\n",
       "      <td>-6.342514e-01</td>\n",
       "      <td>-8.317388e-01</td>\n",
       "      <td>-7.952934e-01</td>\n",
       "    </tr>\n",
       "    <tr>\n",
       "      <th>50%</th>\n",
       "      <td>-3.364525e-01</td>\n",
       "      <td>-3.186972e-01</td>\n",
       "      <td>-3.564009e-01</td>\n",
       "      <td>-1.076939e-01</td>\n",
       "      <td>-1.072148e-01</td>\n",
       "      <td>-3.111310e-01</td>\n",
       "      <td>-2.387637e-01</td>\n",
       "      <td>-1.736775e-01</td>\n",
       "      <td>-3.183479e-01</td>\n",
       "    </tr>\n",
       "    <tr>\n",
       "      <th>75%</th>\n",
       "      <td>4.122581e-01</td>\n",
       "      <td>5.128764e-01</td>\n",
       "      <td>2.835218e-01</td>\n",
       "      <td>7.161194e-01</td>\n",
       "      <td>7.475913e-01</td>\n",
       "      <td>2.914983e-01</td>\n",
       "      <td>1.137751e-01</td>\n",
       "      <td>7.553501e-01</td>\n",
       "      <td>5.402415e-01</td>\n",
       "    </tr>\n",
       "    <tr>\n",
       "      <th>max</th>\n",
       "      <td>5.456601e+00</td>\n",
       "      <td>5.462131e+00</td>\n",
       "      <td>5.835613e+00</td>\n",
       "      <td>2.952184e+00</td>\n",
       "      <td>2.890157e+00</td>\n",
       "      <td>4.116413e+00</td>\n",
       "      <td>3.887909e+00</td>\n",
       "      <td>2.690824e+00</td>\n",
       "      <td>4.993120e+00</td>\n",
       "    </tr>\n",
       "  </tbody>\n",
       "</table>\n",
       "</div>"
      ],
      "text/plain": [
       "                  0             1             2             3             4  \\\n",
       "count  2.630000e+02  2.630000e+02  2.630000e+02  2.630000e+02  2.630000e+02   \n",
       "mean   3.377104e-17  6.754209e-17  5.403367e-17 -5.065656e-17  5.741077e-17   \n",
       "std    1.001907e+00  1.001907e+00  1.001907e+00  1.001907e+00  1.001907e+00   \n",
       "min   -1.086676e+00 -1.110083e+00 -8.439610e-01 -2.147612e+00 -2.371896e+00   \n",
       "25%   -7.735785e-01 -7.885827e-01 -6.611260e-01 -8.334341e-01 -8.066016e-01   \n",
       "50%   -3.364525e-01 -3.186972e-01 -3.564009e-01 -1.076939e-01 -1.072148e-01   \n",
       "75%    4.122581e-01  5.128764e-01  2.835218e-01  7.161194e-01  7.475913e-01   \n",
       "max    5.456601e+00  5.462131e+00  5.835613e+00  2.952184e+00  2.890157e+00   \n",
       "\n",
       "                  5             6             7             8  \n",
       "count  2.630000e+02  2.630000e+02  2.630000e+02  2.630000e+02  \n",
       "mean   4.052525e-17  7.429629e-17  1.215758e-16  6.078788e-17  \n",
       "std    1.001907e+00  1.001907e+00  1.001907e+00  1.001907e+00  \n",
       "min   -1.014457e+00 -1.040476e+00 -1.993023e+00 -1.156124e+00  \n",
       "25%   -7.294084e-01 -6.342514e-01 -8.317388e-01 -7.952934e-01  \n",
       "50%   -3.111310e-01 -2.387637e-01 -1.736775e-01 -3.183479e-01  \n",
       "75%    2.914983e-01  1.137751e-01  7.553501e-01  5.402415e-01  \n",
       "max    4.116413e+00  3.887909e+00  2.690824e+00  4.993120e+00  "
      ]
     },
     "execution_count": 29,
     "metadata": {},
     "output_type": "execute_result"
    }
   ],
   "source": [
    "X_drop_2_normss = ss.fit_transform(X_drop_2)\n",
    "X_drop_2_normss = pd.DataFrame(X_drop_2_normss)\n",
    "X_drop_2_normss.describe()"
   ]
  },
  {
   "cell_type": "code",
   "execution_count": 30,
   "id": "835e6027",
   "metadata": {
    "ExecuteTime": {
     "end_time": "2022-05-04T05:21:30.452356Z",
     "start_time": "2022-05-04T05:21:30.450043Z"
    }
   },
   "outputs": [
    {
     "name": "stdout",
     "output_type": "stream",
     "text": [
      "(184, 9)\n",
      "(79, 9)\n",
      "(184,)\n",
      "(79,)\n"
     ]
    }
   ],
   "source": [
    "X_train_fs, X_test_fs, y_train_fs, y_test_fs = train_test_split(\n",
    "    X_drop_2_normss, y_drop, test_size=0.3, random_state=1)\n",
    "print(X_train_fs.shape)\n",
    "print(X_test_fs.shape)\n",
    "print(y_train_fs.shape)\n",
    "print(y_test_fs.shape)"
   ]
  },
  {
   "cell_type": "code",
   "execution_count": 31,
   "id": "4f09b394",
   "metadata": {
    "ExecuteTime": {
     "end_time": "2022-05-04T05:21:30.531966Z",
     "start_time": "2022-05-04T05:21:30.453169Z"
    }
   },
   "outputs": [
    {
     "name": "stdout",
     "output_type": "stream",
     "text": [
      "R2 score and RMSE for selected features:\n",
      "\n",
      "1.\n",
      "R2 score for: 0.35638707628942556\n",
      "RMSE score for: 358.4545782094548\n",
      "*************************************\n",
      "2.\n",
      "R2 score for: 0.4655839905922253\n",
      "RMSE score for: 326.6340707420446\n",
      "*************************************\n",
      "3.\n",
      "R2 score for: 0.5259121171363682\n",
      "RMSE score for: 307.64593515107873\n",
      "*************************************\n",
      "4.\n",
      "R2 score for: 0.4687944622297736\n",
      "RMSE score for: 325.6514756528822\n",
      "*************************************\n"
     ]
    }
   ],
   "source": [
    "# No significant improvement from the base model\n",
    "lr = LinearRegression()\n",
    "dt = DecisionTreeRegressor(random_state=1)\n",
    "rf = RandomForestRegressor(random_state=1)\n",
    "knn = KNeighborsRegressor()\n",
    "\n",
    "print(\"R2 score and RMSE for selected features:\\n\")\n",
    "models = [lr, dt, rf, knn]\n",
    "i = 1\n",
    "for mod in models: \n",
    "    mod.fit(X_train_fs, y_train_fs)\n",
    "    y_pred_fs = mod.predict(X_test_fs)\n",
    "    acc = r2_score(y_test_fs, y_pred_fs)\n",
    "    mse = mean_squared_error(y_test_fs, y_pred_fs)\n",
    "    print(f\"{i}.\")\n",
    "    print(f\"R2 score for: {acc}\")\n",
    "    print(f\"RMSE score for: {np.sqrt(mse)}\")\n",
    "    print(\"*************************************\")\n",
    "    i+=1"
   ]
  },
  {
   "cell_type": "code",
   "execution_count": 32,
   "id": "2ebab1a3",
   "metadata": {},
   "outputs": [
    {
     "data": {
      "text/html": [
       "<style type=\"text/css\">\n",
       "#T_858a6_row3_col1, #T_858a6_row27_col1, #T_858a6_row40_col1, #T_858a6_row42_col1 {\n",
       "  background-color: lightgreen;\n",
       "}\n",
       "</style>\n",
       "<table id=\"T_858a6\">\n",
       "  <thead>\n",
       "    <tr>\n",
       "      <th class=\"blank level0\" >&nbsp;</th>\n",
       "      <th id=\"T_858a6_level0_col0\" class=\"col_heading level0 col0\" >Description</th>\n",
       "      <th id=\"T_858a6_level0_col1\" class=\"col_heading level0 col1\" >Value</th>\n",
       "    </tr>\n",
       "  </thead>\n",
       "  <tbody>\n",
       "    <tr>\n",
       "      <th id=\"T_858a6_level0_row0\" class=\"row_heading level0 row0\" >0</th>\n",
       "      <td id=\"T_858a6_row0_col0\" class=\"data row0 col0\" >session_id</td>\n",
       "      <td id=\"T_858a6_row0_col1\" class=\"data row0 col1\" >1098</td>\n",
       "    </tr>\n",
       "    <tr>\n",
       "      <th id=\"T_858a6_level0_row1\" class=\"row_heading level0 row1\" >1</th>\n",
       "      <td id=\"T_858a6_row1_col0\" class=\"data row1 col0\" >Target</td>\n",
       "      <td id=\"T_858a6_row1_col1\" class=\"data row1 col1\" >Salary</td>\n",
       "    </tr>\n",
       "    <tr>\n",
       "      <th id=\"T_858a6_level0_row2\" class=\"row_heading level0 row2\" >2</th>\n",
       "      <td id=\"T_858a6_row2_col0\" class=\"data row2 col0\" >Original Data</td>\n",
       "      <td id=\"T_858a6_row2_col1\" class=\"data row2 col1\" >(322, 20)</td>\n",
       "    </tr>\n",
       "    <tr>\n",
       "      <th id=\"T_858a6_level0_row3\" class=\"row_heading level0 row3\" >3</th>\n",
       "      <td id=\"T_858a6_row3_col0\" class=\"data row3 col0\" >Missing Values</td>\n",
       "      <td id=\"T_858a6_row3_col1\" class=\"data row3 col1\" >True</td>\n",
       "    </tr>\n",
       "    <tr>\n",
       "      <th id=\"T_858a6_level0_row4\" class=\"row_heading level0 row4\" >4</th>\n",
       "      <td id=\"T_858a6_row4_col0\" class=\"data row4 col0\" >Numeric Features</td>\n",
       "      <td id=\"T_858a6_row4_col1\" class=\"data row4 col1\" >16</td>\n",
       "    </tr>\n",
       "    <tr>\n",
       "      <th id=\"T_858a6_level0_row5\" class=\"row_heading level0 row5\" >5</th>\n",
       "      <td id=\"T_858a6_row5_col0\" class=\"data row5 col0\" >Categorical Features</td>\n",
       "      <td id=\"T_858a6_row5_col1\" class=\"data row5 col1\" >3</td>\n",
       "    </tr>\n",
       "    <tr>\n",
       "      <th id=\"T_858a6_level0_row6\" class=\"row_heading level0 row6\" >6</th>\n",
       "      <td id=\"T_858a6_row6_col0\" class=\"data row6 col0\" >Ordinal Features</td>\n",
       "      <td id=\"T_858a6_row6_col1\" class=\"data row6 col1\" >False</td>\n",
       "    </tr>\n",
       "    <tr>\n",
       "      <th id=\"T_858a6_level0_row7\" class=\"row_heading level0 row7\" >7</th>\n",
       "      <td id=\"T_858a6_row7_col0\" class=\"data row7 col0\" >High Cardinality Features</td>\n",
       "      <td id=\"T_858a6_row7_col1\" class=\"data row7 col1\" >False</td>\n",
       "    </tr>\n",
       "    <tr>\n",
       "      <th id=\"T_858a6_level0_row8\" class=\"row_heading level0 row8\" >8</th>\n",
       "      <td id=\"T_858a6_row8_col0\" class=\"data row8 col0\" >High Cardinality Method</td>\n",
       "      <td id=\"T_858a6_row8_col1\" class=\"data row8 col1\" >None</td>\n",
       "    </tr>\n",
       "    <tr>\n",
       "      <th id=\"T_858a6_level0_row9\" class=\"row_heading level0 row9\" >9</th>\n",
       "      <td id=\"T_858a6_row9_col0\" class=\"data row9 col0\" >Transformed Train Set</td>\n",
       "      <td id=\"T_858a6_row9_col1\" class=\"data row9 col1\" >(179, 12)</td>\n",
       "    </tr>\n",
       "    <tr>\n",
       "      <th id=\"T_858a6_level0_row10\" class=\"row_heading level0 row10\" >10</th>\n",
       "      <td id=\"T_858a6_row10_col0\" class=\"data row10 col0\" >Transformed Test Set</td>\n",
       "      <td id=\"T_858a6_row10_col1\" class=\"data row10 col1\" >(84, 12)</td>\n",
       "    </tr>\n",
       "    <tr>\n",
       "      <th id=\"T_858a6_level0_row11\" class=\"row_heading level0 row11\" >11</th>\n",
       "      <td id=\"T_858a6_row11_col0\" class=\"data row11 col0\" >Shuffle Train-Test</td>\n",
       "      <td id=\"T_858a6_row11_col1\" class=\"data row11 col1\" >True</td>\n",
       "    </tr>\n",
       "    <tr>\n",
       "      <th id=\"T_858a6_level0_row12\" class=\"row_heading level0 row12\" >12</th>\n",
       "      <td id=\"T_858a6_row12_col0\" class=\"data row12 col0\" >Stratify Train-Test</td>\n",
       "      <td id=\"T_858a6_row12_col1\" class=\"data row12 col1\" >False</td>\n",
       "    </tr>\n",
       "    <tr>\n",
       "      <th id=\"T_858a6_level0_row13\" class=\"row_heading level0 row13\" >13</th>\n",
       "      <td id=\"T_858a6_row13_col0\" class=\"data row13 col0\" >Fold Generator</td>\n",
       "      <td id=\"T_858a6_row13_col1\" class=\"data row13 col1\" >KFold</td>\n",
       "    </tr>\n",
       "    <tr>\n",
       "      <th id=\"T_858a6_level0_row14\" class=\"row_heading level0 row14\" >14</th>\n",
       "      <td id=\"T_858a6_row14_col0\" class=\"data row14 col0\" >Fold Number</td>\n",
       "      <td id=\"T_858a6_row14_col1\" class=\"data row14 col1\" >10</td>\n",
       "    </tr>\n",
       "    <tr>\n",
       "      <th id=\"T_858a6_level0_row15\" class=\"row_heading level0 row15\" >15</th>\n",
       "      <td id=\"T_858a6_row15_col0\" class=\"data row15 col0\" >CPU Jobs</td>\n",
       "      <td id=\"T_858a6_row15_col1\" class=\"data row15 col1\" >-1</td>\n",
       "    </tr>\n",
       "    <tr>\n",
       "      <th id=\"T_858a6_level0_row16\" class=\"row_heading level0 row16\" >16</th>\n",
       "      <td id=\"T_858a6_row16_col0\" class=\"data row16 col0\" >Use GPU</td>\n",
       "      <td id=\"T_858a6_row16_col1\" class=\"data row16 col1\" >False</td>\n",
       "    </tr>\n",
       "    <tr>\n",
       "      <th id=\"T_858a6_level0_row17\" class=\"row_heading level0 row17\" >17</th>\n",
       "      <td id=\"T_858a6_row17_col0\" class=\"data row17 col0\" >Log Experiment</td>\n",
       "      <td id=\"T_858a6_row17_col1\" class=\"data row17 col1\" >False</td>\n",
       "    </tr>\n",
       "    <tr>\n",
       "      <th id=\"T_858a6_level0_row18\" class=\"row_heading level0 row18\" >18</th>\n",
       "      <td id=\"T_858a6_row18_col0\" class=\"data row18 col0\" >Experiment Name</td>\n",
       "      <td id=\"T_858a6_row18_col1\" class=\"data row18 col1\" >reg-default-name</td>\n",
       "    </tr>\n",
       "    <tr>\n",
       "      <th id=\"T_858a6_level0_row19\" class=\"row_heading level0 row19\" >19</th>\n",
       "      <td id=\"T_858a6_row19_col0\" class=\"data row19 col0\" >USI</td>\n",
       "      <td id=\"T_858a6_row19_col1\" class=\"data row19 col1\" >354c</td>\n",
       "    </tr>\n",
       "    <tr>\n",
       "      <th id=\"T_858a6_level0_row20\" class=\"row_heading level0 row20\" >20</th>\n",
       "      <td id=\"T_858a6_row20_col0\" class=\"data row20 col0\" >Imputation Type</td>\n",
       "      <td id=\"T_858a6_row20_col1\" class=\"data row20 col1\" >simple</td>\n",
       "    </tr>\n",
       "    <tr>\n",
       "      <th id=\"T_858a6_level0_row21\" class=\"row_heading level0 row21\" >21</th>\n",
       "      <td id=\"T_858a6_row21_col0\" class=\"data row21 col0\" >Iterative Imputation Iteration</td>\n",
       "      <td id=\"T_858a6_row21_col1\" class=\"data row21 col1\" >None</td>\n",
       "    </tr>\n",
       "    <tr>\n",
       "      <th id=\"T_858a6_level0_row22\" class=\"row_heading level0 row22\" >22</th>\n",
       "      <td id=\"T_858a6_row22_col0\" class=\"data row22 col0\" >Numeric Imputer</td>\n",
       "      <td id=\"T_858a6_row22_col1\" class=\"data row22 col1\" >mean</td>\n",
       "    </tr>\n",
       "    <tr>\n",
       "      <th id=\"T_858a6_level0_row23\" class=\"row_heading level0 row23\" >23</th>\n",
       "      <td id=\"T_858a6_row23_col0\" class=\"data row23 col0\" >Iterative Imputation Numeric Model</td>\n",
       "      <td id=\"T_858a6_row23_col1\" class=\"data row23 col1\" >None</td>\n",
       "    </tr>\n",
       "    <tr>\n",
       "      <th id=\"T_858a6_level0_row24\" class=\"row_heading level0 row24\" >24</th>\n",
       "      <td id=\"T_858a6_row24_col0\" class=\"data row24 col0\" >Categorical Imputer</td>\n",
       "      <td id=\"T_858a6_row24_col1\" class=\"data row24 col1\" >constant</td>\n",
       "    </tr>\n",
       "    <tr>\n",
       "      <th id=\"T_858a6_level0_row25\" class=\"row_heading level0 row25\" >25</th>\n",
       "      <td id=\"T_858a6_row25_col0\" class=\"data row25 col0\" >Iterative Imputation Categorical Model</td>\n",
       "      <td id=\"T_858a6_row25_col1\" class=\"data row25 col1\" >None</td>\n",
       "    </tr>\n",
       "    <tr>\n",
       "      <th id=\"T_858a6_level0_row26\" class=\"row_heading level0 row26\" >26</th>\n",
       "      <td id=\"T_858a6_row26_col0\" class=\"data row26 col0\" >Unknown Categoricals Handling</td>\n",
       "      <td id=\"T_858a6_row26_col1\" class=\"data row26 col1\" >least_frequent</td>\n",
       "    </tr>\n",
       "    <tr>\n",
       "      <th id=\"T_858a6_level0_row27\" class=\"row_heading level0 row27\" >27</th>\n",
       "      <td id=\"T_858a6_row27_col0\" class=\"data row27 col0\" >Normalize</td>\n",
       "      <td id=\"T_858a6_row27_col1\" class=\"data row27 col1\" >True</td>\n",
       "    </tr>\n",
       "    <tr>\n",
       "      <th id=\"T_858a6_level0_row28\" class=\"row_heading level0 row28\" >28</th>\n",
       "      <td id=\"T_858a6_row28_col0\" class=\"data row28 col0\" >Normalize Method</td>\n",
       "      <td id=\"T_858a6_row28_col1\" class=\"data row28 col1\" >zscore</td>\n",
       "    </tr>\n",
       "    <tr>\n",
       "      <th id=\"T_858a6_level0_row29\" class=\"row_heading level0 row29\" >29</th>\n",
       "      <td id=\"T_858a6_row29_col0\" class=\"data row29 col0\" >Transformation</td>\n",
       "      <td id=\"T_858a6_row29_col1\" class=\"data row29 col1\" >False</td>\n",
       "    </tr>\n",
       "    <tr>\n",
       "      <th id=\"T_858a6_level0_row30\" class=\"row_heading level0 row30\" >30</th>\n",
       "      <td id=\"T_858a6_row30_col0\" class=\"data row30 col0\" >Transformation Method</td>\n",
       "      <td id=\"T_858a6_row30_col1\" class=\"data row30 col1\" >None</td>\n",
       "    </tr>\n",
       "    <tr>\n",
       "      <th id=\"T_858a6_level0_row31\" class=\"row_heading level0 row31\" >31</th>\n",
       "      <td id=\"T_858a6_row31_col0\" class=\"data row31 col0\" >PCA</td>\n",
       "      <td id=\"T_858a6_row31_col1\" class=\"data row31 col1\" >False</td>\n",
       "    </tr>\n",
       "    <tr>\n",
       "      <th id=\"T_858a6_level0_row32\" class=\"row_heading level0 row32\" >32</th>\n",
       "      <td id=\"T_858a6_row32_col0\" class=\"data row32 col0\" >PCA Method</td>\n",
       "      <td id=\"T_858a6_row32_col1\" class=\"data row32 col1\" >None</td>\n",
       "    </tr>\n",
       "    <tr>\n",
       "      <th id=\"T_858a6_level0_row33\" class=\"row_heading level0 row33\" >33</th>\n",
       "      <td id=\"T_858a6_row33_col0\" class=\"data row33 col0\" >PCA Components</td>\n",
       "      <td id=\"T_858a6_row33_col1\" class=\"data row33 col1\" >None</td>\n",
       "    </tr>\n",
       "    <tr>\n",
       "      <th id=\"T_858a6_level0_row34\" class=\"row_heading level0 row34\" >34</th>\n",
       "      <td id=\"T_858a6_row34_col0\" class=\"data row34 col0\" >Ignore Low Variance</td>\n",
       "      <td id=\"T_858a6_row34_col1\" class=\"data row34 col1\" >False</td>\n",
       "    </tr>\n",
       "    <tr>\n",
       "      <th id=\"T_858a6_level0_row35\" class=\"row_heading level0 row35\" >35</th>\n",
       "      <td id=\"T_858a6_row35_col0\" class=\"data row35 col0\" >Combine Rare Levels</td>\n",
       "      <td id=\"T_858a6_row35_col1\" class=\"data row35 col1\" >False</td>\n",
       "    </tr>\n",
       "    <tr>\n",
       "      <th id=\"T_858a6_level0_row36\" class=\"row_heading level0 row36\" >36</th>\n",
       "      <td id=\"T_858a6_row36_col0\" class=\"data row36 col0\" >Rare Level Threshold</td>\n",
       "      <td id=\"T_858a6_row36_col1\" class=\"data row36 col1\" >None</td>\n",
       "    </tr>\n",
       "    <tr>\n",
       "      <th id=\"T_858a6_level0_row37\" class=\"row_heading level0 row37\" >37</th>\n",
       "      <td id=\"T_858a6_row37_col0\" class=\"data row37 col0\" >Numeric Binning</td>\n",
       "      <td id=\"T_858a6_row37_col1\" class=\"data row37 col1\" >False</td>\n",
       "    </tr>\n",
       "    <tr>\n",
       "      <th id=\"T_858a6_level0_row38\" class=\"row_heading level0 row38\" >38</th>\n",
       "      <td id=\"T_858a6_row38_col0\" class=\"data row38 col0\" >Remove Outliers</td>\n",
       "      <td id=\"T_858a6_row38_col1\" class=\"data row38 col1\" >False</td>\n",
       "    </tr>\n",
       "    <tr>\n",
       "      <th id=\"T_858a6_level0_row39\" class=\"row_heading level0 row39\" >39</th>\n",
       "      <td id=\"T_858a6_row39_col0\" class=\"data row39 col0\" >Outliers Threshold</td>\n",
       "      <td id=\"T_858a6_row39_col1\" class=\"data row39 col1\" >None</td>\n",
       "    </tr>\n",
       "    <tr>\n",
       "      <th id=\"T_858a6_level0_row40\" class=\"row_heading level0 row40\" >40</th>\n",
       "      <td id=\"T_858a6_row40_col0\" class=\"data row40 col0\" >Remove Multicollinearity</td>\n",
       "      <td id=\"T_858a6_row40_col1\" class=\"data row40 col1\" >True</td>\n",
       "    </tr>\n",
       "    <tr>\n",
       "      <th id=\"T_858a6_level0_row41\" class=\"row_heading level0 row41\" >41</th>\n",
       "      <td id=\"T_858a6_row41_col0\" class=\"data row41 col0\" >Multicollinearity Threshold</td>\n",
       "      <td id=\"T_858a6_row41_col1\" class=\"data row41 col1\" >0.900000</td>\n",
       "    </tr>\n",
       "    <tr>\n",
       "      <th id=\"T_858a6_level0_row42\" class=\"row_heading level0 row42\" >42</th>\n",
       "      <td id=\"T_858a6_row42_col0\" class=\"data row42 col0\" >Remove Perfect Collinearity</td>\n",
       "      <td id=\"T_858a6_row42_col1\" class=\"data row42 col1\" >True</td>\n",
       "    </tr>\n",
       "    <tr>\n",
       "      <th id=\"T_858a6_level0_row43\" class=\"row_heading level0 row43\" >43</th>\n",
       "      <td id=\"T_858a6_row43_col0\" class=\"data row43 col0\" >Clustering</td>\n",
       "      <td id=\"T_858a6_row43_col1\" class=\"data row43 col1\" >False</td>\n",
       "    </tr>\n",
       "    <tr>\n",
       "      <th id=\"T_858a6_level0_row44\" class=\"row_heading level0 row44\" >44</th>\n",
       "      <td id=\"T_858a6_row44_col0\" class=\"data row44 col0\" >Clustering Iteration</td>\n",
       "      <td id=\"T_858a6_row44_col1\" class=\"data row44 col1\" >None</td>\n",
       "    </tr>\n",
       "    <tr>\n",
       "      <th id=\"T_858a6_level0_row45\" class=\"row_heading level0 row45\" >45</th>\n",
       "      <td id=\"T_858a6_row45_col0\" class=\"data row45 col0\" >Polynomial Features</td>\n",
       "      <td id=\"T_858a6_row45_col1\" class=\"data row45 col1\" >False</td>\n",
       "    </tr>\n",
       "    <tr>\n",
       "      <th id=\"T_858a6_level0_row46\" class=\"row_heading level0 row46\" >46</th>\n",
       "      <td id=\"T_858a6_row46_col0\" class=\"data row46 col0\" >Polynomial Degree</td>\n",
       "      <td id=\"T_858a6_row46_col1\" class=\"data row46 col1\" >None</td>\n",
       "    </tr>\n",
       "    <tr>\n",
       "      <th id=\"T_858a6_level0_row47\" class=\"row_heading level0 row47\" >47</th>\n",
       "      <td id=\"T_858a6_row47_col0\" class=\"data row47 col0\" >Trignometry Features</td>\n",
       "      <td id=\"T_858a6_row47_col1\" class=\"data row47 col1\" >False</td>\n",
       "    </tr>\n",
       "    <tr>\n",
       "      <th id=\"T_858a6_level0_row48\" class=\"row_heading level0 row48\" >48</th>\n",
       "      <td id=\"T_858a6_row48_col0\" class=\"data row48 col0\" >Polynomial Threshold</td>\n",
       "      <td id=\"T_858a6_row48_col1\" class=\"data row48 col1\" >None</td>\n",
       "    </tr>\n",
       "    <tr>\n",
       "      <th id=\"T_858a6_level0_row49\" class=\"row_heading level0 row49\" >49</th>\n",
       "      <td id=\"T_858a6_row49_col0\" class=\"data row49 col0\" >Group Features</td>\n",
       "      <td id=\"T_858a6_row49_col1\" class=\"data row49 col1\" >False</td>\n",
       "    </tr>\n",
       "    <tr>\n",
       "      <th id=\"T_858a6_level0_row50\" class=\"row_heading level0 row50\" >50</th>\n",
       "      <td id=\"T_858a6_row50_col0\" class=\"data row50 col0\" >Feature Selection</td>\n",
       "      <td id=\"T_858a6_row50_col1\" class=\"data row50 col1\" >False</td>\n",
       "    </tr>\n",
       "    <tr>\n",
       "      <th id=\"T_858a6_level0_row51\" class=\"row_heading level0 row51\" >51</th>\n",
       "      <td id=\"T_858a6_row51_col0\" class=\"data row51 col0\" >Feature Selection Method</td>\n",
       "      <td id=\"T_858a6_row51_col1\" class=\"data row51 col1\" >classic</td>\n",
       "    </tr>\n",
       "    <tr>\n",
       "      <th id=\"T_858a6_level0_row52\" class=\"row_heading level0 row52\" >52</th>\n",
       "      <td id=\"T_858a6_row52_col0\" class=\"data row52 col0\" >Features Selection Threshold</td>\n",
       "      <td id=\"T_858a6_row52_col1\" class=\"data row52 col1\" >None</td>\n",
       "    </tr>\n",
       "    <tr>\n",
       "      <th id=\"T_858a6_level0_row53\" class=\"row_heading level0 row53\" >53</th>\n",
       "      <td id=\"T_858a6_row53_col0\" class=\"data row53 col0\" >Feature Interaction</td>\n",
       "      <td id=\"T_858a6_row53_col1\" class=\"data row53 col1\" >False</td>\n",
       "    </tr>\n",
       "    <tr>\n",
       "      <th id=\"T_858a6_level0_row54\" class=\"row_heading level0 row54\" >54</th>\n",
       "      <td id=\"T_858a6_row54_col0\" class=\"data row54 col0\" >Feature Ratio</td>\n",
       "      <td id=\"T_858a6_row54_col1\" class=\"data row54 col1\" >False</td>\n",
       "    </tr>\n",
       "    <tr>\n",
       "      <th id=\"T_858a6_level0_row55\" class=\"row_heading level0 row55\" >55</th>\n",
       "      <td id=\"T_858a6_row55_col0\" class=\"data row55 col0\" >Interaction Threshold</td>\n",
       "      <td id=\"T_858a6_row55_col1\" class=\"data row55 col1\" >None</td>\n",
       "    </tr>\n",
       "    <tr>\n",
       "      <th id=\"T_858a6_level0_row56\" class=\"row_heading level0 row56\" >56</th>\n",
       "      <td id=\"T_858a6_row56_col0\" class=\"data row56 col0\" >Transform Target</td>\n",
       "      <td id=\"T_858a6_row56_col1\" class=\"data row56 col1\" >False</td>\n",
       "    </tr>\n",
       "    <tr>\n",
       "      <th id=\"T_858a6_level0_row57\" class=\"row_heading level0 row57\" >57</th>\n",
       "      <td id=\"T_858a6_row57_col0\" class=\"data row57 col0\" >Transform Target Method</td>\n",
       "      <td id=\"T_858a6_row57_col1\" class=\"data row57 col1\" >box-cox</td>\n",
       "    </tr>\n",
       "  </tbody>\n",
       "</table>\n"
      ],
      "text/plain": [
       "<pandas.io.formats.style.Styler at 0x252d0dc8eb0>"
      ]
     },
     "metadata": {},
     "output_type": "display_data"
    }
   ],
   "source": [
    "from pycaret.regression import *\n",
    "\n",
    "demo = setup(data = df, target = 'Salary', \n",
    "                   normalize = True,\n",
    "                   remove_multicollinearity = True) "
   ]
  },
  {
   "cell_type": "code",
   "execution_count": 33,
   "id": "3a383bab",
   "metadata": {},
   "outputs": [
    {
     "data": {
      "text/html": [
       "<style type=\"text/css\">\n",
       "#T_87100 th {\n",
       "  text-align: left;\n",
       "}\n",
       "#T_87100_row0_col0, #T_87100_row0_col1, #T_87100_row0_col5, #T_87100_row0_col6, #T_87100_row1_col0, #T_87100_row1_col2, #T_87100_row1_col3, #T_87100_row1_col4, #T_87100_row2_col0, #T_87100_row2_col1, #T_87100_row2_col2, #T_87100_row2_col3, #T_87100_row2_col4, #T_87100_row2_col5, #T_87100_row2_col6, #T_87100_row3_col0, #T_87100_row3_col1, #T_87100_row3_col2, #T_87100_row3_col3, #T_87100_row3_col4, #T_87100_row3_col5, #T_87100_row3_col6, #T_87100_row4_col0, #T_87100_row4_col1, #T_87100_row4_col2, #T_87100_row4_col3, #T_87100_row4_col4, #T_87100_row4_col5, #T_87100_row4_col6, #T_87100_row5_col0, #T_87100_row5_col1, #T_87100_row5_col2, #T_87100_row5_col3, #T_87100_row5_col4, #T_87100_row5_col5, #T_87100_row5_col6, #T_87100_row6_col0, #T_87100_row6_col1, #T_87100_row6_col2, #T_87100_row6_col3, #T_87100_row6_col4, #T_87100_row6_col5, #T_87100_row6_col6, #T_87100_row7_col0, #T_87100_row7_col1, #T_87100_row7_col2, #T_87100_row7_col3, #T_87100_row7_col4, #T_87100_row7_col5, #T_87100_row7_col6, #T_87100_row8_col0, #T_87100_row8_col1, #T_87100_row8_col2, #T_87100_row8_col3, #T_87100_row8_col4, #T_87100_row8_col5, #T_87100_row8_col6, #T_87100_row9_col0, #T_87100_row9_col1, #T_87100_row9_col2, #T_87100_row9_col3, #T_87100_row9_col4, #T_87100_row9_col5, #T_87100_row9_col6, #T_87100_row10_col0, #T_87100_row10_col1, #T_87100_row10_col2, #T_87100_row10_col3, #T_87100_row10_col4, #T_87100_row10_col5, #T_87100_row10_col6, #T_87100_row11_col0, #T_87100_row11_col1, #T_87100_row11_col2, #T_87100_row11_col3, #T_87100_row11_col4, #T_87100_row11_col5, #T_87100_row11_col6, #T_87100_row12_col0, #T_87100_row12_col1, #T_87100_row12_col2, #T_87100_row12_col3, #T_87100_row12_col4, #T_87100_row12_col5, #T_87100_row12_col6, #T_87100_row13_col0, #T_87100_row13_col1, #T_87100_row13_col2, #T_87100_row13_col3, #T_87100_row13_col4, #T_87100_row13_col5, #T_87100_row13_col6, #T_87100_row14_col0, #T_87100_row14_col1, #T_87100_row14_col2, #T_87100_row14_col3, #T_87100_row14_col4, #T_87100_row14_col5, #T_87100_row14_col6, #T_87100_row15_col0, #T_87100_row15_col1, #T_87100_row15_col2, #T_87100_row15_col3, #T_87100_row15_col4, #T_87100_row15_col5, #T_87100_row15_col6, #T_87100_row16_col0, #T_87100_row16_col1, #T_87100_row16_col2, #T_87100_row16_col3, #T_87100_row16_col4, #T_87100_row16_col5, #T_87100_row16_col6, #T_87100_row17_col0, #T_87100_row17_col1, #T_87100_row17_col2, #T_87100_row17_col3, #T_87100_row17_col4, #T_87100_row17_col5, #T_87100_row17_col6 {\n",
       "  text-align: left;\n",
       "}\n",
       "#T_87100_row0_col2, #T_87100_row0_col3, #T_87100_row0_col4, #T_87100_row1_col1, #T_87100_row1_col5, #T_87100_row1_col6 {\n",
       "  text-align: left;\n",
       "  background-color: yellow;\n",
       "}\n",
       "#T_87100_row0_col7, #T_87100_row1_col7, #T_87100_row2_col7, #T_87100_row3_col7, #T_87100_row4_col7, #T_87100_row5_col7, #T_87100_row6_col7, #T_87100_row7_col7, #T_87100_row8_col7, #T_87100_row9_col7, #T_87100_row10_col7, #T_87100_row12_col7, #T_87100_row13_col7, #T_87100_row14_col7, #T_87100_row15_col7, #T_87100_row16_col7, #T_87100_row17_col7 {\n",
       "  text-align: left;\n",
       "  background-color: lightgrey;\n",
       "}\n",
       "#T_87100_row11_col7 {\n",
       "  text-align: left;\n",
       "  background-color: yellow;\n",
       "  background-color: lightgrey;\n",
       "}\n",
       "</style>\n",
       "<table id=\"T_87100\">\n",
       "  <thead>\n",
       "    <tr>\n",
       "      <th class=\"blank level0\" >&nbsp;</th>\n",
       "      <th id=\"T_87100_level0_col0\" class=\"col_heading level0 col0\" >Model</th>\n",
       "      <th id=\"T_87100_level0_col1\" class=\"col_heading level0 col1\" >MAE</th>\n",
       "      <th id=\"T_87100_level0_col2\" class=\"col_heading level0 col2\" >MSE</th>\n",
       "      <th id=\"T_87100_level0_col3\" class=\"col_heading level0 col3\" >RMSE</th>\n",
       "      <th id=\"T_87100_level0_col4\" class=\"col_heading level0 col4\" >R2</th>\n",
       "      <th id=\"T_87100_level0_col5\" class=\"col_heading level0 col5\" >RMSLE</th>\n",
       "      <th id=\"T_87100_level0_col6\" class=\"col_heading level0 col6\" >MAPE</th>\n",
       "      <th id=\"T_87100_level0_col7\" class=\"col_heading level0 col7\" >TT (Sec)</th>\n",
       "    </tr>\n",
       "  </thead>\n",
       "  <tbody>\n",
       "    <tr>\n",
       "      <th id=\"T_87100_level0_row0\" class=\"row_heading level0 row0\" >et</th>\n",
       "      <td id=\"T_87100_row0_col0\" class=\"data row0 col0\" >Extra Trees Regressor</td>\n",
       "      <td id=\"T_87100_row0_col1\" class=\"data row0 col1\" >186.0587</td>\n",
       "      <td id=\"T_87100_row0_col2\" class=\"data row0 col2\" >92627.0378</td>\n",
       "      <td id=\"T_87100_row0_col3\" class=\"data row0 col3\" >285.3772</td>\n",
       "      <td id=\"T_87100_row0_col4\" class=\"data row0 col4\" >0.5289</td>\n",
       "      <td id=\"T_87100_row0_col5\" class=\"data row0 col5\" >0.5060</td>\n",
       "      <td id=\"T_87100_row0_col6\" class=\"data row0 col6\" >0.4772</td>\n",
       "      <td id=\"T_87100_row0_col7\" class=\"data row0 col7\" >0.0640</td>\n",
       "    </tr>\n",
       "    <tr>\n",
       "      <th id=\"T_87100_level0_row1\" class=\"row_heading level0 row1\" >rf</th>\n",
       "      <td id=\"T_87100_row1_col0\" class=\"data row1 col0\" >Random Forest Regressor</td>\n",
       "      <td id=\"T_87100_row1_col1\" class=\"data row1 col1\" >181.4689</td>\n",
       "      <td id=\"T_87100_row1_col2\" class=\"data row1 col2\" >95674.1236</td>\n",
       "      <td id=\"T_87100_row1_col3\" class=\"data row1 col3\" >290.3962</td>\n",
       "      <td id=\"T_87100_row1_col4\" class=\"data row1 col4\" >0.5019</td>\n",
       "      <td id=\"T_87100_row1_col5\" class=\"data row1 col5\" >0.4823</td>\n",
       "      <td id=\"T_87100_row1_col6\" class=\"data row1 col6\" >0.4253</td>\n",
       "      <td id=\"T_87100_row1_col7\" class=\"data row1 col7\" >0.0820</td>\n",
       "    </tr>\n",
       "    <tr>\n",
       "      <th id=\"T_87100_level0_row2\" class=\"row_heading level0 row2\" >ada</th>\n",
       "      <td id=\"T_87100_row2_col0\" class=\"data row2 col0\" >AdaBoost Regressor</td>\n",
       "      <td id=\"T_87100_row2_col1\" class=\"data row2 col1\" >219.6380</td>\n",
       "      <td id=\"T_87100_row2_col2\" class=\"data row2 col2\" >100687.1635</td>\n",
       "      <td id=\"T_87100_row2_col3\" class=\"data row2 col3\" >301.9564</td>\n",
       "      <td id=\"T_87100_row2_col4\" class=\"data row2 col4\" >0.4836</td>\n",
       "      <td id=\"T_87100_row2_col5\" class=\"data row2 col5\" >0.6739</td>\n",
       "      <td id=\"T_87100_row2_col6\" class=\"data row2 col6\" >0.8017</td>\n",
       "      <td id=\"T_87100_row2_col7\" class=\"data row2 col7\" >0.0330</td>\n",
       "    </tr>\n",
       "    <tr>\n",
       "      <th id=\"T_87100_level0_row3\" class=\"row_heading level0 row3\" >gbr</th>\n",
       "      <td id=\"T_87100_row3_col0\" class=\"data row3 col0\" >Gradient Boosting Regressor</td>\n",
       "      <td id=\"T_87100_row3_col1\" class=\"data row3 col1\" >196.5682</td>\n",
       "      <td id=\"T_87100_row3_col2\" class=\"data row3 col2\" >102741.9844</td>\n",
       "      <td id=\"T_87100_row3_col3\" class=\"data row3 col3\" >303.5299</td>\n",
       "      <td id=\"T_87100_row3_col4\" class=\"data row3 col4\" >0.4651</td>\n",
       "      <td id=\"T_87100_row3_col5\" class=\"data row3 col5\" >0.5318</td>\n",
       "      <td id=\"T_87100_row3_col6\" class=\"data row3 col6\" >0.4923</td>\n",
       "      <td id=\"T_87100_row3_col7\" class=\"data row3 col7\" >0.0250</td>\n",
       "    </tr>\n",
       "    <tr>\n",
       "      <th id=\"T_87100_level0_row4\" class=\"row_heading level0 row4\" >lightgbm</th>\n",
       "      <td id=\"T_87100_row4_col0\" class=\"data row4 col0\" >Light Gradient Boosting Machine</td>\n",
       "      <td id=\"T_87100_row4_col1\" class=\"data row4 col1\" >217.5265</td>\n",
       "      <td id=\"T_87100_row4_col2\" class=\"data row4 col2\" >105726.1484</td>\n",
       "      <td id=\"T_87100_row4_col3\" class=\"data row4 col3\" >310.1516</td>\n",
       "      <td id=\"T_87100_row4_col4\" class=\"data row4 col4\" >0.4369</td>\n",
       "      <td id=\"T_87100_row4_col5\" class=\"data row4 col5\" >0.6702</td>\n",
       "      <td id=\"T_87100_row4_col6\" class=\"data row4 col6\" >0.6112</td>\n",
       "      <td id=\"T_87100_row4_col7\" class=\"data row4 col7\" >0.0160</td>\n",
       "    </tr>\n",
       "    <tr>\n",
       "      <th id=\"T_87100_level0_row5\" class=\"row_heading level0 row5\" >par</th>\n",
       "      <td id=\"T_87100_row5_col0\" class=\"data row5 col0\" >Passive Aggressive Regressor</td>\n",
       "      <td id=\"T_87100_row5_col1\" class=\"data row5 col1\" >225.9255</td>\n",
       "      <td id=\"T_87100_row5_col2\" class=\"data row5 col2\" >123945.9898</td>\n",
       "      <td id=\"T_87100_row5_col3\" class=\"data row5 col3\" >332.3420</td>\n",
       "      <td id=\"T_87100_row5_col4\" class=\"data row5 col4\" >0.3663</td>\n",
       "      <td id=\"T_87100_row5_col5\" class=\"data row5 col5\" >0.7191</td>\n",
       "      <td id=\"T_87100_row5_col6\" class=\"data row5 col6\" >0.6633</td>\n",
       "      <td id=\"T_87100_row5_col7\" class=\"data row5 col7\" >0.0100</td>\n",
       "    </tr>\n",
       "    <tr>\n",
       "      <th id=\"T_87100_level0_row6\" class=\"row_heading level0 row6\" >llar</th>\n",
       "      <td id=\"T_87100_row6_col0\" class=\"data row6 col0\" >Lasso Least Angle Regression</td>\n",
       "      <td id=\"T_87100_row6_col1\" class=\"data row6 col1\" >235.5894</td>\n",
       "      <td id=\"T_87100_row6_col2\" class=\"data row6 col2\" >124825.6316</td>\n",
       "      <td id=\"T_87100_row6_col3\" class=\"data row6 col3\" >334.4133</td>\n",
       "      <td id=\"T_87100_row6_col4\" class=\"data row6 col4\" >0.3549</td>\n",
       "      <td id=\"T_87100_row6_col5\" class=\"data row6 col5\" >0.7110</td>\n",
       "      <td id=\"T_87100_row6_col6\" class=\"data row6 col6\" >0.7801</td>\n",
       "      <td id=\"T_87100_row6_col7\" class=\"data row6 col7\" >0.0080</td>\n",
       "    </tr>\n",
       "    <tr>\n",
       "      <th id=\"T_87100_level0_row7\" class=\"row_heading level0 row7\" >huber</th>\n",
       "      <td id=\"T_87100_row7_col0\" class=\"data row7 col0\" >Huber Regressor</td>\n",
       "      <td id=\"T_87100_row7_col1\" class=\"data row7 col1\" >227.4398</td>\n",
       "      <td id=\"T_87100_row7_col2\" class=\"data row7 col2\" >126153.9912</td>\n",
       "      <td id=\"T_87100_row7_col3\" class=\"data row7 col3\" >335.7438</td>\n",
       "      <td id=\"T_87100_row7_col4\" class=\"data row7 col4\" >0.3522</td>\n",
       "      <td id=\"T_87100_row7_col5\" class=\"data row7 col5\" >0.6763</td>\n",
       "      <td id=\"T_87100_row7_col6\" class=\"data row7 col6\" >0.6755</td>\n",
       "      <td id=\"T_87100_row7_col7\" class=\"data row7 col7\" >0.0110</td>\n",
       "    </tr>\n",
       "    <tr>\n",
       "      <th id=\"T_87100_level0_row8\" class=\"row_heading level0 row8\" >br</th>\n",
       "      <td id=\"T_87100_row8_col0\" class=\"data row8 col0\" >Bayesian Ridge</td>\n",
       "      <td id=\"T_87100_row8_col1\" class=\"data row8 col1\" >233.1663</td>\n",
       "      <td id=\"T_87100_row8_col2\" class=\"data row8 col2\" >123780.2933</td>\n",
       "      <td id=\"T_87100_row8_col3\" class=\"data row8 col3\" >333.7354</td>\n",
       "      <td id=\"T_87100_row8_col4\" class=\"data row8 col4\" >0.3509</td>\n",
       "      <td id=\"T_87100_row8_col5\" class=\"data row8 col5\" >0.7434</td>\n",
       "      <td id=\"T_87100_row8_col6\" class=\"data row8 col6\" >0.7694</td>\n",
       "      <td id=\"T_87100_row8_col7\" class=\"data row8 col7\" >0.0080</td>\n",
       "    </tr>\n",
       "    <tr>\n",
       "      <th id=\"T_87100_level0_row9\" class=\"row_heading level0 row9\" >en</th>\n",
       "      <td id=\"T_87100_row9_col0\" class=\"data row9 col0\" >Elastic Net</td>\n",
       "      <td id=\"T_87100_row9_col1\" class=\"data row9 col1\" >239.2413</td>\n",
       "      <td id=\"T_87100_row9_col2\" class=\"data row9 col2\" >124465.9777</td>\n",
       "      <td id=\"T_87100_row9_col3\" class=\"data row9 col3\" >336.8952</td>\n",
       "      <td id=\"T_87100_row9_col4\" class=\"data row9 col4\" >0.3440</td>\n",
       "      <td id=\"T_87100_row9_col5\" class=\"data row9 col5\" >0.7548</td>\n",
       "      <td id=\"T_87100_row9_col6\" class=\"data row9 col6\" >0.8432</td>\n",
       "      <td id=\"T_87100_row9_col7\" class=\"data row9 col7\" >0.0090</td>\n",
       "    </tr>\n",
       "    <tr>\n",
       "      <th id=\"T_87100_level0_row10\" class=\"row_heading level0 row10\" >lasso</th>\n",
       "      <td id=\"T_87100_row10_col0\" class=\"data row10 col0\" >Lasso Regression</td>\n",
       "      <td id=\"T_87100_row10_col1\" class=\"data row10 col1\" >236.3238</td>\n",
       "      <td id=\"T_87100_row10_col2\" class=\"data row10 col2\" >127250.4840</td>\n",
       "      <td id=\"T_87100_row10_col3\" class=\"data row10 col3\" >337.6493</td>\n",
       "      <td id=\"T_87100_row10_col4\" class=\"data row10 col4\" >0.3323</td>\n",
       "      <td id=\"T_87100_row10_col5\" class=\"data row10 col5\" >0.7288</td>\n",
       "      <td id=\"T_87100_row10_col6\" class=\"data row10 col6\" >0.7584</td>\n",
       "      <td id=\"T_87100_row10_col7\" class=\"data row10 col7\" >0.0080</td>\n",
       "    </tr>\n",
       "    <tr>\n",
       "      <th id=\"T_87100_level0_row11\" class=\"row_heading level0 row11\" >ridge</th>\n",
       "      <td id=\"T_87100_row11_col0\" class=\"data row11 col0\" >Ridge Regression</td>\n",
       "      <td id=\"T_87100_row11_col1\" class=\"data row11 col1\" >237.0329</td>\n",
       "      <td id=\"T_87100_row11_col2\" class=\"data row11 col2\" >127903.9457</td>\n",
       "      <td id=\"T_87100_row11_col3\" class=\"data row11 col3\" >338.5590</td>\n",
       "      <td id=\"T_87100_row11_col4\" class=\"data row11 col4\" >0.3281</td>\n",
       "      <td id=\"T_87100_row11_col5\" class=\"data row11 col5\" >0.7316</td>\n",
       "      <td id=\"T_87100_row11_col6\" class=\"data row11 col6\" >0.7629</td>\n",
       "      <td id=\"T_87100_row11_col7\" class=\"data row11 col7\" >0.0060</td>\n",
       "    </tr>\n",
       "    <tr>\n",
       "      <th id=\"T_87100_level0_row12\" class=\"row_heading level0 row12\" >lr</th>\n",
       "      <td id=\"T_87100_row12_col0\" class=\"data row12 col0\" >Linear Regression</td>\n",
       "      <td id=\"T_87100_row12_col1\" class=\"data row12 col1\" >238.1789</td>\n",
       "      <td id=\"T_87100_row12_col2\" class=\"data row12 col2\" >128957.6289</td>\n",
       "      <td id=\"T_87100_row12_col3\" class=\"data row12 col3\" >339.8662</td>\n",
       "      <td id=\"T_87100_row12_col4\" class=\"data row12 col4\" >0.3228</td>\n",
       "      <td id=\"T_87100_row12_col5\" class=\"data row12 col5\" >0.7240</td>\n",
       "      <td id=\"T_87100_row12_col6\" class=\"data row12 col6\" >0.7657</td>\n",
       "      <td id=\"T_87100_row12_col7\" class=\"data row12 col7\" >0.3500</td>\n",
       "    </tr>\n",
       "    <tr>\n",
       "      <th id=\"T_87100_level0_row13\" class=\"row_heading level0 row13\" >omp</th>\n",
       "      <td id=\"T_87100_row13_col0\" class=\"data row13 col0\" >Orthogonal Matching Pursuit</td>\n",
       "      <td id=\"T_87100_row13_col1\" class=\"data row13 col1\" >263.7394</td>\n",
       "      <td id=\"T_87100_row13_col2\" class=\"data row13 col2\" >143891.4054</td>\n",
       "      <td id=\"T_87100_row13_col3\" class=\"data row13 col3\" >358.7863</td>\n",
       "      <td id=\"T_87100_row13_col4\" class=\"data row13 col4\" >0.2826</td>\n",
       "      <td id=\"T_87100_row13_col5\" class=\"data row13 col5\" >0.7133</td>\n",
       "      <td id=\"T_87100_row13_col6\" class=\"data row13 col6\" >0.8467</td>\n",
       "      <td id=\"T_87100_row13_col7\" class=\"data row13 col7\" >0.0070</td>\n",
       "    </tr>\n",
       "    <tr>\n",
       "      <th id=\"T_87100_level0_row14\" class=\"row_heading level0 row14\" >knn</th>\n",
       "      <td id=\"T_87100_row14_col0\" class=\"data row14 col0\" >K Neighbors Regressor</td>\n",
       "      <td id=\"T_87100_row14_col1\" class=\"data row14 col1\" >250.8152</td>\n",
       "      <td id=\"T_87100_row14_col2\" class=\"data row14 col2\" >133262.1375</td>\n",
       "      <td id=\"T_87100_row14_col3\" class=\"data row14 col3\" >348.0015</td>\n",
       "      <td id=\"T_87100_row14_col4\" class=\"data row14 col4\" >0.2807</td>\n",
       "      <td id=\"T_87100_row14_col5\" class=\"data row14 col5\" >0.6954</td>\n",
       "      <td id=\"T_87100_row14_col6\" class=\"data row14 col6\" >0.7695</td>\n",
       "      <td id=\"T_87100_row14_col7\" class=\"data row14 col7\" >0.0100</td>\n",
       "    </tr>\n",
       "    <tr>\n",
       "      <th id=\"T_87100_level0_row15\" class=\"row_heading level0 row15\" >lar</th>\n",
       "      <td id=\"T_87100_row15_col0\" class=\"data row15 col0\" >Least Angle Regression</td>\n",
       "      <td id=\"T_87100_row15_col1\" class=\"data row15 col1\" >269.0870</td>\n",
       "      <td id=\"T_87100_row15_col2\" class=\"data row15 col2\" >167630.7998</td>\n",
       "      <td id=\"T_87100_row15_col3\" class=\"data row15 col3\" >382.2914</td>\n",
       "      <td id=\"T_87100_row15_col4\" class=\"data row15 col4\" >0.1190</td>\n",
       "      <td id=\"T_87100_row15_col5\" class=\"data row15 col5\" >0.7650</td>\n",
       "      <td id=\"T_87100_row15_col6\" class=\"data row15 col6\" >0.8642</td>\n",
       "      <td id=\"T_87100_row15_col7\" class=\"data row15 col7\" >0.0100</td>\n",
       "    </tr>\n",
       "    <tr>\n",
       "      <th id=\"T_87100_level0_row16\" class=\"row_heading level0 row16\" >dt</th>\n",
       "      <td id=\"T_87100_row16_col0\" class=\"data row16 col0\" >Decision Tree Regressor</td>\n",
       "      <td id=\"T_87100_row16_col1\" class=\"data row16 col1\" >263.4717</td>\n",
       "      <td id=\"T_87100_row16_col2\" class=\"data row16 col2\" >183778.3097</td>\n",
       "      <td id=\"T_87100_row16_col3\" class=\"data row16 col3\" >413.3600</td>\n",
       "      <td id=\"T_87100_row16_col4\" class=\"data row16 col4\" >0.0029</td>\n",
       "      <td id=\"T_87100_row16_col5\" class=\"data row16 col5\" >0.6627</td>\n",
       "      <td id=\"T_87100_row16_col6\" class=\"data row16 col6\" >0.5456</td>\n",
       "      <td id=\"T_87100_row16_col7\" class=\"data row16 col7\" >0.0070</td>\n",
       "    </tr>\n",
       "    <tr>\n",
       "      <th id=\"T_87100_level0_row17\" class=\"row_heading level0 row17\" >dummy</th>\n",
       "      <td id=\"T_87100_row17_col0\" class=\"data row17 col0\" >Dummy Regressor</td>\n",
       "      <td id=\"T_87100_row17_col1\" class=\"data row17 col1\" >339.3621</td>\n",
       "      <td id=\"T_87100_row17_col2\" class=\"data row17 col2\" >196906.1984</td>\n",
       "      <td id=\"T_87100_row17_col3\" class=\"data row17 col3\" >434.2836</td>\n",
       "      <td id=\"T_87100_row17_col4\" class=\"data row17 col4\" >-0.0591</td>\n",
       "      <td id=\"T_87100_row17_col5\" class=\"data row17 col5\" >0.9411</td>\n",
       "      <td id=\"T_87100_row17_col6\" class=\"data row17 col6\" >1.3775</td>\n",
       "      <td id=\"T_87100_row17_col7\" class=\"data row17 col7\" >0.0090</td>\n",
       "    </tr>\n",
       "  </tbody>\n",
       "</table>\n"
      ],
      "text/plain": [
       "<pandas.io.formats.style.Styler at 0x252c97285e0>"
      ]
     },
     "metadata": {},
     "output_type": "display_data"
    },
    {
     "data": {
      "text/plain": [
       "ExtraTreesRegressor(bootstrap=False, ccp_alpha=0.0, criterion='mse',\n",
       "                    max_depth=None, max_features='auto', max_leaf_nodes=None,\n",
       "                    max_samples=None, min_impurity_decrease=0.0,\n",
       "                    min_impurity_split=None, min_samples_leaf=1,\n",
       "                    min_samples_split=2, min_weight_fraction_leaf=0.0,\n",
       "                    n_estimators=100, n_jobs=-1, oob_score=False,\n",
       "                    random_state=1098, verbose=0, warm_start=False)"
      ]
     },
     "execution_count": 33,
     "metadata": {},
     "output_type": "execute_result"
    }
   ],
   "source": [
    "compare_models()"
   ]
  }
 ],
 "metadata": {
  "kernelspec": {
   "display_name": "base_env",
   "language": "python",
   "name": "python3"
  },
  "language_info": {
   "codemirror_mode": {
    "name": "ipython",
    "version": 3
   },
   "file_extension": ".py",
   "mimetype": "text/x-python",
   "name": "python",
   "nbconvert_exporter": "python",
   "pygments_lexer": "ipython3",
   "version": "3.8.13"
  },
  "vscode": {
   "interpreter": {
    "hash": "39512f3c2a1741d7f752d45a133d4514127029333ea14bc2f3c6c5e6759b9029"
   }
  }
 },
 "nbformat": 4,
 "nbformat_minor": 5
}
